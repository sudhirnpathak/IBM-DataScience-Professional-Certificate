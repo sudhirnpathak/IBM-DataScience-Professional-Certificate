{
 "cells": [
  {
   "cell_type": "markdown",
   "metadata": {},
   "source": [
    "# Python Tutorial\n",
    "\n",
    "When creating a programming language, we have two choices, to make it human friendly (high-level, close to humans ) or make it machine friendly (low level, close to machine language). Fortran, C, C++ are low level languages while Python, Perl, Ruby are high level languages. Low-level languages are compiled into a very low level machine language for the computer hardware to understand it.\n",
    "Instead, high-level languages like Python are not compiled. They are interpreted by a computer program called interpretor. High-level languages are typically slower than low-level languages but situation is fast improving and high-level languages are catching up with their low-level counterparts in performance. \n",
    "\n",
    "Python is a general purpose, high-level programming language which is very readable. Readability is important feature as a program is typically written once, but read many many times by same or different people. It is a dynamic language (also called scripting language), as compared to C/C++ which are static. By static we mean, we have to define the data type of a variable before using it. Once we have defined the data type, we can not change it. However, in dynamic language like Python, we do not need to declare the data type. When we assign a value to a variable, the variable is automatically declared as int/float/str/other-data-type."
   ]
  },
  {
   "cell_type": "markdown",
   "metadata": {},
   "source": [
    "<br>1. [Data Types](#datatypes)\n",
    "<br>2. [Variables](#variables)\n",
    "<br>3. [Files](#files)\n",
    "<br>4. [Logical Conditions](#conditions)\n",
    "<br>5. [Strings](#strings)\n",
    "<br>6. [Lists](#lists)\n",
    "<br>7. [Tuples](#tuples)\n",
    "<br>8. [Dictionary](#dictionary)\n",
    "<br>9. [Sets](#sets)\n",
    "<br>10. [Loops](#loops)\n",
    "<br>11. [Functions](#functions)\n",
    "<br>12. [Classes and Objects](#classes)\n",
    "<br>13. [Everything Else](#everything_else)"
   ]
  },
  {
   "cell_type": "markdown",
   "metadata": {},
   "source": [
    "<a id='datatypes'></a>\n",
    "## 1. Data Types\n",
    "In Python everything is an object. This includes numbers, strings, tuples, lists, dictionaries and functions as well."
   ]
  },
  {
   "cell_type": "code",
   "execution_count": null,
   "metadata": {},
   "outputs": [],
   "source": [
    "x = 1\n",
    "y = 3.14\n",
    "z = 'Sudhir'"
   ]
  },
  {
   "cell_type": "code",
   "execution_count": null,
   "metadata": {},
   "outputs": [],
   "source": [
    "print(type(x), type(y), type(z))                  # int, float, string data types"
   ]
  },
  {
   "cell_type": "code",
   "execution_count": null,
   "metadata": {},
   "outputs": [],
   "source": [
    "print(float(x), int(y))                           # typecasting : changing the datatype"
   ]
  },
  {
   "cell_type": "code",
   "execution_count": null,
   "metadata": {},
   "outputs": [],
   "source": [
    "print(type(int('1')), type(float('1.2')))         # a numeric string can be converted into number"
   ]
  },
  {
   "cell_type": "code",
   "execution_count": null,
   "metadata": {},
   "outputs": [],
   "source": [
    "int('1.2')                                        # however, taking int when string is of float-type does not work"
   ]
  },
  {
   "cell_type": "code",
   "execution_count": null,
   "metadata": {},
   "outputs": [],
   "source": [
    "float('1')                                        # taking float when string is of int type is fine"
   ]
  },
  {
   "cell_type": "code",
   "execution_count": null,
   "metadata": {},
   "outputs": [],
   "source": [
    "print(str(x), type(str(x)), str(y), type(str(y))) # changing int/float to string"
   ]
  },
  {
   "cell_type": "code",
   "execution_count": null,
   "metadata": {},
   "outputs": [],
   "source": [
    "temp = str(1.0e4)                                 # converting float in expoential format to string \n",
    "print(temp)                                       # whether 1.0e4 or 1e4, it will give 10000.0"
   ]
  },
  {
   "cell_type": "code",
   "execution_count": null,
   "metadata": {},
   "outputs": [],
   "source": [
    "switch1 = True                                  # T is always uppercase\n",
    "switch2 = False                                 # F is always uppercase\n",
    "print(type(switch1), type(switch2))             # boolean datatype"
   ]
  },
  {
   "cell_type": "code",
   "execution_count": null,
   "metadata": {},
   "outputs": [],
   "source": [
    "print(int(switch1), float(switch1), int(switch2), float(switch2))  # a boolean can be typecasted into integer/float"
   ]
  },
  {
   "cell_type": "code",
   "execution_count": null,
   "metadata": {},
   "outputs": [],
   "source": [
    "print(str(True), type(str(True)))"
   ]
  },
  {
   "cell_type": "markdown",
   "metadata": {},
   "source": [
    "<a id='variables'></a>\n",
    "## 2. Variables\n",
    "\n",
    "Variable names can only contain these characters:\n",
    "\n",
    "    - Lower case letters (a through z)\n",
    "    - Upper case letters (a through z)\n",
    "    - Digits (0 through 9)               :    Names can not begin with a digit\n",
    "    - Underscore ( _ )                   :    Python treats names that begin with an underscore in special ways\n",
    "\n",
    "Names that begin and end with two underscores ( \\__ ) are reserved for use within Python, so we should not use them with our own variables."
   ]
  },
  {
   "cell_type": "code",
   "execution_count": null,
   "metadata": {},
   "outputs": [],
   "source": [
    "x = 01                  # 0 before integers are not allowed"
   ]
  },
  {
   "cell_type": "code",
   "execution_count": null,
   "metadata": {},
   "outputs": [],
   "source": [
    "x = +1                  # + sign before an integer is fine, as well as -"
   ]
  },
  {
   "cell_type": "code",
   "execution_count": null,
   "metadata": {},
   "outputs": [],
   "source": [
    "x = 5\n",
    "y = 2\n",
    "z = x/y                 # floating point division : dividing an integer by integer will give floating value\n",
    "z"
   ]
  },
  {
   "cell_type": "code",
   "execution_count": null,
   "metadata": {},
   "outputs": [],
   "source": [
    "x = 5\n",
    "y = 2\n",
    "z = x//y                # integer division : gives integer value, after discarding the remainder\n",
    "z"
   ]
  },
  {
   "cell_type": "code",
   "execution_count": null,
   "metadata": {},
   "outputs": [],
   "source": [
    "x = 5\n",
    "y = 2.0\n",
    "z = x//y                # if numerator or denominator is float in an integer division, \n",
    "z                       # the output will be an integer value float"
   ]
  },
  {
   "cell_type": "markdown",
   "metadata": {},
   "source": [
    "Thus, to conclude, a floating-point division will always give floating point output. However, integer division will give integer output only if numerator and denominator are integers. If any of them are float-type, the output will be of float type."
   ]
  },
  {
   "cell_type": "code",
   "execution_count": null,
   "metadata": {},
   "outputs": [],
   "source": [
    "x = 8                      # short-hand notation for all mathematical operators\n",
    "\n",
    "x += 1\n",
    "print(x)\n",
    "\n",
    "x -= 1\n",
    "print(x)\n",
    "\n",
    "x *= 2\n",
    "print(x)\n",
    "\n",
    "x /= 2\n",
    "print(x)\n",
    "\n",
    "x //= 3\n",
    "print(x)\n",
    "\n",
    "x **= 2\n",
    "print(x)\n",
    "\n",
    "x = 19\n",
    "x %= 3\n",
    "print(x)"
   ]
  },
  {
   "cell_type": "code",
   "execution_count": null,
   "metadata": {},
   "outputs": [],
   "source": [
    "x = 9\n",
    "y = 4\n",
    "z = divmod(9,4)         # returns a tuple providing quotient and remainder both\n",
    "z"
   ]
  },
  {
   "cell_type": "markdown",
   "metadata": {},
   "source": [
    "**Bases** : A base is how many digits we can use until we need to 'carry the one' to the left. For an integer, we can use only 10 digits (0-9) at one place and for higher number we move 1 to the left.\n",
    "\n",
    "Let's see this in more detail. We can represents number 0-9 by a single digit. But, when we want to represent 10, there is no single digit to represent ten, so we move 1 to left and put a 0. This means we have 1 'tens' and 0 'ones'. This is decimal representation (base 10) we all are well familiar with.\n",
    "\n",
    "More generally, in a decimal representation, a number xyz means $10^2*x + 10^1*y + 10^0*z$\n",
    "\n",
    "In Python, we can express integers in three bases beside the decimal:\n",
    "\n",
    "    binary (base 2)            : 0b or 0B\n",
    "    octal (base 8)             : 0o or 0O\n",
    "    hex (base 16)              : 0x or 0X\n",
    "\n",
    "So, in binary representation, xyz = $2^2*x + 2^1*y + 2^0*z$"
   ]
  },
  {
   "cell_type": "code",
   "execution_count": null,
   "metadata": {},
   "outputs": [],
   "source": [
    "x = 10                     # decimal : 1 'ten' and 0 'ones'\n",
    "x"
   ]
  },
  {
   "cell_type": "code",
   "execution_count": null,
   "metadata": {},
   "outputs": [],
   "source": [
    "x = 0b11                   # binary : 1 'two' and 0 'ones'\n",
    "x"
   ]
  },
  {
   "cell_type": "code",
   "execution_count": null,
   "metadata": {},
   "outputs": [],
   "source": [
    "x = 0o10                   # octal : 1 'eight' and 0 'ones'\n",
    "x"
   ]
  },
  {
   "cell_type": "code",
   "execution_count": null,
   "metadata": {},
   "outputs": [],
   "source": [
    "x = 0x21                  # hexadecimal : 2 'sixteen' and 1 'ones'\n",
    "x                         # digits for base 16 are : 0,1,2,3,4,5,6,7,8,9,a,b,c,d,e,f\n",
    "                          # 0xa is a decimal 10, and 0xf is decimal 15"
   ]
  },
  {
   "cell_type": "markdown",
   "metadata": {},
   "source": [
    "In short, Number = (base of the representation ^ power of the position) * number at that position, followed by a summation over all positions"
   ]
  },
  {
   "cell_type": "markdown",
   "metadata": {},
   "source": [
    "<a id='files'></a>\n",
    "## 3. Files"
   ]
  },
  {
   "cell_type": "code",
   "execution_count": null,
   "metadata": {},
   "outputs": [],
   "source": [
    "filename = 'fileData.txt'\n",
    "\n",
    "ifile = open(filename)  # we use 'open' function to open the file 'filename' and assign it to the object 'ifile'\n",
    "\n",
    "print(ifile.name)       # attribute 'name' gives the name of the file opened with ifile object\n",
    "print(ifile.mode)       # attribute 'mode' gives the mode in which the file is opened\n",
    "\n",
    "ifile.close()"
   ]
  },
  {
   "cell_type": "code",
   "execution_count": null,
   "metadata": {},
   "outputs": [],
   "source": [
    "filename = 'fileData.txt'\n",
    "\n",
    "with open(filename) as ifile:                          # using 'with', we do not need to close the file, \n",
    "                                                       # it automatically closes at the end of indent\n",
    "    file_content = ifile.read()               # file_content is of str type, read() method reads whole file\n",
    "    #file_content = ifile.readline()\t      # file_content is of str type, readline() reads one line at a time\n",
    "    #file_content = ifile.readlines()         # file_content is of list type, \n",
    "                                              # each line of the file is a str-type element in the list\n",
    "\n",
    "    print(type(file_content))\n",
    "    print(file_content)"
   ]
  },
  {
   "cell_type": "code",
   "execution_count": null,
   "metadata": {},
   "outputs": [],
   "source": [
    "filename = 'fileData.txt'\n",
    "\n",
    "with open(filename) as ifile:\n",
    "    for line in ifile:              # using a loop to iterate thorough each line\n",
    "        print(line)"
   ]
  },
  {
   "cell_type": "code",
   "execution_count": null,
   "metadata": {},
   "outputs": [],
   "source": [
    "filename = 'fileData.txt'\n",
    "\n",
    "with open(filename) as ifile:\n",
    "    print(ifile.read(5))            # prints first 5 characters\n",
    "    print(ifile.read(8))            # prints next 8 characters\n",
    "    print(ifile.read(4))            # prints next 4 characters (includes newline and space characters too)"
   ]
  },
  {
   "cell_type": "code",
   "execution_count": null,
   "metadata": {},
   "outputs": [],
   "source": [
    "filename = 'outputFile.txt'\n",
    "\n",
    "with open(filename, 'w') as ofile:             # writing a file, use 'a' instead for appending\n",
    "    ofile.write('firstLineOfOutput\\n')\n",
    "    ofile.write('secondLineOfOutput\\n')"
   ]
  },
  {
   "cell_type": "markdown",
   "metadata": {},
   "source": [
    "<a id='conditions'></a>\n",
    "## 4. Logical Conditions\n",
    "\n",
    "Comparison operators\n",
    "\n",
    "    equal to \t\t\t         ==\n",
    "    not equal to \t\t\t     !=\n",
    "    greater than \t\t\t     >\n",
    "    less than \t\t\t        <\n",
    "    greater than or equal to \t >=\n",
    "    less than or equal to \t    <=\n",
    "    membership                    in\n",
    "    \n",
    "These operations return the boolean values True or False."
   ]
  },
  {
   "cell_type": "code",
   "execution_count": null,
   "metadata": {},
   "outputs": [],
   "source": [
    "print(ord('a'))                  # ascii character to decimal number representation\n",
    "print(chr(97))                   # ord method can be applied only to single alphabet  "
   ]
  },
  {
   "cell_type": "code",
   "execution_count": null,
   "metadata": {},
   "outputs": [],
   "source": [
    "if '+' > '!':                                            # if statement\n",
    "    print(ord('+'), 'is larger than', ord('!'))"
   ]
  },
  {
   "cell_type": "markdown",
   "metadata": {},
   "source": [
    "Although we can use any indentation we like, Python expects us to be consistent with code within a section—the lines need to be indented the same amount, lined up on the left. The recommended style, PEP-8, is to use four spaces. We should not use tabs, or mix tabs and spaces; it messes up the indent count."
   ]
  },
  {
   "cell_type": "code",
   "execution_count": null,
   "metadata": {},
   "outputs": [],
   "source": [
    "if 'B' > 'A':\n",
    "    print(ord('B'), 'is larger than', ord('A'))"
   ]
  },
  {
   "cell_type": "code",
   "execution_count": null,
   "metadata": {},
   "outputs": [],
   "source": [
    "if 'BA' > 'AB':                     # when there are multiple letters, first letter takes precedence in ordering\n",
    "    print(ord('B'), 'is larger than', ord('A'))"
   ]
  },
  {
   "cell_type": "code",
   "execution_count": null,
   "metadata": {},
   "outputs": [],
   "source": [
    "year = 1986\n",
    "\n",
    "if year > 1980 and year < 1990:             # and operator\n",
    "    print('Eighties born')\n",
    "    \n",
    "if year < 1980 or year > 1990:              # or operator\n",
    "    print('Not eighties born')"
   ]
  },
  {
   "cell_type": "code",
   "execution_count": null,
   "metadata": {},
   "outputs": [],
   "source": [
    "temp = 7                 # If we are 'and-ing' multiple comparisons with one variable, we can do this shortcut\n",
    "5 < temp < 10            # It is equivalent to (5 < temp) and (temp < 10)"
   ]
  },
  {
   "cell_type": "code",
   "execution_count": null,
   "metadata": {},
   "outputs": [],
   "source": [
    "temp = 7                 # we can also write longer comparisons\n",
    "5 < temp < 10 > 11       # (5 < temp) and (temp < 10) and (10 > 11)"
   ]
  },
  {
   "cell_type": "code",
   "execution_count": null,
   "metadata": {},
   "outputs": [],
   "source": [
    "str1 = 'Sudhir'\n",
    "str2 = 'Pathak'\n",
    "\n",
    "if str1 == str2:                           # comparison can be done on strings too\n",
    "    print('strings match')\n",
    "elif str1 != str2:                         # elif statement\n",
    "    print('strings do not match')"
   ]
  },
  {
   "cell_type": "code",
   "execution_count": null,
   "metadata": {},
   "outputs": [],
   "source": [
    "gender = 'F'\n",
    "\n",
    "if not (gender == 'M'):                    # not operator\n",
    "    print('No Sabrimala entry')\n",
    "else:                                      # else statement\n",
    "    print('Entry allowed')"
   ]
  },
  {
   "cell_type": "markdown",
   "metadata": {},
   "source": [
    "**What does Python consider as True or False:**\n",
    "\n",
    "A false value does not necessarily need to explicitly be False. For example, these are all considered False : \n",
    "<br>\n",
    "<br> False     : Boolean\n",
    "    <br> None      : null\n",
    "    <br> 0         : zero integer\n",
    "    <br> 0.0       : zero float\n",
    "    <br> ''        : empty string\n",
    "    <br> []        : empty list\n",
    "    <br> ()        : empty tuple\n",
    "    <br> {}        : empty dictionary\n",
    "    <br> set()     : empty set\n",
    "<br>\n",
    "<br>Anything else is considered True. \n",
    "<br>Python programs use this definition of “truthiness” (or in this case, “falsiness”) to check for empty data structures as well as False conditions."
   ]
  },
  {
   "cell_type": "code",
   "execution_count": null,
   "metadata": {},
   "outputs": [],
   "source": [
    "tempList = []\n",
    "\n",
    "if tempList:\n",
    "    print('List is not empty')\n",
    "else:\n",
    "    print('List is empty')"
   ]
  },
  {
   "cell_type": "code",
   "execution_count": null,
   "metadata": {},
   "outputs": [],
   "source": [
    "x, y, z = 1, 0, 1                # testing multiple flags at once\n",
    "\n",
    "if 1 in (x, y, z):               # passes if any one of x, y, z are 1\n",
    "    print('passed')\n",
    "else:\n",
    "    print('not passed')"
   ]
  },
  {
   "cell_type": "code",
   "execution_count": null,
   "metadata": {},
   "outputs": [],
   "source": [
    "x, y, z = 0, 0, 0                # testing multiple flags at once\n",
    "\n",
    "if any((x, y, z)):               # passes if any one of x, y, z are 1 : this only test for truthness\n",
    "    print('passed')\n",
    "else:\n",
    "    print('not passed')"
   ]
  },
  {
   "cell_type": "markdown",
   "metadata": {},
   "source": [
    "<a id='strings'></a>\n",
    "## 5. Strings\n",
    "\n",
    "Strings are Python sequence, a sequence of characters. Strings in Python are immutable. We can not change a string in-place "
   ]
  },
  {
   "cell_type": "code",
   "execution_count": null,
   "metadata": {},
   "outputs": [],
   "source": [
    "s1 = 'Michael Jackson'           # define few string examples\n",
    "s2 = \"1 2 3 4 5 6\"               # we can enclose in either single quotes or double quotes\n",
    "s3 = '! @ # $ % ^ & * ( )'"
   ]
  },
  {
   "cell_type": "code",
   "execution_count": null,
   "metadata": {},
   "outputs": [],
   "source": [
    "print(s1[0],s1[10])         # indexing. If the index is equal to or more than the length of string, we get exception"
   ]
  },
  {
   "cell_type": "code",
   "execution_count": null,
   "metadata": {},
   "outputs": [],
   "source": [
    "print(s3[-1], s3[-5])            # negative indexing"
   ]
  },
  {
   "cell_type": "markdown",
   "metadata": {},
   "source": [
    "Slice with [start : end : step]:\n",
    "\n",
    "    [:] extracts the entire sequence from start to end\n",
    "    [start :] specifies from the start offset to the end\n",
    "    [: end] specifies from the beginning to the end offset minus 1\n",
    "    [start : end] indicates from the start offset to the end offset minus 1\n",
    "    [start : end : step] extracts from the start offset to the end offset minus 1, skipping characters by step"
   ]
  },
  {
   "cell_type": "code",
   "execution_count": null,
   "metadata": {},
   "outputs": [],
   "source": [
    "print(s1[0:4], s2[4:7])          # slicing, the string can be thought of as a list with index 0,1,2,...."
   ]
  },
  {
   "cell_type": "code",
   "execution_count": null,
   "metadata": {},
   "outputs": [],
   "source": [
    "s1[0:5:2]                        # slice + stride : range 0 to 5, selecting every second index"
   ]
  },
  {
   "cell_type": "code",
   "execution_count": null,
   "metadata": {},
   "outputs": [],
   "source": [
    "s1[-3:]                          # starts at -3 and ends at the rightmost "
   ]
  },
  {
   "cell_type": "code",
   "execution_count": null,
   "metadata": {},
   "outputs": [],
   "source": [
    "s1[5:-3]                         # starts at 5 and ends at -4 (one before -3)"
   ]
  },
  {
   "cell_type": "code",
   "execution_count": null,
   "metadata": {},
   "outputs": [],
   "source": [
    "s1[-6:-3]                        # starts at -6 and ends at -4 (one before -3)"
   ]
  },
  {
   "cell_type": "code",
   "execution_count": null,
   "metadata": {},
   "outputs": [],
   "source": [
    "s1[::2]                          # from start to end, selecting every second index. \n",
    "                                 # first : refers to start:end\n",
    "                                 # second : refers stride size"
   ]
  },
  {
   "cell_type": "code",
   "execution_count": null,
   "metadata": {},
   "outputs": [],
   "source": [
    "s1[5::2]                         # from index 5 to end, at the step of 2"
   ]
  },
  {
   "cell_type": "code",
   "execution_count": null,
   "metadata": {},
   "outputs": [],
   "source": [
    "s1[:10:3]                        # from start to index 9, at the step of 3"
   ]
  },
  {
   "cell_type": "markdown",
   "metadata": {},
   "source": [
    "Given a negative step size, this Python slicer can also step backward. "
   ]
  },
  {
   "cell_type": "code",
   "execution_count": null,
   "metadata": {},
   "outputs": [],
   "source": [
    "s1[-1::-1]                       # starts at the end, and ends at the start, skipping nothing"
   ]
  },
  {
   "cell_type": "code",
   "execution_count": null,
   "metadata": {},
   "outputs": [],
   "source": [
    "s1[::-1]                         # we can get the same result as above using this expression"
   ]
  },
  {
   "cell_type": "markdown",
   "metadata": {},
   "source": [
    "Slices are more forgiving of bad offsets than are single-index lookups. A slice offset earlier than the beginning of a string is treated as 0, and one after the end is treated as -1, as is demonstrated in this next four examples :"
   ]
  },
  {
   "cell_type": "code",
   "execution_count": null,
   "metadata": {},
   "outputs": [],
   "source": [
    "s1[-50:]                         # from 50 before the end to the end"
   ]
  },
  {
   "cell_type": "code",
   "execution_count": null,
   "metadata": {},
   "outputs": [],
   "source": [
    "s1[-51:-50]                      # from 51 before the end to 50 before the end"
   ]
  },
  {
   "cell_type": "code",
   "execution_count": null,
   "metadata": {},
   "outputs": [],
   "source": [
    "s1[:70]                          # from the start to 69 after the start"
   ]
  },
  {
   "cell_type": "code",
   "execution_count": null,
   "metadata": {},
   "outputs": [],
   "source": [
    "s1[70:71]                       # from 70 after the start to 70 after the start "
   ]
  },
  {
   "cell_type": "code",
   "execution_count": null,
   "metadata": {},
   "outputs": [],
   "source": [
    "len(s3)                          # length of the string : spaces and newlines are counted in the length"
   ]
  },
  {
   "cell_type": "code",
   "execution_count": null,
   "metadata": {},
   "outputs": [],
   "source": [
    "s1+s2                            # addition of strings"
   ]
  },
  {
   "cell_type": "code",
   "execution_count": null,
   "metadata": {},
   "outputs": [],
   "source": [
    "'Sudhir ' 'Narayan ' 'Pathak'     # we can also combine literal strings just by having one after the other"
   ]
  },
  {
   "cell_type": "code",
   "execution_count": null,
   "metadata": {},
   "outputs": [],
   "source": [
    "s1 s2                             # does not work with string variables"
   ]
  },
  {
   "cell_type": "code",
   "execution_count": null,
   "metadata": {},
   "outputs": [],
   "source": [
    "3*s1                              # replication of strings"
   ]
  },
  {
   "cell_type": "code",
   "execution_count": null,
   "metadata": {},
   "outputs": [],
   "source": [
    "print(s1)                                               \n",
    "\n",
    "try:\n",
    "    s1[0] = J\n",
    "except:\n",
    "    print('Not allowed as strings are immutable')"
   ]
  },
  {
   "cell_type": "code",
   "execution_count": null,
   "metadata": {},
   "outputs": [],
   "source": [
    "temp1 = 'write'\n",
    "print(temp1)\n",
    "\n",
    "temp1.replace('i', 'o')\n",
    "print(temp1)                           # replace is not affecting the original string : it remains the same\n",
    "\n",
    "temp2 = temp1.replace('i', 'o')\n",
    "print(temp2)                           # however we can obtain a new string, with the change in the original string"
   ]
  },
  {
   "cell_type": "code",
   "execution_count": null,
   "metadata": {},
   "outputs": [],
   "source": [
    "s1 = s1 + ' is the best'       # strings are immutable. however, another string can be added to change original string\n",
    "s1"
   ]
  },
  {
   "cell_type": "markdown",
   "metadata": {
    "collapsed": true
   },
   "source": [
    "Strings are sequences, so many methods that work on lists and tuple work on strings. Additionaly, there are methods which work only for strings. When a method is applied to a string, the output is another string which is different from the original one."
   ]
  },
  {
   "cell_type": "code",
   "execution_count": null,
   "metadata": {},
   "outputs": [],
   "source": [
    "S1 = s1.upper()                # converts the string to uppercase\n",
    "s1, S1"
   ]
  },
  {
   "cell_type": "code",
   "execution_count": null,
   "metadata": {},
   "outputs": [],
   "source": [
    "s1new = s1.replace('Michael','Janet')              # replacing\n",
    "s1, s1new                                          "
   ]
  },
  {
   "cell_type": "code",
   "execution_count": null,
   "metadata": {},
   "outputs": [],
   "source": [
    "temp = 'a duck goes into a bar'\n",
    "temp1 = temp.replace('a ', 'a famous ')         # replaces all 'a ' by 'a famous '\n",
    "temp2 = temp.replace('a ', 'a famous ', 1)      # replaces one 'a ' by 'a famous '\n",
    "temp3 = temp.replace('a', 'a famous')           # no space after 'a', so even the a in the middle of word got replaced\n",
    "print(temp1)\n",
    "print(temp2)\n",
    "print(temp3)"
   ]
  },
  {
   "cell_type": "code",
   "execution_count": null,
   "metadata": {},
   "outputs": [],
   "source": [
    "s1.find('Jack')                     # finds the starting index of a particular segment of string\n",
    "                                    # first occurance, if the segment occurs many times\n",
    "                                    # last occurance of 'word' can be found using s1.rfind(word)"
   ]
  },
  {
   "cell_type": "code",
   "execution_count": null,
   "metadata": {},
   "outputs": [],
   "source": [
    "temp = 'The counting of the votes in under progress. The results will be declared soon.'\n",
    "temp.count('The')                   # counting the occurance of a particular string in the string"
   ]
  },
  {
   "cell_type": "code",
   "execution_count": null,
   "metadata": {},
   "outputs": [],
   "source": [
    "s = 'Hritik,Roshan,is,the,best'      # splitting a string into a list : it is split at the separator which is (,)\n",
    "ls = s.split(',')\n",
    "ls"
   ]
  },
  {
   "cell_type": "code",
   "execution_count": null,
   "metadata": {},
   "outputs": [],
   "source": [
    "s = 'Michael Jackson\\n\"is,the\"    best'      # If we do not explicitly specify a separator,\n",
    "ls = s.split()                               # it uses any sequence of white space characters - newlines, spaces, tabs\n",
    "ls"
   ]
  },
  {
   "cell_type": "code",
   "execution_count": null,
   "metadata": {},
   "outputs": [],
   "source": [
    "temp = 'a/b/c//d/e'                    # if we have more than one separator string in a row\n",
    "temp1 = temp.split('/')                # we get an empty string as a list item\n",
    "temp1"
   ]
  },
  {
   "cell_type": "code",
   "execution_count": null,
   "metadata": {},
   "outputs": [],
   "source": [
    "temp = 'a/b//c/d///e'\n",
    "temp1 = temp.split('//')               # if we use // as our separtor\n",
    "temp1"
   ]
  },
  {
   "cell_type": "code",
   "execution_count": null,
   "metadata": {},
   "outputs": [],
   "source": [
    "join_list = ['kasia', 'kushinagar', 'mathouli']       # join() function is opposite of split() : \n",
    "join_string = ', '.join(join_list)                    # it collapses a list of strings into a single string\n",
    "join_string                                           # first, we specify the string that glues everything together\n",
    "                                                      # then the list of strings to glue\n",
    "                                                      # in this example, we join with a comma and space (, )"
   ]
  },
  {
   "cell_type": "markdown",
   "metadata": {},
   "source": [
    "Note that join() is a string method, not a list method. \n",
    "<br>We can not say join_list.join(,) even though it seems more intuitive. \n",
    "<br>The argument to join is a string or any iterable sequence of strings (including a list), and its output is a string."
   ]
  },
  {
   "cell_type": "code",
   "execution_count": null,
   "metadata": {},
   "outputs": [],
   "source": [
    "join_list = ['kasia', 'kushinagar', 'mathouli'] \n",
    "join_string = '\\n'.join(join_list)                    # join with separating new lines\n",
    "print(join_string)                                    # try outputting without print statement also"
   ]
  },
  {
   "cell_type": "code",
   "execution_count": null,
   "metadata": {},
   "outputs": [],
   "source": [
    "join_string"
   ]
  },
  {
   "cell_type": "code",
   "execution_count": null,
   "metadata": {},
   "outputs": [],
   "source": [
    "s1 = \"example ' 1\"               # we have two kind of quotes characters so that one can be enclosed under other\n",
    "s2 = 'example \" 2'               # when required\n",
    "print(s1)\n",
    "print(s2)"
   ]
  },
  {
   "cell_type": "code",
   "execution_count": null,
   "metadata": {},
   "outputs": [],
   "source": [
    "s1 = '''test1'''                 # we can also use three single quotes or three double quotes\n",
    "s2 = \"\"\"test2\"\"\"\n",
    "print(s1)\n",
    "print(s2)"
   ]
  },
  {
   "cell_type": "markdown",
   "metadata": {},
   "source": [
    "However, triple quotes are not very useful for short strings. Their most common use is to create multiline strings:"
   ]
  },
  {
   "cell_type": "code",
   "execution_count": null,
   "metadata": {},
   "outputs": [],
   "source": [
    "s1 = '''This is the first line\n",
    "    and this is second\n",
    "    and this is third\n",
    "    and this is the last one'''\n",
    "s1"
   ]
  },
  {
   "cell_type": "markdown",
   "metadata": {},
   "source": [
    "This multiline statement can not be created by enclosing in one single or double quotes."
   ]
  },
  {
   "cell_type": "code",
   "execution_count": null,
   "metadata": {},
   "outputs": [],
   "source": [
    "print(s1)                  # this prints above string differently, stripping the quotes"
   ]
  },
  {
   "cell_type": "code",
   "execution_count": null,
   "metadata": {},
   "outputs": [],
   "source": [
    "s1 = '' # we can create empty string with single quotes, double quotes, triple single quotes, triple double quotes\n",
    "s1"
   ]
  },
  {
   "cell_type": "code",
   "execution_count": null,
   "metadata": {},
   "outputs": [],
   "source": [
    "'''Why would we need an empty string ?\n",
    "    Sometimes we might want to build a string from other strings, and we need to start with a blank slate'''\n",
    "\n",
    "bottles = 99\n",
    "base = ''\n",
    "base += 'Current Inventory : '\n",
    "base += str(99)\n",
    "base"
   ]
  },
  {
   "cell_type": "code",
   "execution_count": null,
   "metadata": {},
   "outputs": [],
   "source": [
    "temp = '.A duck goes into a bar ...'                \n",
    "temp1 = temp.strip('.')                       # remove . sequences from both ends\n",
    "print(temp)\n",
    "print(temp1)"
   ]
  },
  {
   "cell_type": "markdown",
   "metadata": {},
   "source": [
    "Because strings are immutable, strip() actually does not change the original string. It just takes the value of original string, does something to it, and returns the result as a new string. The same is true for many string functions, like the replace method."
   ]
  },
  {
   "cell_type": "markdown",
   "metadata": {},
   "source": [
    "Python lets us escape the meaning of some characters within strings to achieve effects that would otherwise be hard to express. By preceding a character with a backslash, we give it a special meaning :"
   ]
  },
  {
   "cell_type": "code",
   "execution_count": null,
   "metadata": {},
   "outputs": [],
   "source": [
    "nameList = 'Sudhir,\\n Subodh,\\n Sushil'   # The most common escape sequence is \\n, which means to begin a new line. \n",
    "print(nameList)                           # With this we can create multiline strings from a one-line string."
   ]
  },
  {
   "cell_type": "code",
   "execution_count": null,
   "metadata": {},
   "outputs": [],
   "source": [
    "print('\\tabc')                                   # \\t is used to create tab space\n",
    "print('a\\tbc')\n",
    "print('ab\\tc')"
   ]
  },
  {
   "cell_type": "code",
   "execution_count": null,
   "metadata": {},
   "outputs": [],
   "source": [
    "print('Oh\\' Dear')                              # using \\' to get '"
   ]
  },
  {
   "cell_type": "code",
   "execution_count": null,
   "metadata": {},
   "outputs": [],
   "source": [
    "print('Backlash \\\\ in a string')                # using \\\\ to get a backslash"
   ]
  },
  {
   "cell_type": "markdown",
   "metadata": {},
   "source": [
    "<a id='lists'></a>\n",
    "## 6. Lists\n",
    "\n",
    "Lists are sequences of anything, unlike strings which are sequences of characters. In list, each element can be any Python object."
   ]
  },
  {
   "cell_type": "code",
   "execution_count": null,
   "metadata": {},
   "outputs": [],
   "source": [
    "int_list = [2, 1, 3]                                        # list of integers\n",
    "mixed_list = [1, 3.14, 'Sudhir']                            # list can contain elements of mixed datatypes\n",
    "nested_list = ['Sudhir', [2, 4, 6], 3.14, (3, 6)]           # list can contain other list/tuple as its element"
   ]
  },
  {
   "cell_type": "code",
   "execution_count": null,
   "metadata": {},
   "outputs": [],
   "source": [
    "int_list[0], int_list[-1], int_list[-3]                     # indexing"
   ]
  },
  {
   "cell_type": "code",
   "execution_count": null,
   "metadata": {},
   "outputs": [],
   "source": [
    "nested_list[1], nested_list[1][2], nested_list[0][4]        # second indexing"
   ]
  },
  {
   "cell_type": "code",
   "execution_count": null,
   "metadata": {},
   "outputs": [],
   "source": [
    "mixed_list.index('Sudhir')                  # we can get the index of an item in a list by its value"
   ]
  },
  {
   "cell_type": "code",
   "execution_count": null,
   "metadata": {},
   "outputs": [],
   "source": [
    "int_list[2] = 4                             # lists are mutable\n",
    "int_list"
   ]
  },
  {
   "cell_type": "markdown",
   "metadata": {},
   "source": [
    "The index has to be a valid one for list. If we specify an offset before the beginning or after the end, we will get an exception (error)."
   ]
  },
  {
   "cell_type": "code",
   "execution_count": null,
   "metadata": {},
   "outputs": [],
   "source": [
    "int_list[0:2]               # slicing a list : slice of a list is again a list"
   ]
  },
  {
   "cell_type": "code",
   "execution_count": null,
   "metadata": {},
   "outputs": [],
   "source": [
    "int_list[::2]               # from start to end at the step of 2"
   ]
  },
  {
   "cell_type": "code",
   "execution_count": null,
   "metadata": {},
   "outputs": [],
   "source": [
    "int_list[::-2]              # we start at end and go left by 2"
   ]
  },
  {
   "cell_type": "code",
   "execution_count": null,
   "metadata": {},
   "outputs": [],
   "source": [
    "int_list[::-1]              # reverses the list"
   ]
  },
  {
   "cell_type": "code",
   "execution_count": null,
   "metadata": {},
   "outputs": [],
   "source": [
    "int_list_conct = int_list + [4.0, 'Sudhir']            # concatenation of lists\n",
    "int_list_conct"
   ]
  },
  {
   "cell_type": "code",
   "execution_count": null,
   "metadata": {},
   "outputs": [],
   "source": [
    "int_list.extend([4.0, 'Sudhir'])                       # concatenation can be done by extend method also\n",
    "int_list"
   ]
  },
  {
   "cell_type": "code",
   "execution_count": null,
   "metadata": {},
   "outputs": [],
   "source": [
    "int_list.append([5.0, 'Pathak'])           # append adds only one element in the end, \n",
    "int_list                                   # so here it appended a list [5.0, 'Pathak'] to the original list  \n",
    "                                           # in contrast, extend added two elements to the list, 4.0 and 'Sudhir'"
   ]
  },
  {
   "cell_type": "code",
   "execution_count": null,
   "metadata": {},
   "outputs": [],
   "source": [
    "int_list.insert(1,4)            # using insert, we can add an element anywhere in the list : inserting 4 at index 1\n",
    "int_list                        # an index beyond the end of the list inserts at the end, like append"
   ]
  },
  {
   "cell_type": "code",
   "execution_count": null,
   "metadata": {},
   "outputs": [],
   "source": [
    "del(int_list[1])        # elements can be deleted from a list. when we delete an item by its position in the list,\n",
    "int_list                # the items that follow it move back to take the deleted item' space"
   ]
  },
  {
   "cell_type": "markdown",
   "metadata": {},
   "source": [
    "del is a Python statement, not a list method. We don’t say int_list[1].del(). \n",
    "<br>It’s sort of the reverse of assignment (=): It detaches a name from a Python object and can free up the object’s memory if that name was the last reference to it."
   ]
  },
  {
   "cell_type": "code",
   "execution_count": null,
   "metadata": {},
   "outputs": [],
   "source": [
    "mixed_list.remove('Sudhir')          # if we are not sure or do not care where the item is in the list,\n",
    "mixed_list                           # we use remove() to delete it by value"
   ]
  },
  {
   "cell_type": "code",
   "execution_count": null,
   "metadata": {},
   "outputs": [],
   "source": [
    "mixed_list.pop(2)       # we can get an item from a list and delete it from the list at the same time by using pop()\n",
    "mixed_list              # if we call pop() with an index, it will return the item at that index :\n",
    "                        # with no argument passed, it uses -1, removing the last item"
   ]
  },
  {
   "cell_type": "code",
   "execution_count": null,
   "metadata": {},
   "outputs": [],
   "source": [
    "'Sudhir' in mixed_list  # to check for the existence of a value in a list using in"
   ]
  },
  {
   "cell_type": "code",
   "execution_count": null,
   "metadata": {},
   "outputs": [],
   "source": [
    "'Pathak' in mixed_list  # the same value can be there more than one times. as long as it is there, it returns True"
   ]
  },
  {
   "cell_type": "code",
   "execution_count": null,
   "metadata": {},
   "outputs": [],
   "source": [
    "int_list_multi = 5*int_list                # multiplication \n",
    "int_list_multi"
   ]
  },
  {
   "cell_type": "code",
   "execution_count": null,
   "metadata": {},
   "outputs": [],
   "source": [
    "int_list.sort()                            # sorts the list in ascending order\n",
    "int_list                                   # list function sort() sorts the list itself, in place. "
   ]
  },
  {
   "cell_type": "code",
   "execution_count": null,
   "metadata": {},
   "outputs": [],
   "source": [
    "int_list.sort(reverse = True)               # sorts the array in descending order\n",
    "int_list                                    # sort() does not return any value. Rather, it changes the original list"
   ]
  },
  {
   "cell_type": "code",
   "execution_count": null,
   "metadata": {},
   "outputs": [],
   "source": [
    "sortedList = sorted(int_list)           # general function sorted() returns a sorted copy of the list\n",
    "print(int_list)                         # general function : not specific to list, otherwise it will be list.sorted()\n",
    "print(sortedList)"
   ]
  },
  {
   "cell_type": "code",
   "execution_count": null,
   "metadata": {},
   "outputs": [],
   "source": [
    "sortedList = sorted(int_list, reverse = True)\n",
    "sortedList"
   ]
  },
  {
   "cell_type": "code",
   "execution_count": null,
   "metadata": {},
   "outputs": [],
   "source": [
    "temp = ['Sushma', 'Sudhir', 'Subodh', 'Sudha', 'Sushil'] \n",
    "temp.sort()                            # a string list will be sorted alphabetically\n",
    "temp"
   ]
  },
  {
   "cell_type": "code",
   "execution_count": null,
   "metadata": {},
   "outputs": [],
   "source": [
    "temp = [1, 3.14, 'Sudhir']                  # does not work as it is a mix of numbers and strings\n",
    "temp.sort()                                 # if we remove 'Sudhir', it works : 1 and 3.14 are both numbers\n",
    "temp"
   ]
  },
  {
   "cell_type": "code",
   "execution_count": null,
   "metadata": {},
   "outputs": [],
   "source": [
    "print(len(int_list))                               # returns the length of the sequence\n",
    "print(sum(int_list))                               # sums all the elements of a list"
   ]
  },
  {
   "cell_type": "code",
   "execution_count": null,
   "metadata": {},
   "outputs": [],
   "source": [
    "int_list2 = int_list                   # multiple names referencing to the same object is called aliasing\n",
    "print(int_list, int_list2)\n",
    "\n",
    "int_list[0] = 4                        # we changed int_list\n",
    "print(int_list, int_list2)             # we changed int_list, and int_list2 got changed"
   ]
  },
  {
   "cell_type": "code",
   "execution_count": null,
   "metadata": {},
   "outputs": [],
   "source": [
    "int_list2 = int_list[:]                # to avoid this, one can use cloning : we are basically slicing\n",
    "print(int_list, int_list2)\n",
    "\n",
    "int_list[0] = 5\n",
    "print(int_list, int_list2)             # with cloning, change in original list will not effect the cloned list"
   ]
  },
  {
   "cell_type": "code",
   "execution_count": null,
   "metadata": {},
   "outputs": [],
   "source": [
    "list1 = [2, 1, 3]                      # to avoid aliasing effect, we have three options\n",
    "list2 = list1.copy()                   # using copy method of list\n",
    "list3 = list(list1)                    # using list function\n",
    "list4 = list1[:]                       # slicing : this method is called cloning\n",
    "\n",
    "list1[0] = 'Sudhir'                    # changing the list1\n",
    "print(list1)                           \n",
    "print(list2)                           # list2, list3, list4 are not affected\n",
    "print(list3)\n",
    "print(list4)"
   ]
  },
  {
   "cell_type": "code",
   "execution_count": null,
   "metadata": {},
   "outputs": [],
   "source": [
    "vowelList = ['a', 'e', 'i', 'o', 'u']              # understanding iterator\n",
    "vowelIter = iter(vowelList)\n",
    "\n",
    "print(next(vowelIter))\n",
    "print(next(vowelIter))\n",
    "print(next(vowelIter))\n",
    "print(next(vowelIter))\n",
    "print(next(vowelIter))"
   ]
  },
  {
   "cell_type": "markdown",
   "metadata": {},
   "source": [
    "A comprehension is a compact way of creating a Python data structure from  one or more iterators. \n",
    "<br>Comprehensions make it possible for us to combine loops and conditional tests with a less verbose syntax.\n",
    "<br>The simplest form of list comprehension is : ['expression' for 'item' in 'iterable']"
   ]
  },
  {
   "cell_type": "code",
   "execution_count": null,
   "metadata": {},
   "outputs": [],
   "source": [
    "temp = [number for number in range(1,6)]           # expression : number, item : number, iterable : range\n",
    "temp"
   ]
  },
  {
   "cell_type": "code",
   "execution_count": null,
   "metadata": {},
   "outputs": [],
   "source": [
    "temp = [2, 1, 3]\n",
    "temp1 = [x**2 for x in temp]\n",
    "temp1"
   ]
  },
  {
   "cell_type": "code",
   "execution_count": null,
   "metadata": {},
   "outputs": [],
   "source": [
    "temp = [2, 1, 3]                               # list comprehension with condition\n",
    "temp1 = [x**2 for x in temp if x%2]            # x%2 is True for odd numbers, and False for even numbers\n",
    "temp1"
   ]
  },
  {
   "cell_type": "code",
   "execution_count": null,
   "metadata": {},
   "outputs": [],
   "source": [
    "# Similar to nested loops, there can be more than one set of for clauses in comprehension\n",
    "\n",
    "cells = [(row, col) for row in range(1,4) for col in range(1,3)]        # its like row interates over the outer loop\n",
    "cells                                                                   # and column over the inner loop"
   ]
  },
  {
   "cell_type": "code",
   "execution_count": null,
   "metadata": {},
   "outputs": [],
   "source": [
    "empty_list = list()                       # using list function to create empty list\n",
    "empty_list"
   ]
  },
  {
   "cell_type": "markdown",
   "metadata": {},
   "source": [
    "We can use list() function to convert other data types to list"
   ]
  },
  {
   "cell_type": "code",
   "execution_count": null,
   "metadata": {},
   "outputs": [],
   "source": [
    "temp = list('cat')                      # converts a string to a list of one character strings\n",
    "temp"
   ]
  },
  {
   "cell_type": "code",
   "execution_count": null,
   "metadata": {},
   "outputs": [],
   "source": [
    "temp = ('ready', 'aim', 'fire')         \n",
    "templist = list(temp)                   # converts a tuple to a list\n",
    "templist"
   ]
  },
  {
   "cell_type": "code",
   "execution_count": null,
   "metadata": {},
   "outputs": [],
   "source": [
    "temp = ['Sudhir', 'Pathak', 'Sudhir', 'Kasia']     # to count how many times a particular value occurs in a list\n",
    "temp.count('Sudhir')"
   ]
  },
  {
   "cell_type": "markdown",
   "metadata": {},
   "source": [
    "<a id='tuples'></a>\n",
    "## 7. Tuples\n",
    "\n",
    "Similar to lists, tuples are sequence of arbitrary items. \n",
    "<br> Unlike lists, tuples are immutable, meaning we can not add, delete or change items after tuple is defined.\n",
    "<br> The syntax to make tuples is a little inconsistent, as can be seen from some examples below. "
   ]
  },
  {
   "cell_type": "code",
   "execution_count": null,
   "metadata": {},
   "outputs": [],
   "source": [
    "temp = ()          # an empty tuple\n",
    "temp"
   ]
  },
  {
   "cell_type": "code",
   "execution_count": null,
   "metadata": {},
   "outputs": [],
   "source": [
    "temp = 'Sudhir',         # creates one element tuple : the comma is required, otherwise it will be a string\n",
    "temp"
   ]
  },
  {
   "cell_type": "code",
   "execution_count": null,
   "metadata": {},
   "outputs": [],
   "source": [
    "temp = 'Sudhir', 'N', 'Pathak'      # if we have more than one element, we follow all but the last one with a comma\n",
    "temp"
   ]
  },
  {
   "cell_type": "markdown",
   "metadata": {},
   "source": [
    "Python includes parentheses when echoing a tuple. We do not need them - it’s the trailing commas that really define a tuple — but using parentheses doesn’t hurt. We can use them to enclose the values, which helps to make the tuple more visible."
   ]
  },
  {
   "cell_type": "code",
   "execution_count": null,
   "metadata": {},
   "outputs": [],
   "source": [
    "x = (2, 1, 3)                                     # tuple of integers\n",
    "y = ('Sudhir', 3.14, 2)                           # mixed datatype tuple\n",
    "z = (2, ('Sudhir', 'Pathak'), 3.14, [4, 8])       # nesting : a tuple can contain another tuple or list"
   ]
  },
  {
   "cell_type": "code",
   "execution_count": null,
   "metadata": {},
   "outputs": [],
   "source": [
    "print(x)\n",
    "print(y)\n",
    "print(z)"
   ]
  },
  {
   "cell_type": "code",
   "execution_count": null,
   "metadata": {},
   "outputs": [],
   "source": [
    "print(type(x), type(y), type(y[0]))               # datatype is tuple. we can also access element's datatype"
   ]
  },
  {
   "cell_type": "code",
   "execution_count": null,
   "metadata": {},
   "outputs": [],
   "source": [
    "len(y)"
   ]
  },
  {
   "cell_type": "code",
   "execution_count": null,
   "metadata": {},
   "outputs": [],
   "source": [
    "z[1][1][3]                             # indexing and negative indexing of a tuple is identical to list"
   ]
  },
  {
   "cell_type": "code",
   "execution_count": null,
   "metadata": {},
   "outputs": [],
   "source": [
    "z[1:3]                                 # slicing is also identical to a list"
   ]
  },
  {
   "cell_type": "code",
   "execution_count": null,
   "metadata": {},
   "outputs": [],
   "source": [
    "a = ('Pathak', 32)\n",
    "r = y + a                                      # two tuples can be concatenated\n",
    "r"
   ]
  },
  {
   "cell_type": "code",
   "execution_count": null,
   "metadata": {},
   "outputs": [],
   "source": [
    "try:\n",
    "    x[0] = 3\n",
    "except:\n",
    "    print('Not allowed as tuples are immutable')"
   ]
  },
  {
   "cell_type": "code",
   "execution_count": null,
   "metadata": {},
   "outputs": [],
   "source": [
    "z[3][0] = 6                                    # the list contained within the tuple is mutable\n",
    "z"
   ]
  },
  {
   "cell_type": "code",
   "execution_count": null,
   "metadata": {},
   "outputs": [],
   "source": [
    "z2 = z\n",
    "print(z)\n",
    "print(z2)\n",
    "\n",
    "print()\n",
    "\n",
    "z[3][0] = 7\n",
    "print(z)\n",
    "print(z2)                         # z2 changes, when we change z, as both are aliases"
   ]
  },
  {
   "cell_type": "code",
   "execution_count": null,
   "metadata": {},
   "outputs": [],
   "source": [
    "z2 = z[:]                       # cloning\n",
    "print(z)\n",
    "print(z2)                       \n",
    "\n",
    "print()\n",
    "\n",
    "z[3][0] = 6\n",
    "print(z)\n",
    "print(z2)                       # cloning does not seem to be working for tuples"
   ]
  },
  {
   "cell_type": "code",
   "execution_count": null,
   "metadata": {},
   "outputs": [],
   "source": [
    "temp = ('Sudhir', 'N', 'Pathak')               # tuples let us assign multiple variables at once\n",
    "firstName, middleName, lastName = temp         # this is sometimes called tuple unpacking\n",
    "print(firstName, middleName, lastName)"
   ]
  },
  {
   "cell_type": "code",
   "execution_count": null,
   "metadata": {},
   "outputs": [],
   "source": [
    "firstEntry = 'Sudhir'     # we can use tuples to exchange values in one statement without using a temporary variable\n",
    "lastEntry = 'Pathak'\n",
    "\n",
    "firstEntry, lastEntry = lastEntry, firstEntry\n",
    "\n",
    "print(firstEntry, lastEntry)"
   ]
  },
  {
   "cell_type": "code",
   "execution_count": null,
   "metadata": {},
   "outputs": [],
   "source": [
    "tempList = [1, 3.14, 'Sudhir']           # the tuple() conversion function makes tuples from other data structure\n",
    "tempTuple = tuple(tempList)              # using tuple() to convert list into a tuple\n",
    "tempTuple"
   ]
  },
  {
   "cell_type": "markdown",
   "metadata": {},
   "source": [
    "#### Tuple vs lists\n",
    "We can often use tuples in place of lists. \n",
    "<br>But they have many fewer functions — there is no append(), insert(), and so on—because they can’t be modified after creation. \n",
    "<br>Why not just use lists instead of tuples everywhere?\n",
    "<br> - Tuples use less space.\n",
    "<br> - We can’t clobber tuple items by mistake.\n",
    "<br> - We can use tuples as dictionary keys\n",
    "<br> - Named tuples can be a simple alternative to objects.\n",
    "<br> - Function arguments are passed as tuples\n",
    "<br> In everyday programming, we use lists and dictionaries more."
   ]
  },
  {
   "cell_type": "code",
   "execution_count": null,
   "metadata": {},
   "outputs": [],
   "source": [
    "temp = (number for number in range(1,6))    # tuples do not have comprehensions\n",
    "type(temp)                                  # it is a generator and not a tuple\n",
    "                                            # if we change () to [], it generates a list (list comprehensions)"
   ]
  },
  {
   "cell_type": "markdown",
   "metadata": {},
   "source": [
    "<a id='dictionary'></a>\n",
    "## 8. Dictionary\n",
    "\n",
    "A dictionary is a collection data type which has key-value pairs. \n",
    "<br> A dictionary is unordered (unlike list, tuples which are ordered),  and indexed by keys, and not by index-values as 0,1...\n",
    "<br> Dictionaries are mutable, so we can add, delete and change their key-value elements.\n",
    "<br> Keys have to be immutable and unique, whereas the values can be mutable or immutable and does not need to be unique.\n",
    "<br> The key is often a string, but it can actually be any of Python’s immutable types: boolean, integer, float, tuple, string\n",
    "<br> A list, set, dictionary can not be a dictionary key as a list/set/dictionary is not immutable.\n",
    "<br>Why we use dictionary in Python ? The reason would be that it is unordered and stores data like a map, which is one unique feature of Python dictionary. It has key-value pairs unlike other data types."
   ]
  },
  {
   "cell_type": "code",
   "execution_count": null,
   "metadata": {},
   "outputs": [],
   "source": [
    "temp = {}                 # simplest dictionary : empty dictionary containing no keys or values at all\n",
    "temp"
   ]
  },
  {
   "cell_type": "markdown",
   "metadata": {},
   "source": [
    "In Python, it’s okay to leave a comma after the last item of a list, tuple, or dictionary."
   ]
  },
  {
   "cell_type": "code",
   "execution_count": null,
   "metadata": {},
   "outputs": [],
   "source": [
    "dictA = {1:1, 2.0:3.14, 'key3':[2, 6.28, 'Sudhir'], 'key4':(4, 9.42, 'Pathak'), ('Name', 'rollNumber'):90}"
   ]
  },
  {
   "cell_type": "code",
   "execution_count": null,
   "metadata": {},
   "outputs": [],
   "source": [
    "dictA"
   ]
  },
  {
   "cell_type": "code",
   "execution_count": null,
   "metadata": {},
   "outputs": [],
   "source": [
    "print(dictA[1], dictA[2.0], dictA['key3'])          # to access the corresponding value at the given key\n",
    "                                                    # if the key is not present, we will get an exception"
   ]
  },
  {
   "cell_type": "code",
   "execution_count": null,
   "metadata": {},
   "outputs": [],
   "source": [
    "temp1 = {'key1':1, 'key2':3.14}  # we can also access the values using the get function\n",
    "temp1.get('key2', 'No such key') # if the key exists, we get its value. if not, we get the optional value, if provided"
   ]
  },
  {
   "cell_type": "code",
   "execution_count": null,
   "metadata": {},
   "outputs": [],
   "source": [
    "temp = {'key1':1, 'key2':3.14}\n",
    "'key2' in temp                     # using in :to know whether a key exists in a dictionary"
   ]
  },
  {
   "cell_type": "code",
   "execution_count": null,
   "metadata": {},
   "outputs": [],
   "source": [
    "temp = {'key1':1, 'key2':3.14}\n",
    "temp.keys()                            # returns a dict_keys of all keys : dict_keys is not a list"
   ]
  },
  {
   "cell_type": "code",
   "execution_count": null,
   "metadata": {},
   "outputs": [],
   "source": [
    "temp = {'key1':1, 'key2':3.14}\n",
    "tempKeysList = list(temp.keys())       # to get the keys in a list, we use the list function\n",
    "tempKeysList"
   ]
  },
  {
   "cell_type": "code",
   "execution_count": null,
   "metadata": {},
   "outputs": [],
   "source": [
    "temp = {'key1':1, 'key2':3.14}\n",
    "temp.values()                          # returns a dict_values of all values : dict_values is not a list"
   ]
  },
  {
   "cell_type": "code",
   "execution_count": null,
   "metadata": {},
   "outputs": [],
   "source": [
    "temp = {'key1':1, 'key2':3.14}\n",
    "tempValuesList = list(temp.values())   # similiar to keys, we get values in a list\n",
    "tempValuesList"
   ]
  },
  {
   "cell_type": "code",
   "execution_count": null,
   "metadata": {},
   "outputs": [],
   "source": [
    "temp = {'key1':1, 'key2':3.14}\n",
    "temp.items()                           # returns a dict_items of tuples for each key-value pair"
   ]
  },
  {
   "cell_type": "code",
   "execution_count": null,
   "metadata": {},
   "outputs": [],
   "source": [
    "temp = {'key1':1, 'key2':3.14}\n",
    "tempItemsList = list(temp.items())     # returns a list of key-value tuples\n",
    "tempItemsList"
   ]
  },
  {
   "cell_type": "code",
   "execution_count": null,
   "metadata": {},
   "outputs": [],
   "source": [
    "for k,v in dictA.items():               # to output each key-value in a new line\n",
    "    print(k, v)"
   ]
  },
  {
   "cell_type": "code",
   "execution_count": null,
   "metadata": {},
   "outputs": [],
   "source": [
    "dictA['key4'] = 10                  # if the key exists, it updates the value, otherwise adds a new key-value pair\n",
    "dictA"
   ]
  },
  {
   "cell_type": "code",
   "execution_count": null,
   "metadata": {},
   "outputs": [],
   "source": [
    "temp = {'key1':1, 'key2':3.14}\n",
    "del(temp['key2'])                      # delete an item using the key\n",
    "temp"
   ]
  },
  {
   "cell_type": "code",
   "execution_count": null,
   "metadata": {},
   "outputs": [],
   "source": [
    "temp = {'key1':1, 'key2':3.14}\n",
    "del temp['key2']                       # del statement can be used in two formats\n",
    "temp"
   ]
  },
  {
   "cell_type": "code",
   "execution_count": null,
   "metadata": {},
   "outputs": [],
   "source": [
    "temp = {'key1':1, 'key2':3.14}\n",
    "temp.clear()                # deleting all items using clear()\n",
    "temp                        # another way is to assign empty dictionary to the dictionary we want to clear, temp = {}"
   ]
  },
  {
   "cell_type": "code",
   "execution_count": null,
   "metadata": {},
   "outputs": [],
   "source": [
    "keyValue = 2.0\n",
    "checkKey = keyValue in dictA            # returns True if key exists, otherwise False\n",
    "checkKey"
   ]
  },
  {
   "cell_type": "code",
   "execution_count": null,
   "metadata": {},
   "outputs": [],
   "source": [
    "print(dictA)\n",
    "print(dictA.pop('key3'))            # removes/pops and returns the element from the dictionary having the given key\n",
    "print(dictA)"
   ]
  },
  {
   "cell_type": "code",
   "execution_count": null,
   "metadata": {},
   "outputs": [],
   "source": [
    "print(dictA)\n",
    "print(dictA.popitem())              # pops out and return the last element from the dictionary\n",
    "print(dictA)"
   ]
  },
  {
   "cell_type": "code",
   "execution_count": null,
   "metadata": {},
   "outputs": [],
   "source": [
    "temp = {'key1':1, 'key2':3.14}      # as with lists, if we make a change to a dictionary, \n",
    "temp1 = temp                        # it will be reflected in all the names that refer to it\n",
    "temp['key3'] = 'Sudhir'             # added a new key-value pair in temp\n",
    "temp1"
   ]
  },
  {
   "cell_type": "code",
   "execution_count": null,
   "metadata": {},
   "outputs": [],
   "source": [
    "temp = {'key1':1, 'key2':3.14}      \n",
    "temp1 = temp.copy()                 # to actually copy keys-values without aliasing, we can use copy()\n",
    "temp['key3'] = 'Sudhir'\n",
    "temp1"
   ]
  },
  {
   "cell_type": "code",
   "execution_count": null,
   "metadata": {},
   "outputs": [],
   "source": [
    "# additional ways of copying dictionary\n",
    "\n",
    "dictB = dict(dictA.items())\n",
    "\n",
    "dictB = dict(dictA)\n",
    "\n",
    "dictB = {}\n",
    "dictB.update(dictA)"
   ]
  },
  {
   "cell_type": "code",
   "execution_count": null,
   "metadata": {},
   "outputs": [],
   "source": [
    "temp1 = {'currentLocation': 'Singapore'}             # combine dictionaries with update\n",
    "temp2 = {'previousLocation': 'India' }\n",
    "temp1.update(temp2)             # using the update() function to copy the key-values of one dictionary into another\n",
    "temp1"
   ]
  },
  {
   "cell_type": "markdown",
   "metadata": {},
   "source": [
    "If the second dictionary has the same key as the dictionary into which it’s being merged, the value from the second dictionary wins."
   ]
  },
  {
   "cell_type": "code",
   "execution_count": null,
   "metadata": {},
   "outputs": [],
   "source": [
    "temp1\n",
    "dictA.update({1:2})                     # updates a particular key-value pair\n",
    "print(dictA)"
   ]
  },
  {
   "cell_type": "code",
   "execution_count": null,
   "metadata": {},
   "outputs": [],
   "source": [
    "print(dictA)\n",
    "print(dictA.setdefault('key3', 10))         # returns the value of the item with the specified key\n",
    "print(dictA)\n",
    "\n",
    "print(dictA.setdefault('newKey', 10))       # if the key does not exist, insert the key with the specified value\n",
    "print(dictA)"
   ]
  },
  {
   "cell_type": "markdown",
   "metadata": {},
   "source": [
    "We can use the dict() function to convert two-value sequences into a dictionary. \n",
    "<br>The first item in each sequence is used as the key and the second as the value."
   ]
  },
  {
   "cell_type": "code",
   "execution_count": null,
   "metadata": {},
   "outputs": [],
   "source": [
    "# dictionary constructor : dict() constructor creates a dictionary in python\n",
    "temp = dict(key1 = 2, key2 = 'Python')             \n",
    "temp"
   ]
  },
  {
   "cell_type": "markdown",
   "metadata": {},
   "source": [
    "We can use any sequence containing two-item sequences:"
   ]
  },
  {
   "cell_type": "code",
   "execution_count": null,
   "metadata": {},
   "outputs": [],
   "source": [
    "temp = dict([['a','b'], ['c','d'], ['e','f']])            # a list of two-item lists\n",
    "temp"
   ]
  },
  {
   "cell_type": "code",
   "execution_count": null,
   "metadata": {},
   "outputs": [],
   "source": [
    "temp = dict([('a','b'), ('c','d'), ('e','f')])            # a list of two-item tuples\n",
    "temp"
   ]
  },
  {
   "cell_type": "code",
   "execution_count": null,
   "metadata": {},
   "outputs": [],
   "source": [
    "temp = dict((['a','b'], ['c','d'], ['e','f']))            # a tuple of two-item lists\n",
    "temp"
   ]
  },
  {
   "cell_type": "code",
   "execution_count": null,
   "metadata": {},
   "outputs": [],
   "source": [
    "temp = dict(['ab', 'cd', 'ef'])                           # a list of two-character strings\n",
    "temp"
   ]
  },
  {
   "cell_type": "code",
   "execution_count": null,
   "metadata": {},
   "outputs": [],
   "source": [
    "temp = dict(('ab', 'cd', 'ef'))                           # a tuple of two-character strings\n",
    "temp"
   ]
  },
  {
   "cell_type": "code",
   "execution_count": null,
   "metadata": {},
   "outputs": [],
   "source": [
    "temp = {'Sudhir': 'India', 'Sudhir': 'Singapore'}           # dictionary keys must be unique\n",
    "temp                                                        # if we use a key more than once, the last value wins"
   ]
  },
  {
   "cell_type": "markdown",
   "metadata": {},
   "source": [
    "Dictionary within dictionary is called nested dictionary. Dictionaries can be nested to any depth"
   ]
  },
  {
   "cell_type": "code",
   "execution_count": null,
   "metadata": {},
   "outputs": [],
   "source": [
    "dictA = ['a', 'b', {'foo': 1, 'bar': {'x' : 10, 'y' : 20, 'z' : 30}, 'baz': 3}, 'c', 'd']   \n",
    "dictA[2]['bar']['z']      # accessing elements in a nested dictionary"
   ]
  },
  {
   "cell_type": "markdown",
   "metadata": {},
   "source": [
    "Similar to lists, dictionaries also have comprehensions.\n",
    "<br>The simplest form looks like : {'key_expression : value_expression' for 'expression' in 'iterable'}.\n",
    "<br> Similar to list comprehensions, dictionary comprehensions can also have if tests and multiple for clauses."
   ]
  },
  {
   "cell_type": "code",
   "execution_count": null,
   "metadata": {},
   "outputs": [],
   "source": [
    "word = 'letters'\n",
    "letter_counts = {letter: word.count(letter) for letter in word}\n",
    "letter_counts"
   ]
  },
  {
   "cell_type": "markdown",
   "metadata": {},
   "source": [
    "We are running a loop over each of the seven letters in the string 'letters' and counting how many times that letter appears. \n",
    "<br> Two of our uses of word.count(letter) are a waste of time because we have to count all the e’s twice and all the t’s twice. \n",
    "<br> But, when we count the e’s the second time, we do no harm because we just replace the entry in the dictionary that was already there.\n",
    "<br>The same goes for counting the t’s"
   ]
  },
  {
   "cell_type": "code",
   "execution_count": null,
   "metadata": {
    "scrolled": true
   },
   "outputs": [],
   "source": [
    "word = 'letters'\n",
    "letter_counts = {letter: word.count(letter) for letter in set(word)}    # a more Pythonic way to achieve the same\n",
    "letter_counts"
   ]
  },
  {
   "cell_type": "markdown",
   "metadata": {},
   "source": [
    "The dictionary’s keys are in a different order, because iterating set(word) returns letters in a different order than iterating the string word."
   ]
  },
  {
   "cell_type": "code",
   "execution_count": null,
   "metadata": {},
   "outputs": [],
   "source": [
    "x = {'a':1, 'b':2}                # To merge two dictionaries\n",
    "y = {'b':3, 'c':4}\n",
    "z = {**x, **y}                    # Here, Python merges dictionary keys in the order listed in the expression, \n",
    "z                                 # overwriting duplicates from left to right"
   ]
  },
  {
   "cell_type": "code",
   "execution_count": null,
   "metadata": {},
   "outputs": [],
   "source": [
    "xs = {'a':4, 'b':3, 'c':2, 'd':1}                               # sorting a Python dictionary by value\n",
    "sortedList = sorted(xs.items(), key = lambda x : x[1])          # sorted() method returns a list of tuples\n",
    "sortedList"
   ]
  },
  {
   "cell_type": "markdown",
   "metadata": {},
   "source": [
    "<a id='sets'></a>\n",
    "## 9. Sets\n",
    "\n",
    "A set is like a dictionary with its values thrown away, leaving only the keys. \n",
    "<br>As with a dictionary, each key must be unique. We use a set when we only want to know that something exists, and nothing else about it. \n",
    "<br>In other words, we use a set, when we only want to keep track of unique values and do not care about their order.\n",
    "<br>Thus, a set is a collection of unique elements, and is unordered "
   ]
  },
  {
   "cell_type": "code",
   "execution_count": null,
   "metadata": {},
   "outputs": [],
   "source": [
    "temp = {0, 2, 4, 6, 8}      # we create a set by enclosing one or more comma separated values in curly brackets\n",
    "temp                        # as with dictionary keys, sets are unordered"
   ]
  },
  {
   "cell_type": "markdown",
   "metadata": {},
   "source": [
    "Even though both are enclosed by curly braces ({ and }), a set is just a sequence of values, and a dictionary is one or more key : value pairs."
   ]
  },
  {
   "cell_type": "code",
   "execution_count": null,
   "metadata": {},
   "outputs": [],
   "source": [
    "temp = set()    # creating an empty set using set() function\n",
    "temp            # empty set is represented by set(), as {} represents empty dictionary (introduced earlier in python)"
   ]
  },
  {
   "cell_type": "code",
   "execution_count": null,
   "metadata": {},
   "outputs": [],
   "source": [
    "temp = {1, 3.14, 'Sudhir', ('Sudhir', 'Pathak'), [4]}   # a set can contain int, float, string, tuple, but no list\n",
    "temp                                                    # wont work unless the list is removed"
   ]
  },
  {
   "cell_type": "code",
   "execution_count": null,
   "metadata": {},
   "outputs": [],
   "source": [
    "temp = {0, 2, 4, 6, 8, 2}   # if we have a value appearing twice, it is taken only once\n",
    "temp"
   ]
  },
  {
   "cell_type": "code",
   "execution_count": null,
   "metadata": {},
   "outputs": [],
   "source": [
    "temp = {1 , 1.0, '1'}       # only one numeric value is retained (out of 1 and 1.0), and one string value '1'\n",
    "temp"
   ]
  },
  {
   "cell_type": "code",
   "execution_count": null,
   "metadata": {},
   "outputs": [],
   "source": [
    "temp = {1, 2}               \n",
    "temp[0]                    # will not work as set is not ordered and set object does not support indexing"
   ]
  },
  {
   "cell_type": "code",
   "execution_count": null,
   "metadata": {},
   "outputs": [],
   "source": [
    "temp = set('letters')       # creating a set from a string, discarding any duplicate values\n",
    "temp                        # only one t and one e, even though they occur twice each"
   ]
  },
  {
   "cell_type": "code",
   "execution_count": null,
   "metadata": {},
   "outputs": [],
   "source": [
    "temp = set([1, 3.14, 'Sudhir', 3.14])           # creating a set from a list, ignores the duplicate values\n",
    "temp"
   ]
  },
  {
   "cell_type": "code",
   "execution_count": null,
   "metadata": {},
   "outputs": [],
   "source": [
    "temp = set((1, 3.14, 'Sudhir'))                # creating a set from a tuple\n",
    "temp"
   ]
  },
  {
   "cell_type": "code",
   "execution_count": null,
   "metadata": {},
   "outputs": [],
   "source": [
    "temp = set((1, 3.14, [2, 4]))                  # will not work as tuple contains a list\n",
    "temp"
   ]
  },
  {
   "cell_type": "code",
   "execution_count": null,
   "metadata": {},
   "outputs": [],
   "source": [
    "temp = set({'apple':'red', 'orange':'orange', 'cherry':'red'})      # when given a dictionary, it uses only the keys\n",
    "temp"
   ]
  },
  {
   "cell_type": "code",
   "execution_count": null,
   "metadata": {},
   "outputs": [],
   "source": [
    "temp = {1, 3.14}                \n",
    "temp.add('Sudhir')                     # add method adds one element to the set\n",
    "temp"
   ]
  },
  {
   "cell_type": "code",
   "execution_count": null,
   "metadata": {},
   "outputs": [],
   "source": [
    "temp = {1, 3.14}\n",
    "temp.add(('Sudhir', 'Pathak'))         # a tuple can be added also\n",
    "temp"
   ]
  },
  {
   "cell_type": "code",
   "execution_count": null,
   "metadata": {},
   "outputs": [],
   "source": [
    "temp = {1, 3.14}\n",
    "temp.add(3.14)                         # as usual, no change as sets contains unique elements\n",
    "temp"
   ]
  },
  {
   "cell_type": "code",
   "execution_count": null,
   "metadata": {},
   "outputs": [],
   "source": [
    "temp = {1, 3.14}\n",
    "temp.remove(3.14)                      # remove() method to remove elements : removes only one element\n",
    "temp"
   ]
  },
  {
   "cell_type": "code",
   "execution_count": null,
   "metadata": {},
   "outputs": [],
   "source": [
    "drinks = {                                              # Testing for 'value' by using 'in' (most common use of a set)\n",
    "    'martini' : {'vodka', 'vermouth'},\n",
    "    'black russian' : {'vodka', 'kahlua'},\n",
    "    'white russian' : {'cream', 'kahlua', 'vodka'},     # lets make a dictionary called drinks.\n",
    "    'manhattan' : {'rye', 'vermouth', 'bitters'},       # each key is the name of a mixed drink,\n",
    "    'screwdriver' : {'orange juice', 'vodka'}           # and the corresponding value is a set of its ingredients\n",
    "}\n",
    "\n",
    "for name, contents in drinks.items():                   # let's see which drink contains vodka\n",
    "    if 'vodka' in contents:                             # using in to test value is the most common use of a set\n",
    "        print(name)"
   ]
  },
  {
   "cell_type": "code",
   "execution_count": null,
   "metadata": {},
   "outputs": [],
   "source": [
    "for name, contents in drinks.items():           # suppose we want to find any drink that has orange juice or vermouth\n",
    "    if contents & {'vermouth', 'orange juice'}: # we will use the set intersection operator : ampersand (&)\n",
    "        print(name)"
   ]
  },
  {
   "cell_type": "markdown",
   "metadata": {},
   "source": [
    "The result of the & operator is a set, which contains all the items that appear in both lists that we compare. If neither of those ingredients were in contents, the & returns an empty set, which is considered False."
   ]
  },
  {
   "cell_type": "code",
   "execution_count": null,
   "metadata": {},
   "outputs": [],
   "source": [
    "for name, contents in drinks.items():                                  # lets find a drink which contains vodka\n",
    "    if 'vodka' in contents and not contents & {'vermouth', 'cream'}:   # but neither vermouth nor cream\n",
    "        print(name)"
   ]
  },
  {
   "cell_type": "code",
   "execution_count": null,
   "metadata": {},
   "outputs": [],
   "source": [
    "bruss = drinks['black russian']               # lets save the ingredient sets for these two drinks in variables\n",
    "wruss = drinks['white russian']               # bruss and wruss are two sets \n",
    "print(type(bruss), type(wruss))\n",
    "print(bruss, wruss)                           # we use these sets to discuss set operators below"
   ]
  },
  {
   "cell_type": "code",
   "execution_count": null,
   "metadata": {},
   "outputs": [],
   "source": [
    "temp = bruss & wruss                   # we get the intersection (members common to both sets) with &\n",
    "temp"
   ]
  },
  {
   "cell_type": "code",
   "execution_count": null,
   "metadata": {},
   "outputs": [],
   "source": [
    "temp = bruss.intersection(wruss)       # same can be achieved using set intersection() function\n",
    "temp"
   ]
  },
  {
   "cell_type": "code",
   "execution_count": null,
   "metadata": {},
   "outputs": [],
   "source": [
    "temp = bruss | wruss                   # we get the union (members of either set) by using |\n",
    "temp                                   # same can be achieved usign set union() function"
   ]
  },
  {
   "cell_type": "code",
   "execution_count": null,
   "metadata": {},
   "outputs": [],
   "source": [
    "temp = wruss - bruss        # the difference (members of the first set but not the second) is obtained by using -\n",
    "temp"
   ]
  },
  {
   "cell_type": "code",
   "execution_count": null,
   "metadata": {},
   "outputs": [],
   "source": [
    "temp = wruss.difference(bruss)     # same can be achieved using difference() function\n",
    "temp"
   ]
  },
  {
   "cell_type": "code",
   "execution_count": null,
   "metadata": {},
   "outputs": [],
   "source": [
    "bruss <= wruss                     # is bruss a subset of wruss"
   ]
  },
  {
   "cell_type": "code",
   "execution_count": null,
   "metadata": {},
   "outputs": [],
   "source": [
    "bruss.issubset(wruss)              # same can be achieved using issubset() function()"
   ]
  },
  {
   "cell_type": "code",
   "execution_count": null,
   "metadata": {},
   "outputs": [],
   "source": [
    "bruss.issubset(bruss)              # a set is always a subset of itself"
   ]
  },
  {
   "cell_type": "code",
   "execution_count": null,
   "metadata": {},
   "outputs": [],
   "source": [
    "bruss < wruss   # to be a proper subset, the second set needs to have all the members of the first and more : <"
   ]
  },
  {
   "cell_type": "code",
   "execution_count": null,
   "metadata": {},
   "outputs": [],
   "source": [
    "bruss < bruss   # a set can not be a proper subset of itself"
   ]
  },
  {
   "cell_type": "code",
   "execution_count": null,
   "metadata": {},
   "outputs": [],
   "source": [
    "bruss >= wruss  # a superset is the opposite of a subset (all members of the second set are also members of the first)"
   ]
  },
  {
   "cell_type": "code",
   "execution_count": null,
   "metadata": {},
   "outputs": [],
   "source": [
    "wruss.issuperset(wruss)     # any set is a superset of itself : using issuperset() function instead of >="
   ]
  },
  {
   "cell_type": "code",
   "execution_count": null,
   "metadata": {},
   "outputs": [],
   "source": [
    "wruss > bruss               # a proper superset (the first set has all the member of second and more)"
   ]
  },
  {
   "cell_type": "code",
   "execution_count": null,
   "metadata": {},
   "outputs": [],
   "source": [
    "wruss > wruss               # a set can not be proper superset of itself"
   ]
  },
  {
   "cell_type": "markdown",
   "metadata": {},
   "source": [
    "Sets also have comprehensions.\n",
    "<br>The simplest version looks like : {'expression' for 'expression' in 'iterable'}\n",
    "<br>The longer versions (if tests, multiple for clauses) are also valid for sets."
   ]
  },
  {
   "cell_type": "code",
   "execution_count": null,
   "metadata": {},
   "outputs": [],
   "source": [
    "temp = {number for number in range(1,6) if number % 3 == 1}\n",
    "temp"
   ]
  },
  {
   "cell_type": "markdown",
   "metadata": {},
   "source": [
    "<a id='loops'></a>\n",
    "## 10. Loops"
   ]
  },
  {
   "cell_type": "code",
   "execution_count": null,
   "metadata": {},
   "outputs": [],
   "source": [
    "colorList = ['White', 'White', 'White', 'Black', 'White']\n",
    "\n",
    "i = 0\n",
    "while colorList[i] == 'White':                      # run until you find a non-white color\n",
    "    print(colorList[i])\n",
    "    i += 1"
   ]
  },
  {
   "cell_type": "code",
   "execution_count": null,
   "metadata": {},
   "outputs": [],
   "source": [
    "count = 0                  # If we want to loop until something occurs, but we’re not sure when that might happen, \n",
    "                           # then we can use an infinite loop with a break statement\n",
    "while True:                                 \n",
    "    count += 1\n",
    "    print(count)\n",
    "    if count == 10:\n",
    "        break              # using break to break an infinite loop : we can use break statement in a for loop too"
   ]
  },
  {
   "cell_type": "code",
   "execution_count": null,
   "metadata": {},
   "outputs": [],
   "source": [
    "numbers = [1, 3, 5]         # while has an optional else statement\n",
    "position = 0                # If the while loop ended normally (no break call), control passes to an optional else.\n",
    "\n",
    "while position < len(numbers):           # we use this when we’ve coded a while loop to check for something, \n",
    "    number = numbers[position]           # and breaking as soon as it’s found\n",
    "    if number % 2 == 0:\n",
    "        print('Found even number', number)\n",
    "        break\n",
    "    position += 1\n",
    "else:                               # the else would be run if the while loop completed but the object was not found.\n",
    "    print('No even number found')   # this use of else might seem nonintuitive. consider it a break checker."
   ]
  },
  {
   "cell_type": "code",
   "execution_count": null,
   "metadata": {},
   "outputs": [],
   "source": [
    "N = 5                               # arguments are start,end,step. default values: start = 0, step = 1\n",
    "rangeFunction = range(0,N,1)        # we can go backward with step = -1        "
   ]
  },
  {
   "cell_type": "code",
   "execution_count": null,
   "metadata": {},
   "outputs": [],
   "source": [
    "type(rangeFunction)"
   ]
  },
  {
   "cell_type": "code",
   "execution_count": null,
   "metadata": {},
   "outputs": [],
   "source": [
    "print(rangeFunction, rangeFunction[0], rangeFunction[4])"
   ]
  },
  {
   "cell_type": "code",
   "execution_count": null,
   "metadata": {},
   "outputs": [],
   "source": [
    "for i in range(2, -1, -1):           # to make a range from 2 down to 0\n",
    "    print(i)"
   ]
  },
  {
   "cell_type": "code",
   "execution_count": null,
   "metadata": {},
   "outputs": [],
   "source": [
    "temp = list(range(1,5))             # creating a list using range() function\n",
    "temp"
   ]
  },
  {
   "cell_type": "code",
   "execution_count": null,
   "metadata": {},
   "outputs": [],
   "source": [
    "for i in range(N):       # range allows us to avoid creating and storing a large data structure such as list, tuple\n",
    "    print(i)             # it lets us create huge ranges without using all the memory and crashing "
   ]
  },
  {
   "cell_type": "code",
   "execution_count": null,
   "metadata": {},
   "outputs": [],
   "source": [
    "for i in range(3,N):\n",
    "    print(i)"
   ]
  },
  {
   "cell_type": "code",
   "execution_count": null,
   "metadata": {},
   "outputs": [],
   "source": [
    "for countdown in 5, 4, 3, 2, 1, 'Hey!':\n",
    "    print(countdown)"
   ]
  },
  {
   "cell_type": "code",
   "execution_count": null,
   "metadata": {},
   "outputs": [],
   "source": [
    "vegList = ['Potato', 'Tomato', 'Carrot', 'Banana']             # lists are one of the Python's iterable objects\n",
    "                                                               # alongwith strings, tuples, dictionaries, sets\n",
    "for veg in vegList:                         \n",
    "    print(veg)                              # list or tuple iteration produces an item at a time\n",
    "print('\\n')\n",
    "\n",
    "for index,veg in enumerate(vegList):\n",
    "    print(index,veg)"
   ]
  },
  {
   "cell_type": "code",
   "execution_count": null,
   "metadata": {},
   "outputs": [],
   "source": [
    "name = 'Sudhir'\n",
    "for character in name:                      # string iteration produces a character at a time\n",
    "    print(character)"
   ]
  },
  {
   "cell_type": "code",
   "execution_count": null,
   "metadata": {},
   "outputs": [],
   "source": [
    "labmates = {'Yanwei':'Li', 'Joyjit':'Chattoraj', 'Sudhir':'Pathak'}\n",
    "\n",
    "for name in labmates:       # iterating over a dictionary (or its keys() function) returns the key\n",
    "    print(name)             # instead of labmates, we can also use labmates.keys()\n",
    "print('\\n')\n",
    "\n",
    "for surname in labmates.values():       # to iterate over the values, we use the dictionary values() function\n",
    "    print(surname)\n",
    "print('\\n') \n",
    "\n",
    "for fullName in labmates.items():       # to return both, the key and value in a tuple, we use items() function \n",
    "    print(fullName)\n",
    "print('\\n')\n",
    "\n",
    "for name, surname in labmates.items():       # items returns a tuple\n",
    "    print(name, surname)                     # we can assign multiple variables using tuple in one step "
   ]
  },
  {
   "cell_type": "code",
   "execution_count": null,
   "metadata": {},
   "outputs": [],
   "source": [
    "for i in range(10):             # sometimes, we want to skip ahead to the next iteration\n",
    "    if i%2 == 0:                # in such cases, we use continue statement\n",
    "        continue                # we can use continue statement in while loop too \n",
    "    print(i)"
   ]
  },
  {
   "cell_type": "code",
   "execution_count": null,
   "metadata": {},
   "outputs": [],
   "source": [
    "veggies = ['Potato', 'Tomato', 'Carrot', 'Banana']    # similar to while, for has an optional else statement\n",
    "for veg in veggies:                                   # it checks whether the loop completed normally \n",
    "    if veg == 'CauliFlower':                          # if break was not called, the else statement is run\n",
    "        print('CauliFlower found')\n",
    "        break\n",
    "else:                                        # this helps in verifying that the previous for loop ran to completion\n",
    "    print('CauliFlower not found')           # instead of being stopped early with a break"
   ]
  },
  {
   "cell_type": "markdown",
   "metadata": {},
   "source": [
    "As with while, the use of else with for might seem nonintuitive. \n",
    "<br>It makes more sense if we think of the for as looking for something, and else being called if we didn’t find it."
   ]
  },
  {
   "cell_type": "code",
   "execution_count": null,
   "metadata": {},
   "outputs": [],
   "source": [
    "days = ['Mon', 'Tue', 'Wed']                        # we can iterate over multiple sequences in parallel using zip\n",
    "fruits = ['banana', 'orange', 'peach']              # the loop stops when the shortest sequence is done\n",
    "drinks = ['coffee', 'tea', 'beer']\n",
    "desserts = ['tiramisu', 'ice cream', 'pie', 'pudding']\n",
    "\n",
    "for day, fruit, drink, dessert in zip(days, fruits, drinks, desserts): \n",
    "    print(day, fruit, drink, dessert)                                  "
   ]
  },
  {
   "cell_type": "code",
   "execution_count": null,
   "metadata": {},
   "outputs": [],
   "source": [
    "english = 'Monday', 'Tuesday', 'Wednesday'        # lets see how we can use zip to walk through multiple sequences \n",
    "french = 'Lundi','Mardi','Mercredi'               # and make tuples from items at the same offsets\n",
    "\n",
    "pair = list(zip(english, french))                 # we use zip to pair these tuples\n",
    "# the value returned by zip() is itself not a tuple or list, but an iterable value that can be turned into one\n",
    "print(pair)\n",
    "\n",
    "pairDict = dict(pair)                 # now we can use dict() function to create dictionary from the two-items tuple\n",
    "print(pairDict)"
   ]
  },
  {
   "cell_type": "markdown",
   "metadata": {},
   "source": [
    "<a id='functions'></a>\n",
    "## 11. Functions\n",
    "\n",
    "A function can take any number and type of input parameters and return any number and type of output results.\n",
    "<br>Function names have the same rules as variable names : They must start with a letter or '_'(underscore), and contain only letters, numbers and '_'(underscore). "
   ]
  },
  {
   "cell_type": "code",
   "execution_count": null,
   "metadata": {},
   "outputs": [],
   "source": [
    "def do_nothing():                # even for a function with no parameters, we still need the parentheses and colon\n",
    "    pass                         # indentation is just like as we do for code under if condition\n",
    "                                 # python requires the pass statement to show that this function does nothing\n",
    "do_nothing()                     # a function does not need to return something"
   ]
  },
  {
   "cell_type": "code",
   "execution_count": null,
   "metadata": {},
   "outputs": [],
   "source": [
    "def noReturn():\n",
    "    '''comment'''                # seems like we do not need pass even\n",
    "\n",
    "output = noReturn()              # if a function does not call return explicitly, the caller gets the result None \n",
    "print(output)"
   ]
  },
  {
   "cell_type": "code",
   "execution_count": null,
   "metadata": {},
   "outputs": [],
   "source": [
    "def addition(a, b):\n",
    "    \n",
    "    ''' \n",
    "    returns the addition of the two input values              # docstring\n",
    "    '''\n",
    "    \n",
    "    c = a + b                    # the values we pass into the function when we call it are known as arguments\n",
    "                                 # when we call a function with arguments, the value of those arguments \n",
    "    return c                     # are copied to their corresponding parameters inside the function\n",
    "\n",
    "returnValue = addition(2, 4)     \n",
    "print(returnValue)                \n",
    "\n",
    "help(addition)                    # returns the docstring of the function passed"
   ]
  },
  {
   "cell_type": "markdown",
   "metadata": {},
   "source": [
    "**Positional arguments**\n",
    "<br>\n",
    "<br> The most familiar types of arguments are positional arguments, whose values are copied to their corresponding parameters in order "
   ]
  },
  {
   "cell_type": "code",
   "execution_count": null,
   "metadata": {},
   "outputs": [],
   "source": [
    "def menu(wine, entree, dessert):               \n",
    "    return {'wine':wine, 'entree':entree, 'dessert':dessert}\n",
    "\n",
    "temp = menu('chardonnay', 'chicken', 'cake')\n",
    "temp"
   ]
  },
  {
   "cell_type": "markdown",
   "metadata": {},
   "source": [
    "Although very common, a downside of positional arguments is that we need to remember the meaning of each position. \n",
    "<br>If we forgot and called menu() with wine as the last argument instead of the first, the meal would be very different"
   ]
  },
  {
   "cell_type": "markdown",
   "metadata": {},
   "source": [
    "**Keyword arguments**\n",
    "<br>\n",
    "<br>To avoid positional argument confusion, we can specify arguments by the names of their corresponding parameters, even in a different order from their definition in the function:"
   ]
  },
  {
   "cell_type": "code",
   "execution_count": null,
   "metadata": {},
   "outputs": [],
   "source": [
    "def menu(wine, entree, dessert):               \n",
    "    return {'wine':wine, 'entree':entree, 'dessert':dessert}\n",
    "\n",
    "temp = menu(entree = 'beef', dessert = 'bagel', wine = 'bordeaux')\n",
    "temp"
   ]
  },
  {
   "cell_type": "code",
   "execution_count": null,
   "metadata": {},
   "outputs": [],
   "source": [
    "def menu(wine, entree, dessert):                                # we can mix positional and keyword arguments\n",
    "    return {'wine':wine, 'entree':entree, 'dessert':dessert}\n",
    "\n",
    "temp = menu('frontenac', dessert = 'flan', entree = 'fish')     "
   ]
  },
  {
   "cell_type": "markdown",
   "metadata": {},
   "source": [
    "If we call a function with both positional and keyword arguments, the positional arguments need to come first."
   ]
  },
  {
   "cell_type": "markdown",
   "metadata": {},
   "source": [
    "**Default Parameter Values**\n",
    "<br>\n",
    "<br> We can specify default values for parameters.\n",
    "<br> The default is used if the caller does not provide a corresponding argument."
   ]
  },
  {
   "cell_type": "code",
   "execution_count": null,
   "metadata": {},
   "outputs": [],
   "source": [
    "def menu(wine, entree, dessert = 'pudding'):                    \n",
    "    return {'wine':wine, 'entree':entree, 'dessert':dessert}\n",
    "\n",
    "temp = menu('chardonnay', 'chicken')                    # uses default value\n",
    "print(temp)\n",
    "\n",
    "print('\\n')             # default argument values are calculated when the function is defined, not when it is run\n",
    "\n",
    "temp = menu('chardonnay', 'chicken', 'doughnut')        # uses the provided argument value\n",
    "print(temp)"
   ]
  },
  {
   "cell_type": "markdown",
   "metadata": {},
   "source": [
    "#### Gather Positional Arguments with *\n",
    "First of all, this * has nothing to do with pointers. Python does not have pointers.\n",
    "<br> When used inside the function with a parameter, an asterisk groups a variable number of positional arguments into a tuple of parameter values."
   ]
  },
  {
   "cell_type": "code",
   "execution_count": null,
   "metadata": {
    "scrolled": true
   },
   "outputs": [],
   "source": [
    "def Everything(*names):            # names is the parameter tuple, resulted from the positional arguments\n",
    "                                   # that were passed to the function, when it is called     \n",
    "    '''\n",
    "    variadic parameters allow us to input variable number of elements\n",
    "    '''\n",
    "    print(type(names))\n",
    "    \n",
    "    for name in names:\n",
    "        print(name)\n",
    "\n",
    "Everything()                                          # calling function with no arguments\n",
    "Everything('Shahrukh', 'Aamir')                       # calling function with two arguments\n",
    "Everything(1, 3.14)                                   # a tuple can contain numbers\n",
    "Everything([1, 2], (3,4), {5:6})                      # list, tuple, dictionary also"
   ]
  },
  {
   "cell_type": "markdown",
   "metadata": {},
   "source": [
    "If the function has required positional arguments as well, *names goes at the end and grabs all the rest:"
   ]
  },
  {
   "cell_type": "code",
   "execution_count": null,
   "metadata": {},
   "outputs": [],
   "source": [
    "def Everything(firstName, lastName, *names):\n",
    "    \n",
    "    print(firstName, lastName, len(names))            # now only two arguments are clubbed into names\n",
    "    \n",
    "    for name in names:\n",
    "        print(name)\n",
    "        \n",
    "Everything('Sudhir', 'Pathak', 'Kushinagar', 274402)"
   ]
  },
  {
   "cell_type": "markdown",
   "metadata": {},
   "source": [
    "#### Gather Keyword Arguments with **\n",
    "We can use two asteriks ** to group keyword arguments into a dictionary, where the argument names are the keys, and their values are the corresponding dictionary values. "
   ]
  },
  {
   "cell_type": "code",
   "execution_count": null,
   "metadata": {},
   "outputs": [],
   "source": [
    "def printKWARGS(**kwargs):\n",
    "    \n",
    "    print(type(kwargs))                # kwargs is a dictionary here\n",
    "    print('\\n')\n",
    "    \n",
    "    print(kwargs)\n",
    "    \n",
    "printKWARGS(wine = 'merlot', entree = 'mutton', dessert = 'macaroon')"
   ]
  },
  {
   "cell_type": "markdown",
   "metadata": {},
   "source": [
    "If we mix positional parameters with \\*args and \\**kwargs, they need to occur in that order."
   ]
  },
  {
   "cell_type": "markdown",
   "metadata": {},
   "source": [
    "**Functions are first-class citizens in Python**\n",
    "<br>\n",
    "<br> We can assign them to variables, use them as arguments to other functions, and return them from functions.\n",
    "<br> This gives us the capability to do something in Python that are difficult-to-impossible to carry out in many other languages."
   ]
  },
  {
   "cell_type": "code",
   "execution_count": null,
   "metadata": {},
   "outputs": [],
   "source": [
    "def insideFunction():            # this function has no arguments, and just prints 27 when called\n",
    "    print(27)\n",
    "\n",
    "def outsideFunction(func):       # this function has one argument called func, a function to run\n",
    "    print(type(func))            # we are passing insideFunction as func, so this function knows that its a function\n",
    "    func()                       # once inside, it just calls the function\n",
    "\n",
    "outsideFunction(insideFunction)  # we are passing insideFunction to outsideFunction : we are using a function as data"
   ]
  },
  {
   "cell_type": "markdown",
   "metadata": {},
   "source": [
    "Note that we passed insideFunction, not insideFunction(). \n",
    "<br>In Python, those parentheses mean call this function. With no parentheses, Python just treats the function like any other object. \n",
    "<br>That’s because, like everything else in Python, it is an object"
   ]
  },
  {
   "cell_type": "code",
   "execution_count": null,
   "metadata": {},
   "outputs": [],
   "source": [
    "def addition(arg1, arg2):                # a slightly complex version : functions with argument\n",
    "    sum = arg1 + arg2\n",
    "    print(sum)\n",
    "\n",
    "def mathematics(func, arg1, arg2):\n",
    "    func(arg1, arg2)\n",
    "    \n",
    "mathematics(addition, 9, 4)"
   ]
  },
  {
   "cell_type": "markdown",
   "metadata": {},
   "source": [
    "We can combine this with the \\*args and \\**kwargs techniques"
   ]
  },
  {
   "cell_type": "code",
   "execution_count": null,
   "metadata": {},
   "outputs": [],
   "source": [
    "def sums(*args):                     # this function takes any number of positional arguments\n",
    "    sums = sum(args)\n",
    "    print(sums)\n",
    "\n",
    "def mathematics(func, *args):        # this function takes a function, and any number of positional arguments\n",
    "    func(*args)\n",
    "    \n",
    "mathematics(sums, 1, 2, 3, 4)"
   ]
  },
  {
   "cell_type": "markdown",
   "metadata": {},
   "source": [
    "We can use functions as elements of lists, tuples, sets, and dictionaries. \n",
    "<br>Functions are immutable, so we can also use them as dictionary keys."
   ]
  },
  {
   "cell_type": "markdown",
   "metadata": {},
   "source": [
    "**Inner Functions**\n",
    "<br>\n",
    "<br>We can define a function within another function.\n",
    "<br>An inner function can be useful when performing some complex tasks more than once, within another function."
   ]
  },
  {
   "cell_type": "code",
   "execution_count": null,
   "metadata": {},
   "outputs": [],
   "source": [
    "def outer(a, b):\n",
    "    def inner(c, d):\n",
    "        return c + d\n",
    "    return inner(a, b)\n",
    "\n",
    "outer(3, 7)"
   ]
  },
  {
   "cell_type": "markdown",
   "metadata": {},
   "source": [
    "**Closure**\n",
    "<br>\n",
    "<br>An inner function can act as a closure.\n",
    "<br>This is a function that is dynamically generated by another function and can both change and remember the values of variables that were created outside the function.\n",
    "<br>\n",
    "<br>To understand it, lets first write another inner function like the one above"
   ]
  },
  {
   "cell_type": "code",
   "execution_count": null,
   "metadata": {},
   "outputs": [],
   "source": [
    "def knights(saying):\n",
    "    def inner(quote):\n",
    "        return \"We are the knights who say: '%s'\" % quote\n",
    "    return inner(saying)\n",
    "\n",
    "knights('Ni!')"
   ]
  },
  {
   "cell_type": "markdown",
   "metadata": {},
   "source": [
    "Let's build on this knights() example, and call it knights2().\n",
    "<br>We turn the inner() function into a closure, called inner2().\n",
    "<br>The differences are:\n",
    "<br> - inner2() uses the outer saying parameter directly instead of getting it as an argument.\n",
    "<br> - knights2() returns the inner2 function name instead of calling it."
   ]
  },
  {
   "cell_type": "code",
   "execution_count": null,
   "metadata": {},
   "outputs": [],
   "source": [
    "def knights2(saying):\n",
    "    def inner2():\n",
    "        return \"We are the knights who say ''%s'\" % saying\n",
    "    return inner2"
   ]
  },
  {
   "cell_type": "markdown",
   "metadata": {},
   "source": [
    "The inner2() function knows the value of saying that was passed in and remembers it. \n",
    "<br>The line return inner2 returns this specialized copy of the inner2 function (but doesn’t call it). \n",
    "<br>That’s a closure: a dynamically created function that remembers where it came from."
   ]
  },
  {
   "cell_type": "code",
   "execution_count": null,
   "metadata": {},
   "outputs": [],
   "source": [
    "a = knights2('Duck')                # let's call knights2() twice, with different arguments\n",
    "b = knights2('Hasenpfeffer')"
   ]
  },
  {
   "cell_type": "code",
   "execution_count": null,
   "metadata": {},
   "outputs": [],
   "source": [
    "print(type(a))                      # a and b are functions, but they are also closures\n",
    "print(type(b))"
   ]
  },
  {
   "cell_type": "code",
   "execution_count": null,
   "metadata": {},
   "outputs": [],
   "source": [
    "print(a)\n",
    "print(b)"
   ]
  },
  {
   "cell_type": "markdown",
   "metadata": {},
   "source": [
    "If we call them, they remember the saying that was used when they were created by knights2:"
   ]
  },
  {
   "cell_type": "code",
   "execution_count": null,
   "metadata": {},
   "outputs": [],
   "source": [
    "print(a())\n",
    "print(b())"
   ]
  },
  {
   "cell_type": "markdown",
   "metadata": {},
   "source": [
    "**Anonymous Functions : the lambda function**\n",
    "<br>\n",
    "<br>A lambda function is an anonymous function expressed as a single statement.\n",
    "<br>We can use it instead of a normal tiny function.\n",
    "<br>\n",
    "<br>To illustrate it, let's first make an example that uses normal functions."
   ]
  },
  {
   "cell_type": "code",
   "execution_count": null,
   "metadata": {},
   "outputs": [],
   "source": [
    "def edit_story(words, func):                    # this function has two arguments:\n",
    "    for word in words:                          # words (a list of words)\n",
    "        print(func(word))                       # func, a function to apply to each word in words\n",
    "\n",
    "wordList = ['thud', 'meow', 'thud', 'hiss']     # list of words\n",
    "\n",
    "def capitalizeWord(word):                       # function to apply to each word\n",
    "    return word.capitalize() + '!'              # this capitalizes each word and append an exclamation point\n",
    "\n",
    "edit_story(wordList, capitalizeWord)"
   ]
  },
  {
   "cell_type": "markdown",
   "metadata": {},
   "source": [
    "Now, the capitalizeWord() function is so short that we can replace this with lambda."
   ]
  },
  {
   "cell_type": "code",
   "execution_count": null,
   "metadata": {},
   "outputs": [],
   "source": [
    "def edit_story(words, func):\n",
    "    for word in words:\n",
    "        print(func(word))\n",
    "\n",
    "wordList = ['thud', 'meow', 'thud', 'hiss']\n",
    "                                                             # the lambda takes one argument, which we call word here\n",
    "edit_story(wordList, lambda word: word.capitalize() + '!')   # everything between : and ) defines the function"
   ]
  },
  {
   "cell_type": "markdown",
   "metadata": {},
   "source": [
    "Often, using real functions such as capitalizeWord() is much clearer than using lambdas. \n",
    "<br>Lambdas are mostly useful for cases in which we would otherwise need to define many tiny functions and remember what we called them all."
   ]
  },
  {
   "cell_type": "markdown",
   "metadata": {},
   "source": [
    "**Namespaces and Scope**\n",
    "<br>\n",
    "<br>A name can refer to different things, depending on where it’s used. \n",
    "<br>Python programs have various namespaces—sections within which a particular name is unique and unrelated to the same name in other namespaces.\n",
    "<br>\n",
    "<br> Each function defines its own namespace. \n",
    "<br>If we define a variable called x in a main program and another variable called x in a function, they refer to different things\n",
    "<br> But the walls can be breached: if we need to, we can access names in other namespaces in various ways.\n",
    "<br>\n",
    "<br> The main part of a program defines the global namespace; thus, the variables in that namespace are global variables.\n",
    "<br>\n",
    "<br>In other words,\n",
    "<br>The scope of a variable is the part of the program where that variable is accessible. \n",
    "<br>Variables defined outside any function are said to be within global scope - they can be accessed anywhere after they are defined."
   ]
  },
  {
   "cell_type": "code",
   "execution_count": null,
   "metadata": {},
   "outputs": [],
   "source": [
    "def Thriller():\n",
    "    \n",
    "    date = 1980                # local variables only exist within the scope of the function\n",
    "    \n",
    "    return date\n",
    "\n",
    "Thriller()\n",
    "print(date)                    # this wont run as 'date' does not exist in global scope"
   ]
  },
  {
   "cell_type": "code",
   "execution_count": null,
   "metadata": {},
   "outputs": [],
   "source": [
    "def Thriller():\n",
    "    \n",
    "    date = 1980                # local variables only exist within the scope of the function\n",
    "    \n",
    "    return date\n",
    "\n",
    "date = 1990\n",
    "returnDate = Thriller()\n",
    "print(date, returnDate)        # the 'date' printed is the global one, as the one in Thriller function is local "
   ]
  },
  {
   "cell_type": "code",
   "execution_count": null,
   "metadata": {},
   "outputs": [],
   "source": [
    "def addDC(airCon):\n",
    "    \n",
    "    '''\n",
    "    adds DC to the input value\n",
    "    '''\n",
    "    \n",
    "    airCon += 'DC'                 # airCon is local variable here, the change in it wont appear in global scope\n",
    "    print(airCon)\n",
    "    \n",
    "    return airCon\n",
    "\n",
    "airCon = 'AC'\n",
    "return_airCon = addDC(airCon)\n",
    "\n",
    "print(airCon, return_airCon)        # the value of airCon remains 'AC', even though its a global variable"
   ]
  },
  {
   "cell_type": "code",
   "execution_count": null,
   "metadata": {},
   "outputs": [],
   "source": [
    "animal = 'cow'\n",
    "\n",
    "def printAnimal():                  # we can get the value of a global variable from within a function\n",
    "    print('Animal: ', animal)\n",
    "\n",
    "printAnimal()"
   ]
  },
  {
   "cell_type": "code",
   "execution_count": null,
   "metadata": {},
   "outputs": [],
   "source": [
    "animal = 'cow'\n",
    "\n",
    "def printAnimal():                  \n",
    "    print('Animal: ', animal)\n",
    "    animal = 'buffalo'\n",
    "    print('Animal: ', animal)      # we can not change the value of a global variable from within a function\n",
    "\n",
    "printAnimal()"
   ]
  },
  {
   "cell_type": "code",
   "execution_count": null,
   "metadata": {},
   "outputs": [],
   "source": [
    "animal = 'cow'\n",
    "\n",
    "def printAnimal():\n",
    "    animal = 'buffalo'             # we can change here, as it is local variable, and not a global variable\n",
    "    print('Animal: ', animal, id(animal))\n",
    "\n",
    "printAnimal()\n",
    "print(animal, id(animal))"
   ]
  },
  {
   "cell_type": "code",
   "execution_count": null,
   "metadata": {},
   "outputs": [],
   "source": [
    "animal = 'cow'\n",
    "\n",
    "def printAnimal():\n",
    "    global animal                         # to access the global variable, we need to explicitly declare it global \n",
    "    animal = 'buffalo'             \n",
    "    print('Animal: ', animal, id(animal))\n",
    "\n",
    "printAnimal()\n",
    "print(animal, id(animal))"
   ]
  },
  {
   "cell_type": "code",
   "execution_count": null,
   "metadata": {},
   "outputs": [],
   "source": [
    "def increment_rating(rating):\n",
    "    \n",
    "    new_rating = rating + increment      # increment is not defined in this function (appears nowhere in LHS), \n",
    "                                         # so the function looks for it in global scope\n",
    "    return new_rating                    # if it exists before increment is used : it will be treated as local variable and local value will be used in RHS\n",
    "                                         # if we define it after it is used in RHS, an error will error\n",
    "rating = 5\n",
    "increment = 1\n",
    "\n",
    "inc_rating = increment_rating(rating)\n",
    "print(rating, inc_rating)"
   ]
  },
  {
   "cell_type": "code",
   "execution_count": null,
   "metadata": {},
   "outputs": [],
   "source": [
    "def pinkFloyd():\n",
    "    \n",
    "    global claimedSells\n",
    "    claimedSells = '45 millions'\n",
    "\n",
    "pinkFloyd()\n",
    "print(claimedSells)             # since 'claimedSells' is declared as global variable in pinkFloyd function, \n",
    "                                # it can be accessed globally\n",
    "\n",
    "def checkFunction():\n",
    "    \n",
    "    print(claimedSells)         # since 'claimedSells' is in global scope, it can be accessed in this function\n",
    "    #claimedSells = 5\t\t\t# this statement will give error : thus if we define claimedSells in LHS, it will be local variable\n",
    "\n",
    "checkFunction()\n",
    "print(claimedSells)"
   ]
  },
  {
   "cell_type": "code",
   "execution_count": null,
   "metadata": {},
   "outputs": [],
   "source": [
    "def pinkFloyd():\n",
    "    \n",
    "    global claimedSells\n",
    "    claimedSells = '45 millions'\n",
    "\n",
    "pinkFloyd()\n",
    "print(claimedSells)\n",
    "\n",
    "def checkFunction():   # this function is to check how the claimedSells global variable fare inside other functions\n",
    "    \n",
    "    # local variable\n",
    "    #claimedSells = '40 millions'    # here claimedSells is local variable, wont affect the global value\n",
    "    #print(claimedSells)\n",
    "    \n",
    "    #globalvariable\n",
    "    global claimedSells             # so, the only way to change the global variable value is to define it as a global again\n",
    "    claimedSells = '50 millions'\n",
    "    print(claimedSells)\n",
    "\n",
    "checkFunction()\n",
    "print(claimedSells)"
   ]
  },
  {
   "cell_type": "code",
   "execution_count": null,
   "metadata": {},
   "outputs": [],
   "source": [
    "def addFunction(a,b):\n",
    "    \n",
    "    c = a + b\n",
    "    \n",
    "    return c\n",
    "\n",
    "returnValue = addFunction(1, 2.0)                             # function adds two numbers\n",
    "print(returnValue)\n",
    "\n",
    "returnValue = addFunction('Sudhir', ' Pathak')                # function adds two string\n",
    "print(returnValue)\n",
    "\n",
    "returnValue = addFunction([1, 2], [3, 4])                     # function adds two lists\n",
    "print(returnValue)\n",
    "\n",
    "returnValue = addFunction((1, 2), (3, 4))                     # function adds two tuples\n",
    "print(returnValue)"
   ]
  },
  {
   "cell_type": "code",
   "execution_count": null,
   "metadata": {},
   "outputs": [],
   "source": [
    "def agree():\n",
    "    return True\n",
    "\n",
    "if agree():                        # calling function in an if condition\n",
    "    print('Yes')\n",
    "else:\n",
    "    print('No')"
   ]
  },
  {
   "cell_type": "markdown",
   "metadata": {},
   "source": [
    "A common error is to use a mutable data type, list/dict as a default argument"
   ]
  },
  {
   "cell_type": "code",
   "execution_count": null,
   "metadata": {},
   "outputs": [],
   "source": [
    "def buggyCode(arg, result=[]):        # we expect this function to run each time with a fresh empty result[] list \n",
    "    result.append(arg)                # add the arg argument to it\n",
    "    print(result)                     # and then print a single-item list\n",
    "\n",
    "buggyCode('a')      # prints the result = ['a']       : result[] list is empty only the first time it is called\n",
    "buggyCode('b')      # prints the result = ['a','b']   : result['a'] already contains item 'a' from the first call "
   ]
  },
  {
   "cell_type": "code",
   "execution_count": null,
   "metadata": {},
   "outputs": [],
   "source": [
    "def notBuggy(arg):                   # the code will work if written like this\n",
    "    result = []\n",
    "    result.append(arg)\n",
    "    print(result)\n",
    "    \n",
    "notBuggy('a')\n",
    "notBuggy('b')"
   ]
  },
  {
   "cell_type": "markdown",
   "metadata": {},
   "source": [
    "**Generators**\n",
    "<br>\n",
    "<br>A generator is a Python sequence creation object. \n",
    "<br>With it, we can iterate through potentially huge sequences without creating and storing the entire sequence in memory at once. \n",
    "<br>Generators are often the source of data for iterators, for example range() which we used to generate a series of integers.\n",
    "\n",
    "<br>Everytime, we iterate through a generator, it keeps track of where it was the last time it was called and returns the next value.\n",
    "<br>This is different from a normal function, which has no memory of previous calls and always starts at its first line with the same state.\n",
    "\n",
    "<br> If we want to create a potentially large sequence, and the code is too large for a generator comprehension, we can write a generator function. \n",
    "<br>It’s a normal function, but it returns its value with a yield statement rather than return\n",
    "<br>Let's write our own version of range()"
   ]
  },
  {
   "cell_type": "code",
   "execution_count": null,
   "metadata": {},
   "outputs": [],
   "source": [
    "def my_range(first = 0, last = 10, step = 1):\n",
    "    number = first\n",
    "    while number < last:\n",
    "        yield number\n",
    "        number += step"
   ]
  },
  {
   "cell_type": "code",
   "execution_count": null,
   "metadata": {},
   "outputs": [],
   "source": [
    "my_range                          # its a normal function"
   ]
  },
  {
   "cell_type": "code",
   "execution_count": null,
   "metadata": {},
   "outputs": [],
   "source": [
    "ranger = my_range(0, 5)           # it returns a generator object\n",
    "ranger"
   ]
  },
  {
   "cell_type": "code",
   "execution_count": null,
   "metadata": {},
   "outputs": [],
   "source": [
    "for x in ranger:                  # we can iterate over this generator object\n",
    "    print(x)"
   ]
  },
  {
   "cell_type": "markdown",
   "metadata": {},
   "source": [
    "**Decorators**\n",
    "<br>\n",
    "<br>Sometimes, we want to modify an existing function without changing its source code. \n",
    "<br>A common example is adding a debugging statement to see what arguments were passed in.\n",
    "<br>A decorator is a function that takes one function as input and returns another function.\n",
    "<br>\n",
    "<br>The function document_it() defines a decorator that will do the following:\n",
    "<br> • Print the function’s name and the values of its arguments\n",
    "<br> • Run the function with the arguments\n",
    "<br> • Print the result\n",
    "<br> • Return the modified function for use"
   ]
  },
  {
   "cell_type": "code",
   "execution_count": null,
   "metadata": {},
   "outputs": [],
   "source": [
    "def document_it(func):\n",
    "    def new_function(*args, **kwargs):\n",
    "        print('Running function:', func.__name__)\n",
    "        print('Positional arguments:', args)\n",
    "        print('Keyword arguments:', kwargs)\n",
    "        result = func(*args, **kwargs)\n",
    "        print('Result:', result)\n",
    "        return result\n",
    "    return new_function"
   ]
  },
  {
   "cell_type": "markdown",
   "metadata": {},
   "source": [
    "Whatever func we pass to document_it(), we get a new function that includes the extra statements that document_it() adds. \n",
    "<br>A decorator doesn’t have to run any code from func, but document_it() calls func part way through so that we get the results of func as well as the extras.\n",
    "<br>\n",
    "<br>So, how do you use this ? We can apply the decorator manually:"
   ]
  },
  {
   "cell_type": "code",
   "execution_count": null,
   "metadata": {},
   "outputs": [],
   "source": [
    "def add_int(a, b):\n",
    "    return a + b\n",
    "\n",
    "add_int(3, 5)"
   ]
  },
  {
   "cell_type": "code",
   "execution_count": null,
   "metadata": {},
   "outputs": [],
   "source": [
    "cooler_add_int = document_it(add_int)          # manual decorator assignment\n",
    "type(cooler_add_int)"
   ]
  },
  {
   "cell_type": "code",
   "execution_count": null,
   "metadata": {},
   "outputs": [],
   "source": [
    "cooler_add_int(3, 5)"
   ]
  },
  {
   "cell_type": "markdown",
   "metadata": {},
   "source": [
    "As an alternative to the manual decorator assignment above, we can just add @decorator_name before the function that we want to decorate:"
   ]
  },
  {
   "cell_type": "code",
   "execution_count": null,
   "metadata": {},
   "outputs": [],
   "source": [
    "@document_it\n",
    "def add_int(a, b):\n",
    "    return a + b\n",
    "\n",
    "add_int(3, 5)"
   ]
  },
  {
   "cell_type": "markdown",
   "metadata": {},
   "source": [
    "We can have more than one decorator for a function. \n",
    "<br>Let’s write another decorator called square_it() that squares the result:"
   ]
  },
  {
   "cell_type": "code",
   "execution_count": null,
   "metadata": {},
   "outputs": [],
   "source": [
    "def square_it(func):\n",
    "    def new_function(*args, **kwargs):\n",
    "        result = func(*args, **kwargs)\n",
    "        return result*result\n",
    "    return new_function"
   ]
  },
  {
   "cell_type": "markdown",
   "metadata": {},
   "source": [
    "The decorator that’s used closest to the function (just above the def) runs first and then the one above it. \n",
    "<br>Either order gives the same end result, but we can see how the intermediate steps change."
   ]
  },
  {
   "cell_type": "code",
   "execution_count": null,
   "metadata": {},
   "outputs": [],
   "source": [
    "@document_it\n",
    "@square_it\n",
    "def add_int(a, b):\n",
    "    return a + b\n",
    "\n",
    "add_int(3, 5)"
   ]
  },
  {
   "cell_type": "code",
   "execution_count": null,
   "metadata": {},
   "outputs": [],
   "source": [
    "@square_it\n",
    "@document_it\n",
    "def add_int(a, b):\n",
    "    return a + b\n",
    "\n",
    "add_int(3, 5)"
   ]
  },
  {
   "cell_type": "markdown",
   "metadata": {},
   "source": [
    "<a id='classes'></a>\n",
    "## 12. Classes and Objects\n",
    "\n",
    "Everything in Python, from numbers to modules is an object."
   ]
  },
  {
   "cell_type": "code",
   "execution_count": null,
   "metadata": {},
   "outputs": [],
   "source": [
    "number = 7      # Here, we create an object of type integer with the value 7\n",
    "                # and assign an object reference to the name number"
   ]
  },
  {
   "cell_type": "markdown",
   "metadata": {},
   "source": [
    "An object contains both data (variables called attributes) and code (functions called methods).\n",
    "<br>It represents unique instance of some concrete thing.\n",
    "<br>For example, the integer object with the value 7 is an object that facilitates methods such as addition and multiplication.\n",
    "<br>8 is a different object. This means there is an integer class in Python to which 7 and 8 belong.\n",
    "<br>Another example: a String is the built-in Python class that makes string objects such as 'cat' and 'duck'"
   ]
  },
  {
   "cell_type": "markdown",
   "metadata": {},
   "source": [
    "When we create new objects no one has ever created before, we must create a class that indicates what they contain.\n",
    "<br>Suppose that we want to define objects to represent information about people.\n",
    "<br>Each object will represent one person. We will first want to define a class called Person"
   ]
  },
  {
   "cell_type": "markdown",
   "metadata": {},
   "source": [
    "Let's start with the simplest possible class: an empty one"
   ]
  },
  {
   "cell_type": "code",
   "execution_count": null,
   "metadata": {},
   "outputs": [],
   "source": [
    "class Person():                        \n",
    "    pass                   # we needed to say pass to indicate that this class was empty"
   ]
  },
  {
   "cell_type": "code",
   "execution_count": null,
   "metadata": {},
   "outputs": [],
   "source": [
    "someone = Person()      # we create an object from a class by calling the class name as though it were a function\n",
    "                        # Person() creates an individual object from the person class and assign its the name someone"
   ]
  },
  {
   "cell_type": "markdown",
   "metadata": {},
   "source": [
    "Now, lets try a slightly complicated class"
   ]
  },
  {
   "cell_type": "code",
   "execution_count": null,
   "metadata": {},
   "outputs": [],
   "source": [
    "class Person():\n",
    "    def __init__(self):     # __init__(): special Python method to initialize an object from its class definition\n",
    "        pass                # the self argument specifies that it refers to the individual object itself"
   ]
  },
  {
   "cell_type": "markdown",
   "metadata": {},
   "source": [
    "When we define __init__() in a class definition, its first parameter should be self. \n",
    "<br>Although self is not a reserved word in Python, it’s common usage."
   ]
  },
  {
   "cell_type": "markdown",
   "metadata": {},
   "source": [
    "After these dummy examples, let's define a meaningful class "
   ]
  },
  {
   "cell_type": "code",
   "execution_count": null,
   "metadata": {},
   "outputs": [],
   "source": [
    "class Person():                     # Here, we add the parameter name to the initialization method\n",
    "    def __init__(self, name):\n",
    "        self.name = name"
   ]
  },
  {
   "cell_type": "code",
   "execution_count": null,
   "metadata": {},
   "outputs": [],
   "source": [
    "hero = Person('SRK')       # we can create an object from the person class by passing a string for the name parameter"
   ]
  },
  {
   "cell_type": "markdown",
   "metadata": {},
   "source": [
    "Here’s what this line of code does:\n",
    " - Looks up the definition of the Person class\n",
    " - Instantiates (creates) a new object in memory\n",
    " - Calls the object’s __init__ method, passing this newly-created object as self and 'SRK' as name\n",
    " - Stores the value of name in the object\n",
    " - Returns the new object\n",
    " - Attaches the name hero to the object"
   ]
  },
  {
   "cell_type": "code",
   "execution_count": null,
   "metadata": {},
   "outputs": [],
   "source": [
    "print(\"India's popular hero:\", hero.name)   # the name passed is saved with the object as an attribute"
   ]
  },
  {
   "cell_type": "markdown",
   "metadata": {},
   "source": [
    "Inside the Person class definition, we access the name attribute as self.name. \n",
    "<br>When we create an actual object such as hero, we refer to it as hero.name."
   ]
  },
  {
   "cell_type": "markdown",
   "metadata": {},
   "source": [
    "This new object is like any other object in Python. \n",
    "<br>We can use it as an element of a list, tuple, dictionary, or set. \n",
    "<br>We can pass it to a function as an argument, or return it as a result"
   ]
  },
  {
   "cell_type": "markdown",
   "metadata": {},
   "source": [
    "### Inheritence"
   ]
  },
  {
   "cell_type": "markdown",
   "metadata": {},
   "source": [
    "When we are trying to solve some coding problem, often we will find an existing class that creates objects that do almost what we need. \n",
    "<br>What can we do? We could modify this old class, but we will make it more complicated, and we might break something that used to work.\n",
    "<br>Of course, we could write a new class, cutting and pasting from the old one and merging our new code. But this means that we have more code to maintain, and the parts of the old and new classes that used to work the same might drift apart because they’re now in separate places.\n",
    "\n",
    "<br>The solution is inheritance: creating a new class from an existing class but with some additions or changes. It’s an excellent way to reuse code. When we use inheritance, the new class can automatically use all the code from the old class but without copying any of it.\n",
    "<br>We define only what we need to add or change in the new class, and this overrides the behavior of the old class. The original class is called a parent, superclass, or base class; the new class is called a child, subclass, or derived class."
   ]
  },
  {
   "cell_type": "markdown",
   "metadata": {},
   "source": [
    "Let’s inherit something. \n",
    "<br>We define a subclass by using the same class keyword but with the parent class name inside the parentheses."
   ]
  },
  {
   "cell_type": "code",
   "execution_count": null,
   "metadata": {},
   "outputs": [],
   "source": [
    "class Car():                         # class\n",
    "    def exclaim(self):\n",
    "        print('I am a car !')\n",
    "    pass\n",
    "\n",
    "class Yugo(Car):                     # subclass\n",
    "    pass"
   ]
  },
  {
   "cell_type": "markdown",
   "metadata": {},
   "source": [
    "Next, we create an object from each class"
   ]
  },
  {
   "cell_type": "code",
   "execution_count": null,
   "metadata": {},
   "outputs": [],
   "source": [
    "give_me_a_car = Car()\n",
    "give_me_a_yugo = Yugo()"
   ]
  },
  {
   "cell_type": "markdown",
   "metadata": {},
   "source": [
    "A child class is a specialization of a parent class. \n",
    "<br>The object named give_me_a_yugo is an instance of class Yugo, but it also inherits whatever a Car can do."
   ]
  },
  {
   "cell_type": "code",
   "execution_count": null,
   "metadata": {},
   "outputs": [],
   "source": [
    "give_me_a_car.exclaim()             # we can call the exclaim method from objects of parent and child class\n",
    "give_me_a_yugo.exclaim()"
   ]
  },
  {
   "cell_type": "markdown",
   "metadata": {},
   "source": [
    "**Override a Method**\n",
    "\n",
    "A new class initially inherits everything from its parent class.\n",
    "<br>Now, let's see how to replace or override a parent method.\n",
    "<br>Yogo should be different from Car in some way. Otherwise no point defining a new class."
   ]
  },
  {
   "cell_type": "code",
   "execution_count": null,
   "metadata": {},
   "outputs": [],
   "source": [
    "class Car():                                 # class\n",
    "    def exclaim(self):\n",
    "        print('I am a Car !')\n",
    "        \n",
    "class Yugo(Car):                             # sub-class\n",
    "    def exclaim(self):\n",
    "        print('I am a Yugo, much like a Car, but much Yugo-ish')\n",
    "        \n",
    "give_me_a_car = Car()                        # defining objects of the class Car and subclass Yugo\n",
    "give_me_a_yugo = Yugo()\n",
    "\n",
    "give_me_a_car.exclaim()\n",
    "give_me_a_yugo.exclaim()                     # Car() exclaim method has been overwritten by the Yugo exclaim method"
   ]
  },
  {
   "cell_type": "markdown",
   "metadata": {},
   "source": [
    "We can override any methods, including __init__(). In below example, we define a Person class. \n",
    "<br>Then make subclasses that represent doctors (MDPerson) and lawyers (JDPerson):"
   ]
  },
  {
   "cell_type": "code",
   "execution_count": null,
   "metadata": {},
   "outputs": [],
   "source": [
    "class Person():\n",
    "    def __init__(self, name):\n",
    "        self.name = name\n",
    "        \n",
    "class MDPerson(Person):\n",
    "    def __init__(self, name):\n",
    "        self.name = 'Doctor ' + name\n",
    "\n",
    "class JDPerson(Person):\n",
    "    def __init__(self, name):\n",
    "        self.name = name + ', Esquire' \n",
    "        \n",
    "person = Person('Fudd')\n",
    "doctor = MDPerson('Fudd')\n",
    "lawyer = JDPerson('Fudd')\n",
    "\n",
    "print(person.name)\n",
    "print(doctor.name)\n",
    "print(lawyer.name)"
   ]
  },
  {
   "cell_type": "markdown",
   "metadata": {},
   "source": [
    "**Add a Method**\n",
    "\n",
    "The child class can also add a method that was not present in its parent class"
   ]
  },
  {
   "cell_type": "code",
   "execution_count": null,
   "metadata": {},
   "outputs": [],
   "source": [
    "class Car():\n",
    "    def exclaim(self):\n",
    "        print('I am a Car')\n",
    "        \n",
    "class Yugo(Car):\n",
    "    def exclaim(self):\n",
    "        print('I am a Yugo, much like a Car, but much Yugo-ish')\n",
    "    def need_a_push(self):\n",
    "        print('A little help here ?')\n",
    "\n",
    "give_me_a_car = Car()\n",
    "give_me_a_yugo = Yugo()\n",
    "\n",
    "give_me_a_yugo.need_a_push()                # A Yugo object can react to a need_a_push() method call\n",
    "give_me_a_car.need_a_push()                 # need_a_push method wont work with objects of Car() class"
   ]
  },
  {
   "cell_type": "markdown",
   "metadata": {},
   "source": [
    "**Super() to get help from the parent class**\n",
    "\n",
    "We now know how the child class could add or override a method from a parent.\n",
    "<br>What if it wanted to call that parent method ?\n",
    "<br>Let's define a new class called EmailPerson() that represents a Person with an email address"
   ]
  },
  {
   "cell_type": "code",
   "execution_count": null,
   "metadata": {},
   "outputs": [],
   "source": [
    "class Person():\n",
    "    def __init__(self, name):\n",
    "        self.name = name\n",
    "\n",
    "class EmailPerson(Person):\n",
    "    def __init__(self, name, email):        #__init__() call in this subclass has an additional email parameter\n",
    "        super().__init__(name)\n",
    "        self.email = email"
   ]
  },
  {
   "cell_type": "markdown",
   "metadata": {},
   "source": [
    "When we define an __init__() method for our class, we are replacing the __init__() method of its parent class, and the latter is not called automatically anymore. \n",
    "<br>As a result, we need to call it explicitly. Here’s what’s happening:\n",
    "<br>-The super() gets the definition of the parent class, Person.\n",
    "<br>-The __init__() method calls the Person.__init__() method. It takes care of passing the self argument to the superclass, so we just need to give it any optional arguments. In our case, the only other argument Person() accepts is name.\n",
    "<br>-The self.email = email line is the new code that makes this EmailPerson different from a Person."
   ]
  },
  {
   "cell_type": "code",
   "execution_count": null,
   "metadata": {},
   "outputs": [],
   "source": [
    "bob = EmailPerson('Sudhir', 'snpathak')\n",
    "print(bob.name, bob.email)"
   ]
  },
  {
   "cell_type": "markdown",
   "metadata": {},
   "source": [
    "### Get and Set Attribute values with Properties\n",
    "\n",
    "Some object-oriented languages support private object attributes that can not be accessed directly from the outside.\n",
    "<br>Programmers often need to write getter and setter methods to read and write the values of such private attributes.\n",
    "\n",
    "Python does not need getters or setters, because all attributes and methods are public.\n",
    "<br>If direct access to attributes makes us nervous, we can certainly write getters and setters.\n",
    "<br>For this purpose, we use properties in Python\n",
    "\n",
    "For example, let's define a Duck class with a single attribute called hidden_name\n",
    "<br>We do not want people to access this directly, do we will define two methods: a getter (get_name) and a setter (set_name)\n",
    "<br>Finally, we define these methods as properties of the name attribute:"
   ]
  },
  {
   "cell_type": "code",
   "execution_count": null,
   "metadata": {},
   "outputs": [],
   "source": [
    "class Duck():\n",
    "    def __init__(self, input_name):\n",
    "        self.hidden_name = input_name\n",
    "    def get_name(self):\n",
    "        print('inside the getter')\n",
    "        return self.hidden_name\n",
    "    def set_name(self, input_name):\n",
    "        print('inside the setter')\n",
    "        self.hidden_name = input_name\n",
    "    name = property(get_name, set_name)"
   ]
  },
  {
   "cell_type": "markdown",
   "metadata": {},
   "source": [
    "The new methods act as normal getters and setters until that last line.\n",
    "<br>It defines the two methods as properties of the attribute called name."
   ]
  },
  {
   "cell_type": "code",
   "execution_count": null,
   "metadata": {},
   "outputs": [],
   "source": [
    "fowl = Duck('Howard')                               # when we refer to the name of any Duck object, \n",
    "fowl.name                                           # it actually calls the get_name() method to return it"
   ]
  },
  {
   "cell_type": "code",
   "execution_count": null,
   "metadata": {},
   "outputs": [],
   "source": [
    "fowl.name = 'Daffy'          # when you assign a value to the name attribute, the set_name() method will be called"
   ]
  },
  {
   "cell_type": "code",
   "execution_count": null,
   "metadata": {},
   "outputs": [],
   "source": [
    "fowl.name"
   ]
  },
  {
   "cell_type": "code",
   "execution_count": null,
   "metadata": {},
   "outputs": [],
   "source": [
    "fowl.get_name()              # We can still call get_name() directly, too, like a normal getter method"
   ]
  },
  {
   "cell_type": "code",
   "execution_count": null,
   "metadata": {},
   "outputs": [],
   "source": [
    "fowl.set_name('Howard')# also, we can still call the set_name() method directly\n",
    "fowl.name"
   ]
  },
  {
   "cell_type": "markdown",
   "metadata": {},
   "source": [
    "Another way to define properties is with decorators. \n",
    "<br>In this next example, we’ll define two different methods, each called name() but preceded by different decorators:\n",
    "<br>• @property, which goes before the getter method\n",
    "<br>• @name.setter, which goes before the setter method"
   ]
  },
  {
   "cell_type": "code",
   "execution_count": null,
   "metadata": {},
   "outputs": [],
   "source": [
    "class Duck():\n",
    "    def __init__(self, input_name):\n",
    "        self.hidden_name = input_name\n",
    "    @property\n",
    "    def name(self):\n",
    "        print('inside the getter')\n",
    "        return self.hidden_name\n",
    "    @name.setter\n",
    "    def name(self, input_name):\n",
    "        print('inside the setter')\n",
    "        self.hidden_name = input_name"
   ]
  },
  {
   "cell_type": "markdown",
   "metadata": {},
   "source": [
    "We can still access name as though it were an attribute, but there are no visible get_name() or set_name() methods:"
   ]
  },
  {
   "cell_type": "code",
   "execution_count": null,
   "metadata": {},
   "outputs": [],
   "source": [
    "fowl = Duck('Howard')\n",
    "fowl.name"
   ]
  },
  {
   "cell_type": "code",
   "execution_count": null,
   "metadata": {},
   "outputs": [],
   "source": [
    "fowl.name = 'Donald'\n",
    "fowl.name"
   ]
  },
  {
   "cell_type": "code",
   "execution_count": null,
   "metadata": {},
   "outputs": [],
   "source": [
    "fowl = Duck('Duck1')                     # if we feel comfortable, we can directly access and change the attributes\n",
    "print(fowl.hidden_name)\n",
    "\n",
    "fowl.hidden_name = 'Duck2'\n",
    "print(fowl.hidden_name)"
   ]
  },
  {
   "cell_type": "markdown",
   "metadata": {},
   "source": [
    "In both of the previous examples, we used the name property to refer to a single attribute (ours was called hidden_name) stored within the object. \n",
    "<br> A property can refer to a computed value, as well.\n",
    "<br> Let’s define a Circle class that has a radius attribute and a computed diameter property."
   ]
  },
  {
   "cell_type": "code",
   "execution_count": null,
   "metadata": {},
   "outputs": [],
   "source": [
    "class Circle():\n",
    "    def __init__(self, radius):\n",
    "        self.radius = radius\n",
    "    @property\n",
    "    def diameter(self):\n",
    "        return 2*self.radius\n",
    "\n",
    "c = Circle(5)                   # creating a circle object with radius 5\n",
    "print(c.radius)\n",
    "\n",
    "print(c.diameter)               # we can refer to diameter as if it were an attribute such as radius"
   ]
  },
  {
   "cell_type": "code",
   "execution_count": null,
   "metadata": {},
   "outputs": [],
   "source": [
    "c.radius = 7                          # if we change the radius attribute at any time, \n",
    "print(c.radius, c.diameter)           # the diameter property will be computed from the current value of radius"
   ]
  },
  {
   "cell_type": "code",
   "execution_count": null,
   "metadata": {},
   "outputs": [],
   "source": [
    "c.diameter = 10                 # if we don’t specify a setter property for an attribute, \n",
    "                                # we can’t set it from the outside. This is handy for read-only attributes."
   ]
  },
  {
   "cell_type": "markdown",
   "metadata": {},
   "source": [
    "There is one more big advantage of using a property over direct attribute access.\n",
    "<br>If we ever change the definition of the attribute, we only need to fix the code within the class definition, not in all the callers."
   ]
  },
  {
   "cell_type": "markdown",
   "metadata": {},
   "source": [
    "**Name Mangling for Privacy**\n",
    "\n",
    "Python has a naming convention for attributes that should not be visible outside of their class definition: begin by using with two underscores\n",
    "<br> Let's take the duck class example discussed above and rename hidden_name to __name"
   ]
  },
  {
   "cell_type": "code",
   "execution_count": null,
   "metadata": {},
   "outputs": [],
   "source": [
    "class Duck():\n",
    "    def __init__(self, input_name):\n",
    "        self.__name = input_name\n",
    "    @property\n",
    "    def name(self):\n",
    "        print('inside the getter')\n",
    "        return self.__name\n",
    "    @name.setter\n",
    "    def name(self, input_name):\n",
    "        print('inside the setter')\n",
    "        self.__name = input_name"
   ]
  },
  {
   "cell_type": "code",
   "execution_count": null,
   "metadata": {},
   "outputs": [],
   "source": [
    "fowl = Duck('Howard')                             # to check everything works as before\n",
    "print(fowl.name)\n",
    "\n",
    "fowl.name = 'Donald'\n",
    "print(fowl.name)"
   ]
  },
  {
   "cell_type": "code",
   "execution_count": null,
   "metadata": {},
   "outputs": [],
   "source": [
    "fowl.__name                   # we can not access the __name attribute"
   ]
  },
  {
   "cell_type": "markdown",
   "metadata": {},
   "source": [
    "This naming convention doesn’t make it private, but Python does mangle the name to make it unlikely for external code to stumble upon it."
   ]
  },
  {
   "cell_type": "code",
   "execution_count": null,
   "metadata": {},
   "outputs": [],
   "source": [
    "fowl._Duck__name            # Python has mangled it to a different name"
   ]
  },
  {
   "cell_type": "markdown",
   "metadata": {},
   "source": [
    "Notice that it didn’t print 'inside the getter'. \n",
    "<br>Although this isn’t perfect protection, name mangling discourages accidental or intentional direct access to the attribute."
   ]
  },
  {
   "cell_type": "markdown",
   "metadata": {},
   "source": [
    "### Method Types\n",
    "\n",
    "Some data (attributes) and functions (methods) are part of the class itself, and some are part of the objects that are created from that class.\n",
    "\n",
    "Instance method: When we see an initial 'self' argument in methods within a class definition, it’s an instance method. \n",
    "<br>These are the types of methods that we would normally write when creating our own classes. The first parameter of an instance method is self, and Python passes the object to the method when we call it.\n",
    "\n",
    "Class method: In contrast, a class method affects the class as a whole. Any change we make to the class affects all of its objects. Within a class definition, a preceding @classmethod decorator indicates that that following function is a class method. Also, the first parameter to the method is the class itself. The Python tradition is to call the parameter cls, because class is a reserved word and can’t be used here.\n",
    "\n",
    "Let’s define a class method for A that counts how many object instances have been made from it"
   ]
  },
  {
   "cell_type": "code",
   "execution_count": null,
   "metadata": {},
   "outputs": [],
   "source": [
    "class A():\n",
    "    \n",
    "    count = 0\n",
    "    \n",
    "    def __init__(self):\n",
    "        A.count += 1\n",
    "    \n",
    "    def exclaim(self):\n",
    "        print('I am in A !')\n",
    "    \n",
    "    @classmethod\n",
    "    def kids(cls):\n",
    "        print('A has ', cls.count, ' little objects')\n",
    "        \n",
    "easy_A = A()\n",
    "breezy_A = A()\n",
    "wheezy_A = A()\n",
    "A.kids()"
   ]
  },
  {
   "cell_type": "markdown",
   "metadata": {},
   "source": [
    "Notice that we referred to A.count (the class attribute) rather than self.count (which would be an object instance attribute). \n",
    "<br>In the kids() method, we used cls.count, but we could just as well have used A.count."
   ]
  },
  {
   "cell_type": "markdown",
   "metadata": {},
   "source": [
    "### Duck Typing\n",
    "\n",
    "To be continued....."
   ]
  },
  {
   "cell_type": "markdown",
   "metadata": {},
   "source": [
    "<a id='essentials'></a>\n",
    "## 13. Everything Else"
   ]
  },
  {
   "cell_type": "markdown",
   "metadata": {},
   "source": [
    "**Commenting and Continuation**"
   ]
  },
  {
   "cell_type": "code",
   "execution_count": null,
   "metadata": {},
   "outputs": [],
   "source": [
    "print('This is # Python')   # although # is used for commenting out, when inside a string it works like a regular #"
   ]
  },
  {
   "cell_type": "markdown",
   "metadata": {},
   "source": [
    "<br> Python does not have a multiline comment. We need to explicitly begin each comment line or a section with #"
   ]
  },
  {
   "cell_type": "code",
   "execution_count": null,
   "metadata": {},
   "outputs": [],
   "source": [
    "alphabet = 'abcde' + \\\n",
    "            'fghij' + \\\n",
    "            'klmno' + \\\n",
    "            'pqrst' + \\\n",
    "            'uvwxyz'                           # adding small strings to make a big string\n",
    "alphabet                                       # continuing to next line using backslash (/)"
   ]
  },
  {
   "cell_type": "markdown",
   "metadata": {},
   "source": [
    "**None**\n",
    "<br>\n",
    "<br>None is a special Python value that holds a place when there is nothing to say.\n",
    "<br>However, it is not the same as boolean value False, although it looks false when evaluated as a boolean."
   ]
  },
  {
   "cell_type": "code",
   "execution_count": null,
   "metadata": {},
   "outputs": [],
   "source": [
    "temp = None\n",
    "if temp:                  # temp is evaluated as False \n",
    "    print('Something')\n",
    "else:\n",
    "    print('Nothing')"
   ]
  },
  {
   "cell_type": "code",
   "execution_count": null,
   "metadata": {},
   "outputs": [],
   "source": [
    "temp = None               # we can distinguish None from a boolean False, using Python's is operator\n",
    "if temp is None:\n",
    "    print('None')\n",
    "elif temp is True:        # try temp = True, False to see the difference\n",
    "    print('True')\n",
    "elif temp is False:\n",
    "    print('False')\n",
    "else:\n",
    "    print('Not None')"
   ]
  },
  {
   "cell_type": "markdown",
   "metadata": {},
   "source": [
    "This seems like a subtle distinction, but it's important in Python.\n",
    "<br> We will need None to distinguish a missing value from an empty value.\n",
    "<br> Remember that zero-values integers/floats, empty strings/lists/tuples/dictionaries/sets are all False, but are not equal to None. "
   ]
  },
  {
   "cell_type": "markdown",
   "metadata": {},
   "source": [
    "**Hangle errors with try and except**\n",
    "\n",
    "When dealing with errors, Python uses exceptions: code that is executed when an associated error occurs.\n",
    "<br>When we run code that might fail under some circumstances, we also need appropriate exception handlers to intercept any potential errors.\n",
    "<br>It’s good practice to add exception handling anywhere an exception might occur to let the user know what is happening."
   ]
  },
  {
   "cell_type": "code",
   "execution_count": null,
   "metadata": {},
   "outputs": [],
   "source": [
    "temp = [1, 2, 3]\n",
    "\n",
    "position = 5\n",
    "\n",
    "try:                                                        # using try to wrap our code\n",
    "    temp[position]                                         \n",
    "except:                                                     # use except to provide the error handling\n",
    "    print('Need a position between 0 and ', len(temp)-1)"
   ]
  },
  {
   "cell_type": "markdown",
   "metadata": {},
   "source": [
    "The code inside the try block is run. \n",
    "<br>If there is an error, an exception is raised and the code inside the except block runs. If there are no errors, the except block is skipped."
   ]
  },
  {
   "cell_type": "markdown",
   "metadata": {},
   "source": [
    "**id()**\n",
    "<br>\n",
    "<br>The id() function gives us the ability to check the unique identifier of an object."
   ]
  },
  {
   "cell_type": "code",
   "execution_count": null,
   "metadata": {},
   "outputs": [],
   "source": [
    "a = 2                  # we create an object by assigning a variable to an object\n",
    "                       # a points to an object that contains the value 2\n",
    "    \n",
    "print(id(a))           # using id(), we get the unique identifier of that object\n",
    "                       # this unique identifier points to a location in memory, which is an object\n",
    "\n",
    "b = 2                  # unique identifier for b is same as that of a\n",
    "print(id(b))           # b is another variable that points to the same object\n",
    "                       # a and b are pointing to the same object, that contains the value 2\n",
    "c = 3\n",
    "print(id(c))           # different from unique identifiers of a and b, as it points to different object, 3"
   ]
  },
  {
   "cell_type": "code",
   "execution_count": null,
   "metadata": {},
   "outputs": [],
   "source": [
    "a = 2\n",
    "b = a\n",
    "print(a, id(a))\n",
    "print(b, id(b))\n",
    "print('\\n')\n",
    "\n",
    "a = 3\n",
    "print(a, id(a))             # a is pointing to different object now, so its identifier has changed    \n",
    "print(b, id(b))             # no aliasing : changing a does not change b : b's value and identifier remain the same"
   ]
  },
  {
   "cell_type": "code",
   "execution_count": null,
   "metadata": {},
   "outputs": [],
   "source": [
    "a = 'Sudhir'\n",
    "b = 'sudhir'\n",
    "print(id(a), id(b))      # a and b are pointing to different objects"
   ]
  },
  {
   "cell_type": "markdown",
   "metadata": {},
   "source": [
    "**from here**"
   ]
  },
  {
   "cell_type": "code",
   "execution_count": null,
   "metadata": {},
   "outputs": [],
   "source": [
    "rng = np.random.rand(5)\n",
    "print(rng)\n",
    "\n",
    "mask = rng < 0.5               # True if the random number is less than 0.5, otherwise false\n",
    "print(mask)\n",
    "\n",
    "print(~mask)                   # ~ changes True to False and False to True"
   ]
  }
 ],
 "metadata": {
  "kernelspec": {
   "display_name": "Python 3",
   "language": "python",
   "name": "python3"
  },
  "language_info": {
   "codemirror_mode": {
    "name": "ipython",
    "version": 3
   },
   "file_extension": ".py",
   "mimetype": "text/x-python",
   "name": "python",
   "nbconvert_exporter": "python",
   "pygments_lexer": "ipython3",
   "version": "3.7.4"
  },
  "varInspector": {
   "cols": {
    "lenName": 16,
    "lenType": 16,
    "lenVar": 40
   },
   "kernels_config": {
    "python": {
     "delete_cmd_postfix": "",
     "delete_cmd_prefix": "del ",
     "library": "var_list.py",
     "varRefreshCmd": "print(var_dic_list())"
    },
    "r": {
     "delete_cmd_postfix": ") ",
     "delete_cmd_prefix": "rm(",
     "library": "var_list.r",
     "varRefreshCmd": "cat(var_dic_list()) "
    }
   },
   "types_to_exclude": [
    "module",
    "function",
    "builtin_function_or_method",
    "instance",
    "_Feature"
   ],
   "window_display": false
  }
 },
 "nbformat": 4,
 "nbformat_minor": 1
}
