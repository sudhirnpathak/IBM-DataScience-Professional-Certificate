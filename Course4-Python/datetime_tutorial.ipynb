{
 "cells": [
  {
   "cell_type": "markdown",
   "metadata": {},
   "source": [
    "# Datetime in Pandas"
   ]
  },
  {
   "cell_type": "code",
   "execution_count": 1,
   "metadata": {},
   "outputs": [],
   "source": [
    "import pandas as pd\n",
    "import datetime as dt\n",
    "\n",
    "from pandas_datareader import data"
   ]
  },
  {
   "cell_type": "markdown",
   "metadata": {},
   "source": [
    "Let's see how a date is described in Python"
   ]
  },
  {
   "cell_type": "code",
   "execution_count": 2,
   "metadata": {},
   "outputs": [
    {
     "name": "stdout",
     "output_type": "stream",
     "text": [
      "1986-12-27\n",
      "<class 'datetime.date'>\n",
      "--------------------\n",
      "1986\n",
      "12\n",
      "27\n"
     ]
    }
   ],
   "source": [
    "date = dt.date(1986, 12, 27)       # year, month, date\n",
    "\n",
    "print(date)\n",
    "print(type(date))\n",
    "\n",
    "print('-'*20)\n",
    "\n",
    "print(date.year)\n",
    "print(date.month)\n",
    "print(date.day)"
   ]
  },
  {
   "cell_type": "code",
   "execution_count": 3,
   "metadata": {},
   "outputs": [
    {
     "data": {
      "text/plain": [
       "datetime.date(1986, 12, 27)"
      ]
     },
     "execution_count": 3,
     "metadata": {},
     "output_type": "execute_result"
    }
   ],
   "source": [
    "date = dt.date(1986, 12, 27)\n",
    "date                # just to check the difference between direct printing and using print"
   ]
  },
  {
   "cell_type": "markdown",
   "metadata": {},
   "source": [
    "Now, let's see how a date and time is expressed in Python"
   ]
  },
  {
   "cell_type": "code",
   "execution_count": 5,
   "metadata": {},
   "outputs": [
    {
     "name": "stdout",
     "output_type": "stream",
     "text": [
      "1986-12-27 17:30:20\n",
      "<class 'datetime.datetime'>\n",
      "--------------------\n",
      "1986\n",
      "12\n",
      "27\n",
      "--------------------\n",
      "17\n",
      "30\n",
      "20\n"
     ]
    }
   ],
   "source": [
    "date_time = dt.datetime(1986, 12, 27, 17, 30, 20)     # year, month, date, hour, minutes, second\n",
    "\n",
    "print(date_time)\n",
    "print(type(date_time))\n",
    "\n",
    "print('-'*20)\n",
    "\n",
    "print(date_time.year)\n",
    "print(date_time.month)\n",
    "print(date_time.day)\n",
    "\n",
    "print('-'*20)\n",
    "\n",
    "print(date_time.hour)\n",
    "print(date_time.minute)\n",
    "print(date_time.second)"
   ]
  },
  {
   "cell_type": "markdown",
   "metadata": {},
   "source": [
    "**Timestamp**"
   ]
  },
  {
   "cell_type": "code",
   "execution_count": 6,
   "metadata": {},
   "outputs": [
    {
     "data": {
      "text/plain": [
       "Timestamp('1986-12-27 00:00:00')"
      ]
     },
     "execution_count": 6,
     "metadata": {},
     "output_type": "execute_result"
    }
   ],
   "source": [
    "date = pd.Timestamp(\"1986 12 27\")\n",
    "date"
   ]
  },
  {
   "cell_type": "code",
   "execution_count": 7,
   "metadata": {},
   "outputs": [
    {
     "data": {
      "text/plain": [
       "Timestamp('1986-12-27 00:00:00')"
      ]
     },
     "execution_count": 7,
     "metadata": {},
     "output_type": "execute_result"
    }
   ],
   "source": [
    "date = pd.Timestamp(\"1986/12/27\")      # expressed exactly as the above representation\n",
    "date"
   ]
  },
  {
   "cell_type": "code",
   "execution_count": 8,
   "metadata": {},
   "outputs": [
    {
     "data": {
      "text/plain": [
       "Timestamp('1986-12-27 00:00:00')"
      ]
     },
     "execution_count": 8,
     "metadata": {},
     "output_type": "execute_result"
    }
   ],
   "source": [
    "date = pd.Timestamp(\"1986, 12, 27\")    # works the same\n",
    "date"
   ]
  },
  {
   "cell_type": "markdown",
   "metadata": {},
   "source": [
    "We see that Timestamp is quite useful, parsing dates written in various formats into a standard format. Now, let's see how to include time in the Timestamp representation"
   ]
  },
  {
   "cell_type": "code",
   "execution_count": 9,
   "metadata": {},
   "outputs": [
    {
     "data": {
      "text/plain": [
       "Timestamp('1986-12-27 17:30:20')"
      ]
     },
     "execution_count": 9,
     "metadata": {},
     "output_type": "execute_result"
    }
   ],
   "source": [
    "datetime = pd.Timestamp(\"1986-12-27 17:30:20\")\n",
    "datetime"
   ]
  },
  {
   "cell_type": "code",
   "execution_count": 10,
   "metadata": {},
   "outputs": [
    {
     "data": {
      "text/plain": [
       "Timestamp('1986-12-27 17:30:20')"
      ]
     },
     "execution_count": 10,
     "metadata": {},
     "output_type": "execute_result"
    }
   ],
   "source": [
    "datetime = pd.Timestamp(\"1986-12-27 5:30:20 PM\")    # same as above\n",
    "datetime"
   ]
  },
  {
   "cell_type": "code",
   "execution_count": 11,
   "metadata": {},
   "outputs": [
    {
     "data": {
      "text/plain": [
       "Timestamp('1986-12-27 05:30:20')"
      ]
     },
     "execution_count": 11,
     "metadata": {},
     "output_type": "execute_result"
    }
   ],
   "source": [
    "datetime = pd.Timestamp(\"1986-12-27 5:30:20 AM\")\n",
    "datetime"
   ]
  },
  {
   "cell_type": "code",
   "execution_count": 12,
   "metadata": {},
   "outputs": [
    {
     "data": {
      "text/plain": [
       "Timestamp('1986-12-27 05:30:20')"
      ]
     },
     "execution_count": 12,
     "metadata": {},
     "output_type": "execute_result"
    }
   ],
   "source": [
    "datetime = pd.Timestamp(\"1986-12-27 5:30:20\")\n",
    "datetime"
   ]
  },
  {
   "cell_type": "markdown",
   "metadata": {},
   "source": [
    "**DateTimeIndex**\n",
    "\n",
    "We create a list of strings and then convert to DatetimeIndex"
   ]
  },
  {
   "cell_type": "code",
   "execution_count": 13,
   "metadata": {},
   "outputs": [
    {
     "data": {
      "text/plain": [
       "DatetimeIndex(['1986-12-27', '1986-12-28', '1986-12-29'], dtype='datetime64[ns]', freq=None)"
      ]
     },
     "execution_count": 13,
     "metadata": {},
     "output_type": "execute_result"
    }
   ],
   "source": [
    "dates = [\"1986/12/27\", \"1986/12/28\", \"1986/12/29\"]  # create a list of strings\n",
    "\n",
    "pd.DatetimeIndex(dates)    # converting to a real time datetime index"
   ]
  },
  {
   "cell_type": "markdown",
   "metadata": {},
   "source": [
    "We can also create the the list of dates using datetime and then convert the list to the DatetimeIndex"
   ]
  },
  {
   "cell_type": "code",
   "execution_count": 14,
   "metadata": {},
   "outputs": [
    {
     "data": {
      "text/plain": [
       "DatetimeIndex(['1986-12-27', '1986-12-28', '1986-12-29'], dtype='datetime64[ns]', freq=None)"
      ]
     },
     "execution_count": 14,
     "metadata": {},
     "output_type": "execute_result"
    }
   ],
   "source": [
    "dates = [dt.date(1986, 12, 27), dt.date(1986, 12, 28), dt.date(1986, 12, 29)]\n",
    "pd.DatetimeIndex(dates)"
   ]
  },
  {
   "cell_type": "markdown",
   "metadata": {},
   "source": [
    "Now, lets assign some values to these dates"
   ]
  },
  {
   "cell_type": "code",
   "execution_count": 15,
   "metadata": {},
   "outputs": [
    {
     "data": {
      "text/plain": [
       "1986-12-27     Sudhir\n",
       "1986-12-28    Narayan\n",
       "1986-12-29     Pathak\n",
       "dtype: object"
      ]
     },
     "execution_count": 15,
     "metadata": {},
     "output_type": "execute_result"
    }
   ],
   "source": [
    "dates = [\"1986/12/27\", \"1986/12/28\", \"1986/12/29\"]\n",
    "date_index = pd.DatetimeIndex(dates)\n",
    "\n",
    "values = ('Sudhir', 'Narayan', 'Pathak')\n",
    "pd.Series(data = values, index = date_index)"
   ]
  },
  {
   "cell_type": "markdown",
   "metadata": {},
   "source": [
    "**pd.to_datetime() method**"
   ]
  },
  {
   "cell_type": "code",
   "execution_count": 16,
   "metadata": {},
   "outputs": [
    {
     "data": {
      "text/plain": [
       "Timestamp('1986-12-27 00:00:00')"
      ]
     },
     "execution_count": 16,
     "metadata": {},
     "output_type": "execute_result"
    }
   ],
   "source": [
    "date = pd.to_datetime('1986, 12, 27')  # string input\n",
    "date "
   ]
  },
  {
   "cell_type": "code",
   "execution_count": 17,
   "metadata": {},
   "outputs": [
    {
     "data": {
      "text/plain": [
       "Timestamp('1986-12-27 00:00:00')"
      ]
     },
     "execution_count": 17,
     "metadata": {},
     "output_type": "execute_result"
    }
   ],
   "source": [
    "date = pd.to_datetime('1986/12/27')     # string input\n",
    "date"
   ]
  },
  {
   "cell_type": "code",
   "execution_count": 18,
   "metadata": {},
   "outputs": [
    {
     "data": {
      "text/plain": [
       "Timestamp('1986-12-27 00:00:00')"
      ]
     },
     "execution_count": 18,
     "metadata": {},
     "output_type": "execute_result"
    }
   ],
   "source": [
    "date = pd.to_datetime(dt.date(1986, 12, 27))   # datetime input, see below example\n",
    "date"
   ]
  },
  {
   "cell_type": "code",
   "execution_count": 19,
   "metadata": {},
   "outputs": [
    {
     "data": {
      "text/plain": [
       "datetime.date(1986, 12, 27)"
      ]
     },
     "execution_count": 19,
     "metadata": {},
     "output_type": "execute_result"
    }
   ],
   "source": [
    "date = dt.date(1986, 12, 27)     # this is of datetime type\n",
    "date                             # calling to_datetime on this converts it to Timestamp, as above "
   ]
  },
  {
   "cell_type": "code",
   "execution_count": 20,
   "metadata": {},
   "outputs": [
    {
     "data": {
      "text/plain": [
       "Timestamp('1986-12-27 17:30:20')"
      ]
     },
     "execution_count": 20,
     "metadata": {},
     "output_type": "execute_result"
    }
   ],
   "source": [
    "datetime = pd.to_datetime(dt.datetime(1986, 12, 27, 17, 30, 20))\n",
    "datetime"
   ]
  },
  {
   "cell_type": "code",
   "execution_count": 21,
   "metadata": {},
   "outputs": [
    {
     "data": {
      "text/plain": [
       "DatetimeIndex(['1986-12-27', '1986-12-28', '1986-12-29'], dtype='datetime64[ns]', freq=None)"
      ]
     },
     "execution_count": 21,
     "metadata": {},
     "output_type": "execute_result"
    }
   ],
   "source": [
    "dates = [\"1986/12/27\", \"1986/12/28\", \"1986/12/29\"]   # list of strings\n",
    "pd.to_datetime(dates)     # to_datetime generates a DateTimeIndex, instead of a Timestamp"
   ]
  },
  {
   "cell_type": "markdown",
   "metadata": {},
   "source": [
    "pd.to_datetime() can be used to convert the columns of series or dataframe to a standard datetime format. We can see how different formats have been converted to the standard datetime format."
   ]
  },
  {
   "cell_type": "code",
   "execution_count": 22,
   "metadata": {},
   "outputs": [
    {
     "data": {
      "text/plain": [
       "DatetimeIndex(['2019-12-22', '2019-12-22', 'NaT', '2019-12-23', '2019-12-24'], dtype='datetime64[ns]', freq=None)"
      ]
     },
     "execution_count": 22,
     "metadata": {},
     "output_type": "execute_result"
    }
   ],
   "source": [
    "dates = ['December 22nd, 2019', '2019, 12, 22', 'This is Date', 'Dec 23rd, 2019', '24th Dec 2019']\n",
    "pd.to_datetime(dates, errors = 'coerce')"
   ]
  },
  {
   "cell_type": "markdown",
   "metadata": {},
   "source": [
    "**pd.date_range**"
   ]
  },
  {
   "cell_type": "code",
   "execution_count": 23,
   "metadata": {},
   "outputs": [
    {
     "data": {
      "text/plain": [
       "DatetimeIndex(['2019-12-22', '2019-12-23', '2019-12-24', '2019-12-25',\n",
       "               '2019-12-26', '2019-12-27', '2019-12-28', '2019-12-29',\n",
       "               '2019-12-30', '2019-12-31',\n",
       "               ...\n",
       "               '2020-12-13', '2020-12-14', '2020-12-15', '2020-12-16',\n",
       "               '2020-12-17', '2020-12-18', '2020-12-19', '2020-12-20',\n",
       "               '2020-12-21', '2020-12-22'],\n",
       "              dtype='datetime64[ns]', length=367, freq='D')"
      ]
     },
     "execution_count": 23,
     "metadata": {},
     "output_type": "execute_result"
    }
   ],
   "source": [
    "dates = pd.date_range(start = '2019-12-22', end = '2020-12-22', freq = 'D')\n",
    "dates"
   ]
  },
  {
   "cell_type": "markdown",
   "metadata": {},
   "source": [
    "It has created a total of 367 values, inclusive of both end points. Now, let's change the frequency to Annualy"
   ]
  },
  {
   "cell_type": "code",
   "execution_count": 24,
   "metadata": {},
   "outputs": [
    {
     "data": {
      "text/plain": [
       "DatetimeIndex(['2019-12-31'], dtype='datetime64[ns]', freq='A-DEC')"
      ]
     },
     "execution_count": 24,
     "metadata": {},
     "output_type": "execute_result"
    }
   ],
   "source": [
    "dates = pd.date_range(start = '2019-12-22', end = '2020-12-22', freq = 'A')\n",
    "dates"
   ]
  },
  {
   "cell_type": "code",
   "execution_count": 25,
   "metadata": {},
   "outputs": [
    {
     "data": {
      "text/plain": [
       "DatetimeIndex(['2019-12-31', '2020-12-31', '2021-12-31'], dtype='datetime64[ns]', freq='A-DEC')"
      ]
     },
     "execution_count": 25,
     "metadata": {},
     "output_type": "execute_result"
    }
   ],
   "source": [
    "dates = pd.date_range(start = '2019-12-22', end = '2022-12-22', freq = 'A')\n",
    "dates"
   ]
  },
  {
   "cell_type": "markdown",
   "metadata": {},
   "source": [
    "Now, lets generate it weekely"
   ]
  },
  {
   "cell_type": "code",
   "execution_count": 26,
   "metadata": {},
   "outputs": [
    {
     "data": {
      "text/plain": [
       "DatetimeIndex(['2019-12-22', '2019-12-29', '2020-01-05', '2020-01-12',\n",
       "               '2020-01-19', '2020-01-26', '2020-02-02', '2020-02-09',\n",
       "               '2020-02-16', '2020-02-23',\n",
       "               ...\n",
       "               '2022-10-16', '2022-10-23', '2022-10-30', '2022-11-06',\n",
       "               '2022-11-13', '2022-11-20', '2022-11-27', '2022-12-04',\n",
       "               '2022-12-11', '2022-12-18'],\n",
       "              dtype='datetime64[ns]', length=157, freq='W-SUN')"
      ]
     },
     "execution_count": 26,
     "metadata": {},
     "output_type": "execute_result"
    }
   ],
   "source": [
    "dates = pd.date_range(start = '2019-12-22', end = '2022-12-22', freq = 'W')\n",
    "dates"
   ]
  },
  {
   "cell_type": "code",
   "execution_count": 27,
   "metadata": {},
   "outputs": [
    {
     "data": {
      "text/plain": [
       "DatetimeIndex(['2019-12-22', '2020-01-19', '2020-02-16', '2020-03-15',\n",
       "               '2020-04-12', '2020-05-10', '2020-06-07', '2020-07-05',\n",
       "               '2020-08-02', '2020-08-30', '2020-09-27', '2020-10-25',\n",
       "               '2020-11-22', '2020-12-20', '2021-01-17', '2021-02-14',\n",
       "               '2021-03-14', '2021-04-11', '2021-05-09', '2021-06-06',\n",
       "               '2021-07-04', '2021-08-01', '2021-08-29', '2021-09-26',\n",
       "               '2021-10-24', '2021-11-21', '2021-12-19', '2022-01-16',\n",
       "               '2022-02-13', '2022-03-13', '2022-04-10', '2022-05-08',\n",
       "               '2022-06-05', '2022-07-03', '2022-07-31', '2022-08-28',\n",
       "               '2022-09-25', '2022-10-23', '2022-11-20', '2022-12-18'],\n",
       "              dtype='datetime64[ns]', freq='4W-SUN')"
      ]
     },
     "execution_count": 27,
     "metadata": {},
     "output_type": "execute_result"
    }
   ],
   "source": [
    "dates = pd.date_range(start = '2019-12-22', end = '2022-12-22', freq = '4W')\n",
    "dates"
   ]
  },
  {
   "cell_type": "markdown",
   "metadata": {},
   "source": [
    "Similarly to 4W gap, we can try 2D, 3D gaps in above examples. We can also generate it hourly"
   ]
  },
  {
   "cell_type": "code",
   "execution_count": 29,
   "metadata": {},
   "outputs": [
    {
     "data": {
      "text/plain": [
       "DatetimeIndex(['2019-12-22 00:00:00', '2019-12-22 06:00:00',\n",
       "               '2019-12-22 12:00:00', '2019-12-22 18:00:00',\n",
       "               '2019-12-23 00:00:00', '2019-12-23 06:00:00',\n",
       "               '2019-12-23 12:00:00', '2019-12-23 18:00:00',\n",
       "               '2019-12-24 00:00:00', '2019-12-24 06:00:00',\n",
       "               '2019-12-24 12:00:00', '2019-12-24 18:00:00',\n",
       "               '2019-12-25 00:00:00', '2019-12-25 06:00:00',\n",
       "               '2019-12-25 12:00:00', '2019-12-25 18:00:00',\n",
       "               '2019-12-26 00:00:00', '2019-12-26 06:00:00',\n",
       "               '2019-12-26 12:00:00', '2019-12-26 18:00:00',\n",
       "               '2019-12-27 00:00:00', '2019-12-27 06:00:00',\n",
       "               '2019-12-27 12:00:00', '2019-12-27 18:00:00',\n",
       "               '2019-12-28 00:00:00', '2019-12-28 06:00:00',\n",
       "               '2019-12-28 12:00:00', '2019-12-28 18:00:00',\n",
       "               '2019-12-29 00:00:00', '2019-12-29 06:00:00',\n",
       "               '2019-12-29 12:00:00', '2019-12-29 18:00:00',\n",
       "               '2019-12-30 00:00:00'],\n",
       "              dtype='datetime64[ns]', freq='6H')"
      ]
     },
     "execution_count": 29,
     "metadata": {},
     "output_type": "execute_result"
    }
   ],
   "source": [
    "times = pd.date_range(start = '2019-12-22', end = '2019-12-30', freq = '6H')\n",
    "times"
   ]
  },
  {
   "cell_type": "markdown",
   "metadata": {},
   "source": [
    "**datareader**"
   ]
  },
  {
   "cell_type": "code",
   "execution_count": 30,
   "metadata": {},
   "outputs": [
    {
     "data": {
      "text/plain": [
       "(247, 6)"
      ]
     },
     "execution_count": 30,
     "metadata": {},
     "output_type": "execute_result"
    }
   ],
   "source": [
    "company = 'MSFT'             # Microsoft\n",
    "start_date = '2019-01-01'\n",
    "end_date = '2019-12-22'\n",
    "\n",
    "stocks = data.DataReader(name = company,\n",
    "                         data_source = 'yahoo',   # google finance provides the data\n",
    "                         start = start_date,\n",
    "                         end = end_date)\n",
    "\n",
    "stocks.shape"
   ]
  },
  {
   "cell_type": "code",
   "execution_count": 31,
   "metadata": {},
   "outputs": [
    {
     "data": {
      "text/html": [
       "<div>\n",
       "<style scoped>\n",
       "    .dataframe tbody tr th:only-of-type {\n",
       "        vertical-align: middle;\n",
       "    }\n",
       "\n",
       "    .dataframe tbody tr th {\n",
       "        vertical-align: top;\n",
       "    }\n",
       "\n",
       "    .dataframe thead th {\n",
       "        text-align: right;\n",
       "    }\n",
       "</style>\n",
       "<table border=\"1\" class=\"dataframe\">\n",
       "  <thead>\n",
       "    <tr style=\"text-align: right;\">\n",
       "      <th></th>\n",
       "      <th>High</th>\n",
       "      <th>Low</th>\n",
       "      <th>Open</th>\n",
       "      <th>Close</th>\n",
       "      <th>Volume</th>\n",
       "      <th>Adj Close</th>\n",
       "    </tr>\n",
       "    <tr>\n",
       "      <th>Date</th>\n",
       "      <th></th>\n",
       "      <th></th>\n",
       "      <th></th>\n",
       "      <th></th>\n",
       "      <th></th>\n",
       "      <th></th>\n",
       "    </tr>\n",
       "  </thead>\n",
       "  <tbody>\n",
       "    <tr>\n",
       "      <td>2018-12-31</td>\n",
       "      <td>102.400002</td>\n",
       "      <td>100.440002</td>\n",
       "      <td>101.290001</td>\n",
       "      <td>101.570000</td>\n",
       "      <td>33173800.0</td>\n",
       "      <td>99.817421</td>\n",
       "    </tr>\n",
       "    <tr>\n",
       "      <td>2019-01-02</td>\n",
       "      <td>101.750000</td>\n",
       "      <td>98.940002</td>\n",
       "      <td>99.550003</td>\n",
       "      <td>101.120003</td>\n",
       "      <td>35329300.0</td>\n",
       "      <td>99.375191</td>\n",
       "    </tr>\n",
       "    <tr>\n",
       "      <td>2019-01-03</td>\n",
       "      <td>100.190002</td>\n",
       "      <td>97.199997</td>\n",
       "      <td>100.099998</td>\n",
       "      <td>97.400002</td>\n",
       "      <td>42579100.0</td>\n",
       "      <td>95.719376</td>\n",
       "    </tr>\n",
       "    <tr>\n",
       "      <td>2019-01-04</td>\n",
       "      <td>102.510002</td>\n",
       "      <td>98.930000</td>\n",
       "      <td>99.720001</td>\n",
       "      <td>101.930000</td>\n",
       "      <td>44060600.0</td>\n",
       "      <td>100.171211</td>\n",
       "    </tr>\n",
       "    <tr>\n",
       "      <td>2019-01-07</td>\n",
       "      <td>103.269997</td>\n",
       "      <td>100.980003</td>\n",
       "      <td>101.639999</td>\n",
       "      <td>102.059998</td>\n",
       "      <td>35656100.0</td>\n",
       "      <td>100.298965</td>\n",
       "    </tr>\n",
       "    <tr>\n",
       "      <td>...</td>\n",
       "      <td>...</td>\n",
       "      <td>...</td>\n",
       "      <td>...</td>\n",
       "      <td>...</td>\n",
       "      <td>...</td>\n",
       "      <td>...</td>\n",
       "    </tr>\n",
       "    <tr>\n",
       "      <td>2019-12-16</td>\n",
       "      <td>155.899994</td>\n",
       "      <td>154.820007</td>\n",
       "      <td>155.110001</td>\n",
       "      <td>155.529999</td>\n",
       "      <td>24144200.0</td>\n",
       "      <td>155.106339</td>\n",
       "    </tr>\n",
       "    <tr>\n",
       "      <td>2019-12-17</td>\n",
       "      <td>155.710007</td>\n",
       "      <td>154.449997</td>\n",
       "      <td>155.449997</td>\n",
       "      <td>154.690002</td>\n",
       "      <td>25425600.0</td>\n",
       "      <td>154.268631</td>\n",
       "    </tr>\n",
       "    <tr>\n",
       "      <td>2019-12-18</td>\n",
       "      <td>155.479996</td>\n",
       "      <td>154.179993</td>\n",
       "      <td>154.300003</td>\n",
       "      <td>154.369995</td>\n",
       "      <td>24129200.0</td>\n",
       "      <td>153.949509</td>\n",
       "    </tr>\n",
       "    <tr>\n",
       "      <td>2019-12-19</td>\n",
       "      <td>155.770004</td>\n",
       "      <td>153.750000</td>\n",
       "      <td>154.000000</td>\n",
       "      <td>155.710007</td>\n",
       "      <td>24958900.0</td>\n",
       "      <td>155.285858</td>\n",
       "    </tr>\n",
       "    <tr>\n",
       "      <td>2019-12-20</td>\n",
       "      <td>158.490005</td>\n",
       "      <td>156.289993</td>\n",
       "      <td>157.350006</td>\n",
       "      <td>157.410004</td>\n",
       "      <td>53477500.0</td>\n",
       "      <td>156.981232</td>\n",
       "    </tr>\n",
       "  </tbody>\n",
       "</table>\n",
       "<p>247 rows × 6 columns</p>\n",
       "</div>"
      ],
      "text/plain": [
       "                  High         Low        Open       Close      Volume  \\\n",
       "Date                                                                     \n",
       "2018-12-31  102.400002  100.440002  101.290001  101.570000  33173800.0   \n",
       "2019-01-02  101.750000   98.940002   99.550003  101.120003  35329300.0   \n",
       "2019-01-03  100.190002   97.199997  100.099998   97.400002  42579100.0   \n",
       "2019-01-04  102.510002   98.930000   99.720001  101.930000  44060600.0   \n",
       "2019-01-07  103.269997  100.980003  101.639999  102.059998  35656100.0   \n",
       "...                ...         ...         ...         ...         ...   \n",
       "2019-12-16  155.899994  154.820007  155.110001  155.529999  24144200.0   \n",
       "2019-12-17  155.710007  154.449997  155.449997  154.690002  25425600.0   \n",
       "2019-12-18  155.479996  154.179993  154.300003  154.369995  24129200.0   \n",
       "2019-12-19  155.770004  153.750000  154.000000  155.710007  24958900.0   \n",
       "2019-12-20  158.490005  156.289993  157.350006  157.410004  53477500.0   \n",
       "\n",
       "             Adj Close  \n",
       "Date                    \n",
       "2018-12-31   99.817421  \n",
       "2019-01-02   99.375191  \n",
       "2019-01-03   95.719376  \n",
       "2019-01-04  100.171211  \n",
       "2019-01-07  100.298965  \n",
       "...                ...  \n",
       "2019-12-16  155.106339  \n",
       "2019-12-17  154.268631  \n",
       "2019-12-18  153.949509  \n",
       "2019-12-19  155.285858  \n",
       "2019-12-20  156.981232  \n",
       "\n",
       "[247 rows x 6 columns]"
      ]
     },
     "execution_count": 31,
     "metadata": {},
     "output_type": "execute_result"
    }
   ],
   "source": [
    "stocks             # data is only for working days"
   ]
  },
  {
   "cell_type": "code",
   "execution_count": 33,
   "metadata": {},
   "outputs": [
    {
     "data": {
      "text/plain": [
       "High         1.017500e+02\n",
       "Low          9.894000e+01\n",
       "Open         9.955000e+01\n",
       "Close        1.011200e+02\n",
       "Volume       3.532930e+07\n",
       "Adj Close    9.937519e+01\n",
       "Name: 2019-01-02 00:00:00, dtype: float64"
      ]
     },
     "execution_count": 33,
     "metadata": {},
     "output_type": "execute_result"
    }
   ],
   "source": [
    "stocks.loc['2019-01-02']    # extracting a particular row"
   ]
  },
  {
   "cell_type": "code",
   "execution_count": 34,
   "metadata": {},
   "outputs": [
    {
     "data": {
      "text/plain": [
       "High         1.017500e+02\n",
       "Low          9.894000e+01\n",
       "Open         9.955000e+01\n",
       "Close        1.011200e+02\n",
       "Volume       3.532930e+07\n",
       "Adj Close    9.937519e+01\n",
       "Name: 2019-01-02 00:00:00, dtype: float64"
      ]
     },
     "execution_count": 34,
     "metadata": {},
     "output_type": "execute_result"
    }
   ],
   "source": [
    "stocks.iloc[1]              # extracting using the row index"
   ]
  },
  {
   "cell_type": "code",
   "execution_count": 37,
   "metadata": {},
   "outputs": [
    {
     "data": {
      "text/html": [
       "<div>\n",
       "<style scoped>\n",
       "    .dataframe tbody tr th:only-of-type {\n",
       "        vertical-align: middle;\n",
       "    }\n",
       "\n",
       "    .dataframe tbody tr th {\n",
       "        vertical-align: top;\n",
       "    }\n",
       "\n",
       "    .dataframe thead th {\n",
       "        text-align: right;\n",
       "    }\n",
       "</style>\n",
       "<table border=\"1\" class=\"dataframe\">\n",
       "  <thead>\n",
       "    <tr style=\"text-align: right;\">\n",
       "      <th></th>\n",
       "      <th>High</th>\n",
       "      <th>Low</th>\n",
       "      <th>Open</th>\n",
       "      <th>Close</th>\n",
       "      <th>Volume</th>\n",
       "      <th>Adj Close</th>\n",
       "    </tr>\n",
       "    <tr>\n",
       "      <th>Date</th>\n",
       "      <th></th>\n",
       "      <th></th>\n",
       "      <th></th>\n",
       "      <th></th>\n",
       "      <th></th>\n",
       "      <th></th>\n",
       "    </tr>\n",
       "  </thead>\n",
       "  <tbody>\n",
       "    <tr>\n",
       "      <td>2019-12-02</td>\n",
       "      <td>151.830002</td>\n",
       "      <td>148.320007</td>\n",
       "      <td>151.809998</td>\n",
       "      <td>149.550003</td>\n",
       "      <td>27418400.0</td>\n",
       "      <td>149.142639</td>\n",
       "    </tr>\n",
       "    <tr>\n",
       "      <td>2019-12-03</td>\n",
       "      <td>149.429993</td>\n",
       "      <td>146.649994</td>\n",
       "      <td>147.490005</td>\n",
       "      <td>149.309998</td>\n",
       "      <td>24066000.0</td>\n",
       "      <td>148.903290</td>\n",
       "    </tr>\n",
       "    <tr>\n",
       "      <td>2019-12-04</td>\n",
       "      <td>150.179993</td>\n",
       "      <td>149.199997</td>\n",
       "      <td>150.139999</td>\n",
       "      <td>149.850006</td>\n",
       "      <td>17574700.0</td>\n",
       "      <td>149.441818</td>\n",
       "    </tr>\n",
       "    <tr>\n",
       "      <td>2019-12-05</td>\n",
       "      <td>150.320007</td>\n",
       "      <td>149.479996</td>\n",
       "      <td>150.050003</td>\n",
       "      <td>149.929993</td>\n",
       "      <td>17869100.0</td>\n",
       "      <td>149.521591</td>\n",
       "    </tr>\n",
       "    <tr>\n",
       "      <td>2019-12-06</td>\n",
       "      <td>151.869995</td>\n",
       "      <td>150.270004</td>\n",
       "      <td>150.990005</td>\n",
       "      <td>151.750000</td>\n",
       "      <td>16403500.0</td>\n",
       "      <td>151.336639</td>\n",
       "    </tr>\n",
       "    <tr>\n",
       "      <td>2019-12-09</td>\n",
       "      <td>152.210007</td>\n",
       "      <td>150.910004</td>\n",
       "      <td>151.070007</td>\n",
       "      <td>151.360001</td>\n",
       "      <td>16687400.0</td>\n",
       "      <td>150.947708</td>\n",
       "    </tr>\n",
       "    <tr>\n",
       "      <td>2019-12-10</td>\n",
       "      <td>151.889999</td>\n",
       "      <td>150.759995</td>\n",
       "      <td>151.289993</td>\n",
       "      <td>151.130005</td>\n",
       "      <td>16476100.0</td>\n",
       "      <td>150.718338</td>\n",
       "    </tr>\n",
       "    <tr>\n",
       "      <td>2019-12-11</td>\n",
       "      <td>151.869995</td>\n",
       "      <td>150.330002</td>\n",
       "      <td>151.539993</td>\n",
       "      <td>151.699997</td>\n",
       "      <td>18856600.0</td>\n",
       "      <td>151.286774</td>\n",
       "    </tr>\n",
       "    <tr>\n",
       "      <td>2019-12-12</td>\n",
       "      <td>153.440002</td>\n",
       "      <td>151.020004</td>\n",
       "      <td>151.649994</td>\n",
       "      <td>153.240005</td>\n",
       "      <td>24612100.0</td>\n",
       "      <td>152.822586</td>\n",
       "    </tr>\n",
       "    <tr>\n",
       "      <td>2019-12-13</td>\n",
       "      <td>154.889999</td>\n",
       "      <td>152.830002</td>\n",
       "      <td>153.000000</td>\n",
       "      <td>154.529999</td>\n",
       "      <td>23845400.0</td>\n",
       "      <td>154.109070</td>\n",
       "    </tr>\n",
       "    <tr>\n",
       "      <td>2019-12-16</td>\n",
       "      <td>155.899994</td>\n",
       "      <td>154.820007</td>\n",
       "      <td>155.110001</td>\n",
       "      <td>155.529999</td>\n",
       "      <td>24144200.0</td>\n",
       "      <td>155.106339</td>\n",
       "    </tr>\n",
       "  </tbody>\n",
       "</table>\n",
       "</div>"
      ],
      "text/plain": [
       "                  High         Low        Open       Close      Volume  \\\n",
       "Date                                                                     \n",
       "2019-12-02  151.830002  148.320007  151.809998  149.550003  27418400.0   \n",
       "2019-12-03  149.429993  146.649994  147.490005  149.309998  24066000.0   \n",
       "2019-12-04  150.179993  149.199997  150.139999  149.850006  17574700.0   \n",
       "2019-12-05  150.320007  149.479996  150.050003  149.929993  17869100.0   \n",
       "2019-12-06  151.869995  150.270004  150.990005  151.750000  16403500.0   \n",
       "2019-12-09  152.210007  150.910004  151.070007  151.360001  16687400.0   \n",
       "2019-12-10  151.889999  150.759995  151.289993  151.130005  16476100.0   \n",
       "2019-12-11  151.869995  150.330002  151.539993  151.699997  18856600.0   \n",
       "2019-12-12  153.440002  151.020004  151.649994  153.240005  24612100.0   \n",
       "2019-12-13  154.889999  152.830002  153.000000  154.529999  23845400.0   \n",
       "2019-12-16  155.899994  154.820007  155.110001  155.529999  24144200.0   \n",
       "\n",
       "             Adj Close  \n",
       "Date                    \n",
       "2019-12-02  149.142639  \n",
       "2019-12-03  148.903290  \n",
       "2019-12-04  149.441818  \n",
       "2019-12-05  149.521591  \n",
       "2019-12-06  151.336639  \n",
       "2019-12-09  150.947708  \n",
       "2019-12-10  150.718338  \n",
       "2019-12-11  151.286774  \n",
       "2019-12-12  152.822586  \n",
       "2019-12-13  154.109070  \n",
       "2019-12-16  155.106339  "
      ]
     },
     "execution_count": 37,
     "metadata": {},
     "output_type": "execute_result"
    }
   ],
   "source": [
    "stocks.loc['2019-12-2' : '2019-12-16']    # extracting a range of dates, both ends inclusive"
   ]
  },
  {
   "cell_type": "markdown",
   "metadata": {},
   "source": [
    "We can truncate rows before and after a particular date"
   ]
  },
  {
   "cell_type": "code",
   "execution_count": null,
   "metadata": {},
   "outputs": [],
   "source": [
    "stocks.truncate(before = '2019-12-2', after = '2019-12-16')"
   ]
  },
  {
   "cell_type": "markdown",
   "metadata": {},
   "source": [
    "**Timedelta**"
   ]
  },
  {
   "cell_type": "code",
   "execution_count": null,
   "metadata": {},
   "outputs": [],
   "source": [
    "time_a = pd.Timestamp('2019-12-22 17:23:34')\n",
    "time_b = pd.Timestamp('2019-12-23 19:03:14')\n",
    "\n",
    "time_b - time_a"
   ]
  },
  {
   "cell_type": "code",
   "execution_count": null,
   "metadata": {},
   "outputs": [],
   "source": [
    "pd.Timedelta(weeks = 10, days = 2, hours = 3, minutes = 23)"
   ]
  },
  {
   "cell_type": "code",
   "execution_count": null,
   "metadata": {},
   "outputs": [],
   "source": [
    "df = pd.read_csv('ecommerce.csv', index_col = 'ID')\n",
    "df.shape"
   ]
  },
  {
   "cell_type": "code",
   "execution_count": null,
   "metadata": {},
   "outputs": [],
   "source": [
    "df"
   ]
  },
  {
   "cell_type": "code",
   "execution_count": null,
   "metadata": {},
   "outputs": [],
   "source": [
    "df.dtypes"
   ]
  },
  {
   "cell_type": "markdown",
   "metadata": {},
   "source": [
    "As we can see, Python automaticaly does not read the dates in datetime format. We need to parse it as follows:"
   ]
  },
  {
   "cell_type": "code",
   "execution_count": null,
   "metadata": {},
   "outputs": [],
   "source": [
    "df = pd.read_csv('ecommerce.csv', \n",
    "                 index_col = 'ID', \n",
    "                 parse_dates = ['order_date', 'delivery_date'])   # passing the columns to parse\n",
    "df.head()"
   ]
  },
  {
   "cell_type": "code",
   "execution_count": null,
   "metadata": {},
   "outputs": [],
   "source": [
    "df.dtypes"
   ]
  },
  {
   "cell_type": "code",
   "execution_count": null,
   "metadata": {},
   "outputs": [],
   "source": [
    "df['Delivery Time'] = df['delivery_date'] - df['order_date']\n",
    "df.head()"
   ]
  },
  {
   "cell_type": "code",
   "execution_count": null,
   "metadata": {},
   "outputs": [],
   "source": []
  }
 ],
 "metadata": {
  "kernelspec": {
   "display_name": "Python 3",
   "language": "python",
   "name": "python3"
  },
  "language_info": {
   "codemirror_mode": {
    "name": "ipython",
    "version": 3
   },
   "file_extension": ".py",
   "mimetype": "text/x-python",
   "name": "python",
   "nbconvert_exporter": "python",
   "pygments_lexer": "ipython3",
   "version": "3.7.4"
  }
 },
 "nbformat": 4,
 "nbformat_minor": 2
}
