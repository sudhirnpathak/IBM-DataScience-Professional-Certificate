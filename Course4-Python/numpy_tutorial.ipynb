{
 "cells": [
  {
   "cell_type": "markdown",
   "metadata": {},
   "source": [
    "# Numpy Tutorial"
   ]
  },
  {
   "cell_type": "code",
   "execution_count": 1,
   "metadata": {},
   "outputs": [],
   "source": [
    "import numpy as np"
   ]
  },
  {
   "cell_type": "markdown",
   "metadata": {},
   "source": [
    "## One Dimensional Array\n",
    "\n",
    "Let's first discuss one-dimensional arrays:"
   ]
  },
  {
   "cell_type": "code",
   "execution_count": 2,
   "metadata": {},
   "outputs": [
    {
     "name": "stdout",
     "output_type": "stream",
     "text": [
      "<class 'numpy.ndarray'>\n",
      "1 5\n"
     ]
    }
   ],
   "source": [
    "temp = [1, 2, 3, 4, 5]               # a list of integers\n",
    "temp_array = np.array(temp)          # casting a list into a numpy-array\n",
    "                                     # numpy-array is similar list, with each element of the same type\n",
    "\n",
    "print(type(temp_array))              # temp_array is of type numpy.ndarray\n",
    "print(temp_array[0], temp_array[4])  # indexing is similar to a list"
   ]
  },
  {
   "cell_type": "code",
   "execution_count": 3,
   "metadata": {},
   "outputs": [
    {
     "name": "stdout",
     "output_type": "stream",
     "text": [
      "int64\n",
      "4\n",
      "1\n",
      "(4,)\n"
     ]
    }
   ],
   "source": [
    "temp_array = np.array([2, 4, 6, 8])\n",
    "print(temp_array.dtype)    # returns the data type of array elements\n",
    "print(temp_array.size)     # returns the size of the array: total number of elements\n",
    "print(temp_array.ndim)     # returns the dimensionality or rank of the array\n",
    "print(temp_array.shape)    # returns a tuple, representing the size of array in each dimension"
   ]
  },
  {
   "cell_type": "code",
   "execution_count": 4,
   "metadata": {},
   "outputs": [
    {
     "name": "stdout",
     "output_type": "stream",
     "text": [
      "int64 float64\n",
      "[1 2]\n",
      "[1.   3.14]\n"
     ]
    }
   ],
   "source": [
    "temp1 = np.array([1, 2])\n",
    "temp2 = np.array([1, 3.14])\n",
    "print(temp1.dtype, temp2.dtype)    # all elements are of same type\n",
    "print(temp1)                       # all integers \n",
    "print(temp2)                       # all floats"
   ]
  },
  {
   "cell_type": "code",
   "execution_count": 5,
   "metadata": {},
   "outputs": [
    {
     "data": {
      "text/plain": [
       "array([100,   2,   3])"
      ]
     },
     "execution_count": 5,
     "metadata": {},
     "output_type": "execute_result"
    }
   ],
   "source": [
    "temp = np.array([1, 2, 3])\n",
    "temp[0] = 100                     # arrays are mutable\n",
    "temp"
   ]
  },
  {
   "cell_type": "code",
   "execution_count": 6,
   "metadata": {},
   "outputs": [
    {
     "data": {
      "text/plain": [
       "array([4, 5, 6])"
      ]
     },
     "execution_count": 6,
     "metadata": {},
     "output_type": "execute_result"
    }
   ],
   "source": [
    "temp = np.array([1, 2, 3])\n",
    "temp[0:3] = 4, 5, 6         # assigning multiple elements \n",
    "temp                        # we can assign by a list or tuple also : [4, 5, 6] or (4, 5, 6)"
   ]
  },
  {
   "cell_type": "code",
   "execution_count": 7,
   "metadata": {},
   "outputs": [
    {
     "data": {
      "text/plain": [
       "array([1, 2])"
      ]
     },
     "execution_count": 7,
     "metadata": {},
     "output_type": "execute_result"
    }
   ],
   "source": [
    "temp = np.array([1, 2, 3])\n",
    "temp1 = temp[0:2]           # array can be sliced and assigned to a new array\n",
    "temp1"
   ]
  },
  {
   "cell_type": "code",
   "execution_count": 8,
   "metadata": {},
   "outputs": [
    {
     "data": {
      "text/plain": [
       "array([3.14, 9.42])"
      ]
     },
     "execution_count": 8,
     "metadata": {},
     "output_type": "execute_result"
    }
   ],
   "source": [
    "temp = np.array([3.14, 6.28, 9.42])\n",
    "indices = [0, 2]          # a list containing the indices\n",
    "temp1 = temp[indices]     # we can select the elements present in 'temp' at 'indices'\n",
    "temp1"
   ]
  },
  {
   "cell_type": "code",
   "execution_count": 9,
   "metadata": {},
   "outputs": [
    {
     "data": {
      "text/plain": [
       "array([100,   2, 100])"
      ]
     },
     "execution_count": 9,
     "metadata": {},
     "output_type": "execute_result"
    }
   ],
   "source": [
    "temp = np.array([1, 2, 3])\n",
    "indices = [0, 2]\n",
    "temp[indices] = 100       # we can assign same number to all the selected indices\n",
    "temp"
   ]
  },
  {
   "cell_type": "code",
   "execution_count": 10,
   "metadata": {},
   "outputs": [
    {
     "data": {
      "text/plain": [
       "array([-2., -1.,  0.,  1.,  2.])"
      ]
     },
     "execution_count": 10,
     "metadata": {},
     "output_type": "execute_result"
    }
   ],
   "source": [
    "np.linspace(-2,2,5)   # np.linspace(start, end, num) returns num number of elements from start to end,\n",
    "                      # including start and end both"
   ]
  },
  {
   "cell_type": "code",
   "execution_count": 11,
   "metadata": {},
   "outputs": [
    {
     "name": "stdout",
     "output_type": "stream",
     "text": [
      "[4 6]\n",
      "----------\n",
      "[3 8]\n",
      "----------\n",
      "11\n",
      "----------\n",
      "[2 3]\n",
      "----------\n",
      "[6 8]\n"
     ]
    }
   ],
   "source": [
    "temp1 = np.array([1, 2])\n",
    "temp2 = np.array([3, 4])\n",
    "\n",
    "print(temp1 + temp2)              # vector addition\n",
    "print('-'*10)\n",
    "\n",
    "print(temp1 * temp2)              # element-wise multiplication\n",
    "print('-'*10)\n",
    "\n",
    "print(np.dot(temp1, temp2))       # dot product\n",
    "print('-'*10)\n",
    "\n",
    "print(temp1 + 1)                  # broadcasting: adds one to each element\n",
    "print('-'*10)\n",
    "\n",
    "print(2*temp2)                    # scalar-vector multiplication: each element is multiplied by 2"
   ]
  },
  {
   "cell_type": "code",
   "execution_count": 12,
   "metadata": {},
   "outputs": [
    {
     "name": "stdout",
     "output_type": "stream",
     "text": [
      "2.0 0.816496580927726\n",
      "1 3\n"
     ]
    }
   ],
   "source": [
    "temp = np.array([1, 2, 3])\n",
    "\n",
    "print(temp.mean(), temp.std())  # returns the mean and standard deviation of the array\n",
    "print(temp.min(), temp.max())   # returns the minimum and maximum of the array"
   ]
  },
  {
   "cell_type": "code",
   "execution_count": 13,
   "metadata": {},
   "outputs": [
    {
     "data": {
      "text/plain": [
       "array([0.00000000e+00, 7.07106781e-01, 1.00000000e+00, 7.07106781e-01,\n",
       "       1.22464680e-16])"
      ]
     },
     "execution_count": 13,
     "metadata": {},
     "output_type": "execute_result"
    }
   ],
   "source": [
    "temp = np.array([0, np.pi/4, np.pi/2, 3*np.pi/4, np.pi]) # a numpy array of five elements\n",
    "temp1 = np.sin(temp)  # returns an array, where element is sin of the original array element\n",
    "temp1"
   ]
  },
  {
   "cell_type": "markdown",
   "metadata": {},
   "source": [
    "## Multidimensional Array\n",
    "\n",
    "Now, let's discuss multidimensional arrays"
   ]
  },
  {
   "cell_type": "code",
   "execution_count": 14,
   "metadata": {},
   "outputs": [
    {
     "name": "stdout",
     "output_type": "stream",
     "text": [
      "[[11 12]\n",
      " [21 22]\n",
      " [31 32]]\n",
      "----------\n",
      "32\n"
     ]
    }
   ],
   "source": [
    "temp = [[11, 12], [21, 22], [31, 32]]   # a nested list\n",
    "temp_array = np.array(temp)     # casting the nested list into a two dimensional numpy array: \n",
    "                                # each nested list corresponds to a row\n",
    "print(temp_array)\n",
    "print('-'*10)\n",
    "print(temp_array[2,1])          # [i, j] returns the element at ith row and jth column"
   ]
  },
  {
   "cell_type": "code",
   "execution_count": 15,
   "metadata": {},
   "outputs": [
    {
     "name": "stdout",
     "output_type": "stream",
     "text": [
      "2\n",
      "(3, 2)\n",
      "6\n"
     ]
    }
   ],
   "source": [
    "temp = np.array([[11, 12], [21, 22], [31, 32]])\n",
    "\n",
    "print(temp_array.ndim)     # returns the dimensionality/rank of the array\n",
    "print(temp_array.shape)    # size of the array in each dimension: (nrows, ncolumns...)\n",
    "print(temp_array.size)     # returns size of the array: total number of elements in the array"
   ]
  },
  {
   "cell_type": "code",
   "execution_count": 16,
   "metadata": {},
   "outputs": [
    {
     "data": {
      "text/plain": [
       "array([[21],\n",
       "       [31]])"
      ]
     },
     "execution_count": 16,
     "metadata": {},
     "output_type": "execute_result"
    }
   ],
   "source": [
    "temp = np.array([[11, 12], [21, 22], [31, 32]])\n",
    "\n",
    "temp_array[1:3, 0:1]      # slicing an array"
   ]
  },
  {
   "cell_type": "code",
   "execution_count": 17,
   "metadata": {},
   "outputs": [
    {
     "data": {
      "text/plain": [
       "array([[2, 4],\n",
       "       [6, 8]])"
      ]
     },
     "execution_count": 17,
     "metadata": {},
     "output_type": "execute_result"
    }
   ],
   "source": [
    "temp = np.array([[1, 2], [3, 4]])\n",
    "2*temp                    # scalar-vector multiplication : each element of x1 is multiplied by 2"
   ]
  },
  {
   "cell_type": "code",
   "execution_count": 18,
   "metadata": {},
   "outputs": [
    {
     "name": "stdout",
     "output_type": "stream",
     "text": [
      "[[ 6  8]\n",
      " [10 12]]\n",
      "----------\n",
      "[[ 5 12]\n",
      " [21 32]]\n",
      "----------\n",
      "[[19 22]\n",
      " [43 50]]\n",
      "----------\n",
      "[[1 3]\n",
      " [2 4]]\n"
     ]
    }
   ],
   "source": [
    "temp1 = np.array([[1, 2], [3, 4]])\n",
    "temp2 = np.array([[5, 6], [7, 8]])\n",
    "\n",
    "print(temp1 + temp2)              # element-wise addition\n",
    "print('-'*10)\n",
    "\n",
    "print(temp1 * temp2)              # element-wise multiplication\n",
    "print('-'*10)\n",
    "\n",
    "print(np.dot(temp1, temp2))       # matrix product\n",
    "print('-'*10)\n",
    "      \n",
    "print(temp1.T)                    # transpose of a matrix"
   ]
  },
  {
   "cell_type": "markdown",
   "metadata": {},
   "source": [
    "# General "
   ]
  },
  {
   "cell_type": "code",
   "execution_count": 19,
   "metadata": {},
   "outputs": [
    {
     "data": {
      "text/plain": [
       "array([0.59757677, 0.09113071, 0.52123989, 0.50117882, 0.14134288])"
      ]
     },
     "execution_count": 19,
     "metadata": {},
     "output_type": "execute_result"
    }
   ],
   "source": [
    "rng = np.random.rand(5)        # generates an array of random numbers \n",
    "rng"
   ]
  },
  {
   "cell_type": "code",
   "execution_count": null,
   "metadata": {},
   "outputs": [],
   "source": []
  }
 ],
 "metadata": {
  "kernelspec": {
   "display_name": "Python 3",
   "language": "python",
   "name": "python3"
  },
  "language_info": {
   "codemirror_mode": {
    "name": "ipython",
    "version": 3
   },
   "file_extension": ".py",
   "mimetype": "text/x-python",
   "name": "python",
   "nbconvert_exporter": "python",
   "pygments_lexer": "ipython3",
   "version": "3.7.4"
  }
 },
 "nbformat": 4,
 "nbformat_minor": 2
}
