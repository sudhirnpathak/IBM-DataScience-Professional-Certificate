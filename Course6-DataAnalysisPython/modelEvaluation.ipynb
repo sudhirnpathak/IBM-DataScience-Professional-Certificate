{
 "cells": [
  {
   "cell_type": "markdown",
   "metadata": {},
   "source": [
    "# Model Evaluation and Refinement\n",
    "\n",
    "Now that we have built models and predicted car prices, we will determine how accurate these predictions are. \n",
    "\n",
    "Model evaluation tells us how our model performs in real world. In-sample evaluation tells us how well our model fits the data used to train it, but does not give any estimate of how well the trained model predicts new data. The solution is to split the data: use in-sample data or training data to train the model, and use rest of the data (test data) as out-of-sample data to approximate how the trained model works in the real world."
   ]
  },
  {
   "cell_type": "code",
   "execution_count": 1,
   "metadata": {},
   "outputs": [
    {
     "name": "stderr",
     "output_type": "stream",
     "text": [
      "/opt/anaconda3/lib/python3.7/site-packages/IPython/html.py:14: ShimWarning: The `IPython.html` package has been deprecated since IPython 4.0. You should import from `notebook` instead. `IPython.html.widgets` has moved to `ipywidgets`.\n",
      "  \"`IPython.html.widgets` has moved to `ipywidgets`.\", ShimWarning)\n"
     ]
    }
   ],
   "source": [
    "import numpy as np\n",
    "import pandas as pd\n",
    "\n",
    "%matplotlib inline\n",
    "import matplotlib.pyplot as plt\n",
    "import seaborn as sns\n",
    "\n",
    "from sklearn.linear_model import LinearRegression\n",
    "from sklearn.linear_model import Ridge\n",
    "from sklearn.model_selection import train_test_split\n",
    "from sklearn.model_selection import cross_val_score\n",
    "from sklearn.model_selection import cross_val_predict\n",
    "from sklearn.model_selection import GridSearchCV\n",
    "from sklearn.preprocessing import PolynomialFeatures\n",
    "\n",
    "from IPython.display import display\n",
    "from IPython.html import widgets \n",
    "from IPython.display import display\n",
    "from ipywidgets import interact, interactive, fixed, interact_manual\n",
    "\n",
    "pd.set_option('display.max_columns', None)"
   ]
  },
  {
   "cell_type": "code",
   "execution_count": 2,
   "metadata": {},
   "outputs": [
    {
     "data": {
      "text/plain": [
       "(201, 30)"
      ]
     },
     "execution_count": 2,
     "metadata": {},
     "output_type": "execute_result"
    }
   ],
   "source": [
    "df = pd.read_csv('usedCarsDataClean.csv')\n",
    "df.shape"
   ]
  },
  {
   "cell_type": "code",
   "execution_count": 3,
   "metadata": {},
   "outputs": [],
   "source": [
    "df['highway-mpg'] = 235/df['highway-L/100km']  # add the higway-mpg column"
   ]
  },
  {
   "cell_type": "code",
   "execution_count": 4,
   "metadata": {},
   "outputs": [],
   "source": [
    "df = df._get_numeric_data()                    # get the numeric data only"
   ]
  },
  {
   "cell_type": "code",
   "execution_count": 5,
   "metadata": {},
   "outputs": [
    {
     "data": {
      "text/html": [
       "<div>\n",
       "<style scoped>\n",
       "    .dataframe tbody tr th:only-of-type {\n",
       "        vertical-align: middle;\n",
       "    }\n",
       "\n",
       "    .dataframe tbody tr th {\n",
       "        vertical-align: top;\n",
       "    }\n",
       "\n",
       "    .dataframe thead th {\n",
       "        text-align: right;\n",
       "    }\n",
       "</style>\n",
       "<table border=\"1\" class=\"dataframe\">\n",
       "  <thead>\n",
       "    <tr style=\"text-align: right;\">\n",
       "      <th></th>\n",
       "      <th>symboling</th>\n",
       "      <th>normalized-losses</th>\n",
       "      <th>wheel-base</th>\n",
       "      <th>length</th>\n",
       "      <th>width</th>\n",
       "      <th>height</th>\n",
       "      <th>curb-weight</th>\n",
       "      <th>engine-size</th>\n",
       "      <th>bore</th>\n",
       "      <th>stroke</th>\n",
       "      <th>compression-ratio</th>\n",
       "      <th>horsepower</th>\n",
       "      <th>peak-rpm</th>\n",
       "      <th>city-mpg</th>\n",
       "      <th>highway-L/100km</th>\n",
       "      <th>price</th>\n",
       "      <th>city-L/100km</th>\n",
       "      <th>diesel</th>\n",
       "      <th>gas</th>\n",
       "      <th>aspiration-std</th>\n",
       "      <th>aspiration-turbo</th>\n",
       "      <th>highway-mpg</th>\n",
       "    </tr>\n",
       "  </thead>\n",
       "  <tbody>\n",
       "    <tr>\n",
       "      <td>0</td>\n",
       "      <td>3</td>\n",
       "      <td>122</td>\n",
       "      <td>88.6</td>\n",
       "      <td>-0.438315</td>\n",
       "      <td>0.890278</td>\n",
       "      <td>0.816054</td>\n",
       "      <td>2548</td>\n",
       "      <td>130</td>\n",
       "      <td>3.47</td>\n",
       "      <td>2.68</td>\n",
       "      <td>9.0</td>\n",
       "      <td>111.0</td>\n",
       "      <td>5000.0</td>\n",
       "      <td>21</td>\n",
       "      <td>8.703704</td>\n",
       "      <td>13495.0</td>\n",
       "      <td>11.190476</td>\n",
       "      <td>0</td>\n",
       "      <td>1</td>\n",
       "      <td>1</td>\n",
       "      <td>0</td>\n",
       "      <td>27.0</td>\n",
       "    </tr>\n",
       "    <tr>\n",
       "      <td>1</td>\n",
       "      <td>3</td>\n",
       "      <td>122</td>\n",
       "      <td>88.6</td>\n",
       "      <td>-0.438315</td>\n",
       "      <td>0.890278</td>\n",
       "      <td>0.816054</td>\n",
       "      <td>2548</td>\n",
       "      <td>130</td>\n",
       "      <td>3.47</td>\n",
       "      <td>2.68</td>\n",
       "      <td>9.0</td>\n",
       "      <td>111.0</td>\n",
       "      <td>5000.0</td>\n",
       "      <td>21</td>\n",
       "      <td>8.703704</td>\n",
       "      <td>16500.0</td>\n",
       "      <td>11.190476</td>\n",
       "      <td>0</td>\n",
       "      <td>1</td>\n",
       "      <td>1</td>\n",
       "      <td>0</td>\n",
       "      <td>27.0</td>\n",
       "    </tr>\n",
       "    <tr>\n",
       "      <td>2</td>\n",
       "      <td>1</td>\n",
       "      <td>122</td>\n",
       "      <td>94.5</td>\n",
       "      <td>-0.243544</td>\n",
       "      <td>0.909722</td>\n",
       "      <td>0.876254</td>\n",
       "      <td>2823</td>\n",
       "      <td>152</td>\n",
       "      <td>2.68</td>\n",
       "      <td>3.47</td>\n",
       "      <td>9.0</td>\n",
       "      <td>154.0</td>\n",
       "      <td>5000.0</td>\n",
       "      <td>19</td>\n",
       "      <td>9.038462</td>\n",
       "      <td>16500.0</td>\n",
       "      <td>12.368421</td>\n",
       "      <td>0</td>\n",
       "      <td>1</td>\n",
       "      <td>1</td>\n",
       "      <td>0</td>\n",
       "      <td>26.0</td>\n",
       "    </tr>\n",
       "    <tr>\n",
       "      <td>3</td>\n",
       "      <td>2</td>\n",
       "      <td>164</td>\n",
       "      <td>99.8</td>\n",
       "      <td>0.194690</td>\n",
       "      <td>0.919444</td>\n",
       "      <td>0.908027</td>\n",
       "      <td>2337</td>\n",
       "      <td>109</td>\n",
       "      <td>3.19</td>\n",
       "      <td>3.40</td>\n",
       "      <td>10.0</td>\n",
       "      <td>102.0</td>\n",
       "      <td>5500.0</td>\n",
       "      <td>24</td>\n",
       "      <td>7.833333</td>\n",
       "      <td>13950.0</td>\n",
       "      <td>9.791667</td>\n",
       "      <td>0</td>\n",
       "      <td>1</td>\n",
       "      <td>1</td>\n",
       "      <td>0</td>\n",
       "      <td>30.0</td>\n",
       "    </tr>\n",
       "    <tr>\n",
       "      <td>4</td>\n",
       "      <td>2</td>\n",
       "      <td>164</td>\n",
       "      <td>99.4</td>\n",
       "      <td>0.194690</td>\n",
       "      <td>0.922222</td>\n",
       "      <td>0.908027</td>\n",
       "      <td>2824</td>\n",
       "      <td>136</td>\n",
       "      <td>3.19</td>\n",
       "      <td>3.40</td>\n",
       "      <td>8.0</td>\n",
       "      <td>115.0</td>\n",
       "      <td>5500.0</td>\n",
       "      <td>18</td>\n",
       "      <td>10.681818</td>\n",
       "      <td>17450.0</td>\n",
       "      <td>13.055556</td>\n",
       "      <td>0</td>\n",
       "      <td>1</td>\n",
       "      <td>1</td>\n",
       "      <td>0</td>\n",
       "      <td>22.0</td>\n",
       "    </tr>\n",
       "  </tbody>\n",
       "</table>\n",
       "</div>"
      ],
      "text/plain": [
       "   symboling  normalized-losses  wheel-base    length     width    height  \\\n",
       "0          3                122        88.6 -0.438315  0.890278  0.816054   \n",
       "1          3                122        88.6 -0.438315  0.890278  0.816054   \n",
       "2          1                122        94.5 -0.243544  0.909722  0.876254   \n",
       "3          2                164        99.8  0.194690  0.919444  0.908027   \n",
       "4          2                164        99.4  0.194690  0.922222  0.908027   \n",
       "\n",
       "   curb-weight  engine-size  bore  stroke  compression-ratio  horsepower  \\\n",
       "0         2548          130  3.47    2.68                9.0       111.0   \n",
       "1         2548          130  3.47    2.68                9.0       111.0   \n",
       "2         2823          152  2.68    3.47                9.0       154.0   \n",
       "3         2337          109  3.19    3.40               10.0       102.0   \n",
       "4         2824          136  3.19    3.40                8.0       115.0   \n",
       "\n",
       "   peak-rpm  city-mpg  highway-L/100km    price  city-L/100km  diesel  gas  \\\n",
       "0    5000.0        21         8.703704  13495.0     11.190476       0    1   \n",
       "1    5000.0        21         8.703704  16500.0     11.190476       0    1   \n",
       "2    5000.0        19         9.038462  16500.0     12.368421       0    1   \n",
       "3    5500.0        24         7.833333  13950.0      9.791667       0    1   \n",
       "4    5500.0        18        10.681818  17450.0     13.055556       0    1   \n",
       "\n",
       "   aspiration-std  aspiration-turbo  highway-mpg  \n",
       "0               1                 0         27.0  \n",
       "1               1                 0         27.0  \n",
       "2               1                 0         26.0  \n",
       "3               1                 0         30.0  \n",
       "4               1                 0         22.0  "
      ]
     },
     "execution_count": 5,
     "metadata": {},
     "output_type": "execute_result"
    }
   ],
   "source": [
    "df.head()"
   ]
  },
  {
   "cell_type": "markdown",
   "metadata": {},
   "source": [
    "### Functions for Plotting\n",
    "\n",
    "Let's define two functions for visualizations purpose"
   ]
  },
  {
   "cell_type": "code",
   "execution_count": 6,
   "metadata": {},
   "outputs": [],
   "source": [
    "def distribution_plot(red_function, blue_function, red_name, blue_name, title ):\n",
    "    \n",
    "    plt.figure(figsize = (6,4))\n",
    "\n",
    "    ax1 = sns.distplot(red_function, hist = False, color = \"r\", label = red_name)\n",
    "    ax2 = sns.distplot(blue_function, hist = False, color = \"b\", label = blue_name, ax = ax1)\n",
    "\n",
    "    plt.title(title)\n",
    "    plt.xlabel('Price (in dollars)')\n",
    "    plt.ylabel('Proportion of Cars')\n",
    "\n",
    "    plt.show()\n",
    "    plt.close()"
   ]
  },
  {
   "cell_type": "code",
   "execution_count": 7,
   "metadata": {},
   "outputs": [],
   "source": [
    "def plot_poly(x_train, x_test, y_train, y_test, lr, poly_transform):\n",
    "    \n",
    "    plt.figure(figsize = (6,4))\n",
    " \n",
    "    xmax = max([x_train.values.max(), x_test.values.max()])\n",
    "    xmin = min([x_train.values.min(), x_test.values.min()])\n",
    "    x = np.arange(xmin, xmax, 0.1)\n",
    "\n",
    "    plt.plot(x_train, y_train, 'ro', label = 'Training Data')\n",
    "    plt.plot(x_test, y_test, 'go', label =' Test Data')\n",
    "    plt.plot(x, lr.predict(poly_transform.fit_transform(x.reshape(-1,1))), label = 'Predicted Function')\n",
    "    \n",
    "    plt.ylim([-10000,60000])\n",
    "    plt.ylabel('Price')\n",
    "    plt.legend()"
   ]
  },
  {
   "cell_type": "markdown",
   "metadata": {},
   "source": [
    "## 1. Training and Testing\n",
    "\n",
    "Splitting data into training and testing set is an important part of model evaluation. When splitting a dataset, usually the larger portion of data is used for training and a smaller part is used for testing. We use training set to build the model and discover predictive relationships. We then use the testing set to evaluate model performance, to give an idea how our model will perform in real world. Once we have completed testing our model, we should use all the data to train the model to get the best performance."
   ]
  },
  {
   "cell_type": "code",
   "execution_count": 8,
   "metadata": {},
   "outputs": [],
   "source": [
    "y_data = df['price']                     # placing the 'price' in a separate dataframe y_data\n",
    "x_data = df.drop('price', axis = 1)      # drop 'price' data in x_data dataframe"
   ]
  },
  {
   "cell_type": "markdown",
   "metadata": {},
   "source": [
    "Now we randomly split our data into training and testing set using the function train_test_split(). The x_data and y_data provided to the train_test_split function are feature-variables and target variable respectively."
   ]
  },
  {
   "cell_type": "code",
   "execution_count": 9,
   "metadata": {},
   "outputs": [
    {
     "name": "stdout",
     "output_type": "stream",
     "text": [
      "number of test samples : 31\n",
      "number of training samples: 170\n"
     ]
    }
   ],
   "source": [
    "x_train, x_test, y_train, y_test = train_test_split(x_data, y_data, test_size = 0.15, random_state = 1)\n",
    "\n",
    "print(\"number of test samples :\", x_test.shape[0])\n",
    "print(\"number of training samples:\", x_train.shape[0])"
   ]
  },
  {
   "cell_type": "markdown",
   "metadata": {},
   "source": [
    "Here, we split our dataset (x_data, y_data) into training set (x_train, y_train) and test set (x_test, y_test). The test_size parameter sets the proportion of data that is split into the testing set."
   ]
  },
  {
   "cell_type": "code",
   "execution_count": 10,
   "metadata": {},
   "outputs": [
    {
     "name": "stdout",
     "output_type": "stream",
     "text": [
      "0.6449517437659684\n",
      "0.707688374146705\n"
     ]
    }
   ],
   "source": [
    "lre = LinearRegression()                              # create a linear regression object\n",
    "lre.fit(x_train[['horsepower']], y_train)             # fit the model using the feature horsepower\n",
    "\n",
    "print(lre.score(x_train[['horsepower']], y_train))    # calculate R-squared for the training data\n",
    "print(lre.score(x_test[['horsepower']], y_test))      # calculate R-squared for the test data"
   ]
  },
  {
   "cell_type": "markdown",
   "metadata": {},
   "source": [
    "### Cross-validation Score\n",
    "\n",
    "Generalization error is a meaure of how well our model does at predicting previously unseen data. We can treat our testing data as unseen data. The error we obtain using our testing data is an approximation of generalization error. \n",
    "\n",
    "One of the most common out-of-sample evaluation metric is cross-validation. In this method, the dataset is split into k equal groups. Each group is referred to as a fold. One fold is used for testing and the remaining ones are for training. For example, in a four fold split, we use three folds for training and one fold for testing. This is repeated until each fold is used for both training and testing. In the end, we use the average result as the estimate of out-of-sample error. \n",
    "\n",
    "We use cross_val_score() to apply cross-validation, which performs multiple out-of-sample evaluation. The default scoring (evaluation) is R-squared."
   ]
  },
  {
   "cell_type": "markdown",
   "metadata": {},
   "source": [
    "We input the model (linear regression object here), the feature (horsepower), the target (price). Parameter cv is  the number of folds (in this case 4)"
   ]
  },
  {
   "cell_type": "code",
   "execution_count": 11,
   "metadata": {},
   "outputs": [
    {
     "name": "stdout",
     "output_type": "stream",
     "text": [
      "[0.7746232  0.51716687 0.74785353 0.04839605]\n",
      "The mean of the folds are 0.522009915042119 and the standard deviation is 0.2911839444756029\n"
     ]
    }
   ],
   "source": [
    "r2_cross = cross_val_score(lre, x_data[['horsepower']], y_data, cv = 4)\n",
    "print(r2_cross)\n",
    "print(\"The mean of the folds are\", r2_cross.mean(),\"and the standard deviation is\" , r2_cross.std())"
   ]
  },
  {
   "cell_type": "markdown",
   "metadata": {},
   "source": [
    "This function returns an array of scores, one for each partition that was chosen as the testing set. \n",
    "\n",
    "Lets explain this in a little detail. Here, we are using 4 folds. Now, we use three folds for training the model and one fold for testing. r2_cross gives R-sqaured measured on this test set, with the model obtained from the training on three other folds. This process is repeated for all four folds. \n",
    "\n",
    "Note: We just need to declare lre object, and then pass it to cross_val_score() function. This function does the training and testing both"
   ]
  },
  {
   "cell_type": "markdown",
   "metadata": {},
   "source": [
    "Instead of the default R-squared, we can use negative squared error as a score by setting the parameter  'scoring' metric to 'neg_mean_squared_error':"
   ]
  },
  {
   "cell_type": "code",
   "execution_count": 12,
   "metadata": {},
   "outputs": [
    {
     "name": "stdout",
     "output_type": "stream",
     "text": [
      "[20254142.84026704 43745493.2650517  12539630.34014931 17561927.72247591]\n"
     ]
    }
   ],
   "source": [
    "nmse = -1*cross_val_score(lre, x_data[['horsepower']], y_data, cv = 4, scoring = 'neg_mean_squared_error')\n",
    "print(nmse)"
   ]
  },
  {
   "cell_type": "markdown",
   "metadata": {},
   "source": [
    "The cross_val_score() function returns the score value to tell us the cross-validation result. Similar to cross_val_score(), we can use cross_val_predict() function to predict the output. It works exactly as in the case of cross_val_score(), except that instead of returning a score, it returns a prediction on the test set. The other folds are used to train the model as in the case of cross_val_score()."
   ]
  },
  {
   "cell_type": "code",
   "execution_count": 13,
   "metadata": {},
   "outputs": [
    {
     "name": "stdout",
     "output_type": "stream",
     "text": [
      "201\n",
      "[14141.63807508 14141.63807508 20814.29423473 12745.03562306\n",
      " 14762.35027598 13986.46002486 13986.46002486 13986.46002486\n",
      " 18641.80153159 12589.85757284]\n"
     ]
    }
   ],
   "source": [
    "yhat = cross_val_predict(lre, x_data[['horsepower']], y_data, cv = 4)\n",
    "print(len(yhat))\n",
    "print(yhat[:10])"
   ]
  },
  {
   "cell_type": "markdown",
   "metadata": {},
   "source": [
    "## 2. Overfitting, Underfitting and Model Selection\n",
    "\n",
    "It turns out that the test data sometimes referred to as the out of sample data is a much better measure of how well the model performs in the real world.\n",
    "<br>One reason for this is overfitting. This is more apparent in Multiple Linear Regression and Polynomial Regression so we will explore overfitting in that context.\n",
    "\n",
    "Lets understand underfitting and overfitting: Suppose we have a data scattered around a parabolic line (y ~ x^2) with some noise, and we want to fit this data using polynomial regression. The goal of model selection is to determine the order of the polynomial to provide the best estimate of the parabolic data. If we fit this data with degree one polynomial (line), it can never capture the parabolic behaviour. This situation is known as underfitting, where the model is too simple to fit the data. In contrast, if we take a higher order polynomial, say 6, the model is too flexible and even fit the noise and will not capture the simple parabolic behaviour. This particular situation is known as overfitting."
   ]
  },
  {
   "cell_type": "markdown",
   "metadata": {},
   "source": [
    "First, lets try Multiple Linear Regression: let's train the model using horsepower, curb-weight, engine-size, and highway-mpg as features"
   ]
  },
  {
   "cell_type": "code",
   "execution_count": 14,
   "metadata": {},
   "outputs": [
    {
     "data": {
      "text/plain": [
       "LinearRegression(copy_X=True, fit_intercept=True, n_jobs=None, normalize=False)"
      ]
     },
     "execution_count": 14,
     "metadata": {},
     "output_type": "execute_result"
    }
   ],
   "source": [
    "lr_multi = LinearRegression()\n",
    "lr_multi.fit(x_train[['horsepower', 'curb-weight', 'engine-size', 'highway-mpg']], y_train)"
   ]
  },
  {
   "cell_type": "markdown",
   "metadata": {},
   "source": [
    "Prediction using training data"
   ]
  },
  {
   "cell_type": "code",
   "execution_count": 15,
   "metadata": {},
   "outputs": [
    {
     "data": {
      "text/plain": [
       "array([11927.70699817, 11236.71672034,  6436.91775515, 21890.22064982,\n",
       "       16667.18254832])"
      ]
     },
     "execution_count": 15,
     "metadata": {},
     "output_type": "execute_result"
    }
   ],
   "source": [
    "yhat_train = lr_multi.predict(x_train[['horsepower', 'curb-weight', 'engine-size', 'highway-mpg']])\n",
    "yhat_train[0:5]"
   ]
  },
  {
   "cell_type": "markdown",
   "metadata": {},
   "source": [
    "Prediction using test data"
   ]
  },
  {
   "cell_type": "code",
   "execution_count": 16,
   "metadata": {},
   "outputs": [
    {
     "data": {
      "text/plain": [
       "array([11349.16502418,  5914.48335385, 11243.76325987,  6662.03197043,\n",
       "       15555.76936275])"
      ]
     },
     "execution_count": 16,
     "metadata": {},
     "output_type": "execute_result"
    }
   ],
   "source": [
    "yhat_test = lr_multi.predict(x_test[['horsepower', 'curb-weight', 'engine-size', 'highway-mpg']])\n",
    "yhat_test[0:5]"
   ]
  },
  {
   "cell_type": "markdown",
   "metadata": {},
   "source": [
    "Let's perform some model evaluation using our training and testing data separately. First, lets compare the distribution of the predicted values with the actual values of the training data."
   ]
  },
  {
   "cell_type": "code",
   "execution_count": 17,
   "metadata": {},
   "outputs": [
    {
     "data": {
      "image/png": "[encoded data removed]",
      "text/plain": [
       "<Figure size 432x288 with 1 Axes>"
      ]
     },
     "metadata": {
      "needs_background": "light"
     },
     "output_type": "display_data"
    }
   ],
   "source": [
    "title = 'Distribution plot of predicted values using training data vs training data (actual) distribution '\n",
    "distribution_plot(y_train, yhat_train, \"Actual Values (Train)\", \"Predicted Values (Train)\", title)"
   ]
  },
  {
   "cell_type": "markdown",
   "metadata": {},
   "source": [
    "The model seems to be doing well in learning from the training dataset. What happens when the trained model encounters new data from the testing dataset ?  "
   ]
  },
  {
   "cell_type": "code",
   "execution_count": 18,
   "metadata": {},
   "outputs": [
    {
     "data": {
      "image/png": "[encoded data removed]",
      "text/plain": [
       "<Figure size 432x288 with 1 Axes>"
      ]
     },
     "metadata": {
      "needs_background": "light"
     },
     "output_type": "display_data"
    }
   ],
   "source": [
    "title = 'Distribution plot of predicted value using test data vs data distribution of test data (actual)'\n",
    "distribution_plot(y_test, yhat_test, \"Actual Values (Test)\", \"Predicted Values (Test)\", title)"
   ]
  },
  {
   "cell_type": "markdown",
   "metadata": {},
   "source": [
    "When the trained model generates new values from the test data, the distribution of the predicted values is much different from the actual target values."
   ]
  },
  {
   "cell_type": "markdown",
   "metadata": {},
   "source": [
    "**Overfitting :** Overfitting occurs when the model fits the noise, not the underlying process. Therefore when testing the model using the test-set, the model does not perform as well, as it is modelling noise, not the underlying process that generated the relationship. \n",
    "\n",
    "Let's see if polynomial regression also exhibits a drop in the prediction accuracy when analysing the test dataset."
   ]
  },
  {
   "cell_type": "markdown",
   "metadata": {},
   "source": [
    "Let's use 45 percent of the data for testing and the rest for training, and fit a degree 5 polynomial model. We will perform a degree 5 polynomial transformation on the feature 'horse power'."
   ]
  },
  {
   "cell_type": "code",
   "execution_count": 19,
   "metadata": {},
   "outputs": [
    {
     "data": {
      "text/plain": [
       "LinearRegression(copy_X=True, fit_intercept=True, n_jobs=None, normalize=False)"
      ]
     },
     "execution_count": 19,
     "metadata": {},
     "output_type": "execute_result"
    }
   ],
   "source": [
    "x_train, x_test, y_train, y_test = train_test_split(x_data, y_data, test_size = 0.45, random_state = 0)\n",
    "\n",
    "pr = PolynomialFeatures(degree = 5)\n",
    "x_train_pr = pr.fit_transform(x_train[['horsepower']])\n",
    "x_test_pr = pr.fit_transform(x_test[['horsepower']])\n",
    "\n",
    "poly = LinearRegression()                   # create a linear regression model poly\n",
    "poly.fit(x_train_pr, y_train)               # train the model using training data"
   ]
  },
  {
   "cell_type": "markdown",
   "metadata": {},
   "source": [
    "Let's use the above defined function to display the training data, testing data, and the predicted function:"
   ]
  },
  {
   "cell_type": "code",
   "execution_count": 20,
   "metadata": {},
   "outputs": [
    {
     "data": {
      "image/png": "[encoded data removed]",
      "text/plain": [
       "<Figure size 432x288 with 1 Axes>"
      ]
     },
     "metadata": {
      "needs_background": "light"
     },
     "output_type": "display_data"
    }
   ],
   "source": [
    "plot_poly(x_train[['horsepower']], x_test[['horsepower']], y_train, y_test, poly, pr)"
   ]
  },
  {
   "cell_type": "markdown",
   "metadata": {},
   "source": [
    "We see that the estimated function appears to track the data but at around 200 horsepower, the function begins to diverge from the data points. "
   ]
  },
  {
   "cell_type": "code",
   "execution_count": 21,
   "metadata": {},
   "outputs": [
    {
     "name": "stdout",
     "output_type": "stream",
     "text": [
      "0.5567716902635091\n",
      "-29.87141885918752\n"
     ]
    }
   ],
   "source": [
    "print(poly.score(x_train_pr, y_train))           # R-squared of the training data\n",
    "print(poly.score(x_test_pr, y_test))             # R-squared of the test data"
   ]
  },
  {
   "cell_type": "markdown",
   "metadata": {},
   "source": [
    "R^2 for the training data is 0.5567, while it is -29.87 for the test data. The lower the R^2, the worse the model. Now, let's see how the R^2 changes on the test data for different order polynomials and plot the results."
   ]
  },
  {
   "cell_type": "code",
   "execution_count": 23,
   "metadata": {},
   "outputs": [
    {
     "data": {
      "text/plain": [
       "Text(3, 0.75, 'Maximum R^2 ')"
      ]
     },
     "execution_count": 23,
     "metadata": {},
     "output_type": "execute_result"
    },
    {
     "data": {
      "image/png": "[encoded data removed]",
      "text/plain": [
       "<Figure size 432x288 with 1 Axes>"
      ]
     },
     "metadata": {
      "needs_background": "light"
     },
     "output_type": "display_data"
    }
   ],
   "source": [
    "Rsq_test = []\n",
    "\n",
    "order = [1, 2, 3, 4]\n",
    "\n",
    "lr_poly = LinearRegression()\n",
    "\n",
    "for n in order:\n",
    "    pr = PolynomialFeatures(degree = n)\n",
    "    x_train_pr = pr.fit_transform(x_train[['horsepower']])\n",
    "    x_test_pr = pr.fit_transform(x_test[['horsepower']])\n",
    "    lr_poly.fit(x_train_pr, y_train)\n",
    "    Rsq_test.append(lr_poly.score(x_test_pr, y_test))\n",
    "\n",
    "plt.plot(order, Rsq_test)\n",
    "plt.xlabel('order')\n",
    "plt.ylabel('R^2')\n",
    "plt.title('R^2 Using Test Data')\n",
    "plt.text(3, 0.75, 'Maximum R^2 ')   "
   ]
  },
  {
   "cell_type": "markdown",
   "metadata": {},
   "source": [
    "We see that R^2 gradually increases until an order three polynomial is used, then it dramatically decreases at four."
   ]
  },
  {
   "cell_type": "markdown",
   "metadata": {},
   "source": [
    "## 3. Ridge Regression\n",
    "\n",
    "Ridge regression prevents overfitting. Lets understand in detail how we can avoid overfitting using ridge regression. \n",
    "\n",
    "Consider a data which can be best fitted by fourth order polynomial. In many cases, real data have outliers. So, if we fit the data by a 10th order polynomial, it will overfit and model the outliers even. If we look at the expression for the estimated function, we see that the coefficients of higher order terms in the estimated polynomial have very large magnitudes. Ridge regression controls the magnitude of these polynomial coefficients by introducing the parameter Alfa. \n",
    "\n",
    "We select Alfa before training the model. We use alpha to reduce the magnitude of the coefficients of higher order terms. When Alfa = 0, there is no reduction in the magnitude and we get overfitting. When Alfa = infinity, even lower order terms are made insignificant and we get underfitting. Thus, Alfa should be chosen judiciously, just large enough so that it reduces the coefficients of higher order terms causing overfitting. We use cross-validation to select Alfa.\n",
    "\n",
    "We illustrated overfitting in the case of polynomial regression, but it also occurs when using multiple linear regression with many independent features."
   ]
  },
  {
   "cell_type": "markdown",
   "metadata": {},
   "source": [
    "Let's perform a degree two polynomial transformation on our data:"
   ]
  },
  {
   "cell_type": "code",
   "execution_count": 24,
   "metadata": {},
   "outputs": [],
   "source": [
    "features = ['horsepower', 'curb-weight', 'engine-size', 'highway-mpg','normalized-losses','symboling']\n",
    "\n",
    "pr = PolynomialFeatures(degree = 2)\n",
    "x_train_pr = pr.fit_transform(x_train[features])\n",
    "x_test_pr = pr.fit_transform(x_test[features])"
   ]
  },
  {
   "cell_type": "code",
   "execution_count": 25,
   "metadata": {},
   "outputs": [
    {
     "name": "stderr",
     "output_type": "stream",
     "text": [
      "/opt/anaconda3/lib/python3.7/site-packages/sklearn/linear_model/ridge.py:147: LinAlgWarning: Ill-conditioned matrix (rcond=1.02972e-16): result may not be accurate.\n",
      "  overwrite_a=True).T\n"
     ]
    }
   ],
   "source": [
    "RidgeModel = Ridge(alpha = 0.1)    # ridge regression object, with regularization parameter 0.1\n",
    "RidgeModel.fit(x_train_pr, y_train)\n",
    "yhat = RidgeModel.predict(x_test_pr)"
   ]
  },
  {
   "cell_type": "markdown",
   "metadata": {},
   "source": [
    "We select the value of Alfa as follows: First, we choose a value of Alfa, train the model with this value of Alfa, and then make a prediction on the validation data (validation data is similar to test data but it is used to select parameters such as Alfa) and measure the value of R-squared. We do this over a range of values of Alfa and select the Alfa which minimizes the error on the validation data. Note that here, we will be using our test data as validation data, and we can use other metric like MSE to select alpha."
   ]
  },
  {
   "cell_type": "code",
   "execution_count": 27,
   "metadata": {},
   "outputs": [],
   "source": [
    "Rsq_train = []\n",
    "Rsq_test = []\n",
    "dummy1 = []\n",
    "ALFA = 5000*np.array(range(0,10000))\n",
    "\n",
    "for alfa in ALFA:\n",
    "    RidgeModel = Ridge(alpha = alfa)\n",
    "    RidgeModel.fit(x_train_pr, y_train)\n",
    "    Rsq_train.append(RidgeModel.score(x_train_pr, y_train))\n",
    "    Rsq_test.append(RidgeModel.score(x_test_pr, y_test)) "
   ]
  },
  {
   "cell_type": "markdown",
   "metadata": {},
   "source": [
    "Let's plot R^2 vs Alpha"
   ]
  },
  {
   "cell_type": "code",
   "execution_count": 28,
   "metadata": {},
   "outputs": [
    {
     "data": {
      "text/plain": [
       "<matplotlib.legend.Legend at 0x10dd9c610>"
      ]
     },
     "execution_count": 28,
     "metadata": {},
     "output_type": "execute_result"
    },
    {
     "data": {
      "image/png": "[encoded data removed]",
      "text/plain": [
       "<Figure size 432x288 with 1 Axes>"
      ]
     },
     "metadata": {
      "needs_background": "light"
     },
     "output_type": "display_data"
    }
   ],
   "source": [
    "plt.figure(figsize = (6,4))\n",
    "plt.plot(ALFA, Rsq_train, 'r', label = 'training Data ')\n",
    "plt.plot(ALFA, Rsq_test, label = 'validation data  ')\n",
    "plt.xlabel('alpha')\n",
    "plt.ylabel('R^2')\n",
    "plt.legend()"
   ]
  },
  {
   "cell_type": "markdown",
   "metadata": {},
   "source": [
    "We see that as the value of alpha increases, R-squared on the validation data increases and converges approximately at 0.75. In this case, we select the maximum value of Alfa, because using the higher values of alpha have little impact. Conversely, as Alfa increases, R-squared on the training data decreases. This is because higher values of Alfa prevent overfitting. "
   ]
  },
  {
   "cell_type": "markdown",
   "metadata": {},
   "source": [
    "##  4. Grid Search\n",
    "\n",
    "Grid search allows us to scan through multiple free parameters efficiently. Alfa is a hyperparameter, a parameter which is not part of fitting or training process. Scikit-learn has a class GridSearchCV, to automatically iterate over such hyperparameters using cross-validation.\n",
    "\n",
    "Grid search takes the model or object we want to train and different values of the hyperparameters. To select the hyperparameters, we split our dataset into three parts: training set, validation set and test set. We train the model for different hyperparameters using the training set. We select the hyperparameters that minimizes the MSE or maximizes the R-squared on the validation set. We finally test our model performance using the test data."
   ]
  },
  {
   "cell_type": "code",
   "execution_count": 30,
   "metadata": {},
   "outputs": [
    {
     "name": "stderr",
     "output_type": "stream",
     "text": [
      "/opt/anaconda3/lib/python3.7/site-packages/sklearn/model_selection/_search.py:814: DeprecationWarning: The default of the `iid` parameter will change from True to False in version 0.22 and will be removed in 0.24. This will change numeric results when test-set sizes are unequal.\n",
      "  DeprecationWarning)\n"
     ]
    }
   ],
   "source": [
    "parameters= [{'alpha': [0.001,0.1,1, 10, 100, 1000,10000,100000,100000]}]\n",
    "\n",
    "RR = Ridge()                                  # create a ridge regression object/model\n",
    "Grid = GridSearchCV(RR, parameters, cv = 4)   # create a ridge grid search object\n",
    "Grid.fit(x_data[['horsepower', 'curb-weight', 'engine-size', 'highway-mpg']], y_data)   # fit the model\n",
    "BestRR = Grid.best_estimator_      # returns the estimator with the best values of the free parameters"
   ]
  },
  {
   "cell_type": "markdown",
   "metadata": {},
   "source": [
    "We now test our model (BestRR contains the model with best parameter values) on the test data:"
   ]
  },
  {
   "cell_type": "code",
   "execution_count": 31,
   "metadata": {},
   "outputs": [
    {
     "data": {
      "text/plain": [
       "0.8411649831036149"
      ]
     },
     "execution_count": 31,
     "metadata": {},
     "output_type": "execute_result"
    }
   ],
   "source": [
    "BestRR.score(x_test[['horsepower', 'curb-weight', 'engine-size', 'highway-mpg']], y_test)"
   ]
  },
  {
   "cell_type": "markdown",
   "metadata": {},
   "source": [
    "The default scoring is R-squared. The mean score for each value of alpha can be obtained as:"
   ]
  },
  {
   "cell_type": "code",
   "execution_count": 33,
   "metadata": {},
   "outputs": [
    {
     "data": {
      "text/plain": [
       "array([0.66548837, 0.66548894, 0.66549413, 0.66554568, 0.66602936,\n",
       "       0.66896822, 0.67334636, 0.65781884, 0.65781884])"
      ]
     },
     "execution_count": 33,
     "metadata": {},
     "output_type": "execute_result"
    }
   ],
   "source": [
    "scores = Grid.cv_results_\n",
    "scores['mean_test_score']           # mean value of test score for each value of alpha"
   ]
  },
  {
   "cell_type": "markdown",
   "metadata": {},
   "source": [
    "This mean is calculated as usual: As we are using cv = 4, three folds are used for training and one for cross-validation. The scores are calculated on cross-validation data, and finally averaged over all four folds. We can also obtain the scoring for all folds separately :"
   ]
  },
  {
   "cell_type": "code",
   "execution_count": 34,
   "metadata": {},
   "outputs": [
    {
     "data": {
      "text/plain": [
       "{'mean_fit_time': array([0.00234526, 0.00180578, 0.0018847 , 0.00170571, 0.00166374,\n",
       "        0.0017153 , 0.00159985, 0.00156182, 0.00164253]),\n",
       " 'std_fit_time': array([1.72183067e-04, 2.25964534e-04, 2.90261671e-04, 1.31975115e-04,\n",
       "        9.00869539e-05, 1.32525831e-04, 4.23024624e-05, 1.89444341e-05,\n",
       "        1.24218639e-04]),\n",
       " 'mean_score_time': array([0.00120187, 0.00099248, 0.00101769, 0.00105697, 0.00098997,\n",
       "        0.00111496, 0.00098997, 0.00095642, 0.00095946]),\n",
       " 'std_score_time': array([1.26842493e-04, 1.45634286e-05, 2.72311698e-05, 1.46485603e-04,\n",
       "        3.54985069e-05, 1.46174750e-04, 3.76049573e-05, 7.63032580e-06,\n",
       "        9.08399035e-06]),\n",
       " 'param_alpha': masked_array(data=[0.001, 0.1, 1, 10, 100, 1000, 10000, 100000, 100000],\n",
       "              mask=[False, False, False, False, False, False, False, False,\n",
       "                    False],\n",
       "        fill_value='?',\n",
       "             dtype=object),\n",
       " 'params': [{'alpha': 0.001},\n",
       "  {'alpha': 0.1},\n",
       "  {'alpha': 1},\n",
       "  {'alpha': 10},\n",
       "  {'alpha': 100},\n",
       "  {'alpha': 1000},\n",
       "  {'alpha': 10000},\n",
       "  {'alpha': 100000},\n",
       "  {'alpha': 100000}],\n",
       " 'split0_test_score': array([0.84466574, 0.84466574, 0.84466581, 0.84466645, 0.84467209,\n",
       "        0.84469375, 0.84428216, 0.82706721, 0.82706721]),\n",
       " 'split1_test_score': array([0.78589221, 0.78589265, 0.78589669, 0.7859368 , 0.78631422,\n",
       "        0.78867456, 0.79423103, 0.80694603, 0.80694603]),\n",
       " 'split2_test_score': array([0.56412245, 0.56412391, 0.56413711, 0.56426825, 0.56549207,\n",
       "        0.57238455, 0.56816562, 0.45408001, 0.45408001]),\n",
       " 'split3_test_score': array([0.46368952, 0.46368991, 0.46369346, 0.46372881, 0.4640662 ,\n",
       "        0.4666055 , 0.4832879 , 0.53979714, 0.53979714]),\n",
       " 'mean_test_score': array([0.66548837, 0.66548894, 0.66549413, 0.66554568, 0.66602936,\n",
       "        0.66896822, 0.67334636, 0.65781884, 0.65781884]),\n",
       " 'std_test_score': array([0.15632719, 0.15632692, 0.15632444, 0.15629982, 0.15606862,\n",
       "        0.15461856, 0.15095199, 0.1630672 , 0.1630672 ]),\n",
       " 'rank_test_score': array([7, 6, 5, 4, 3, 2, 1, 8, 8], dtype=int32)}"
      ]
     },
     "execution_count": 34,
     "metadata": {},
     "output_type": "execute_result"
    }
   ],
   "source": [
    "scores"
   ]
  },
  {
   "cell_type": "markdown",
   "metadata": {},
   "source": [
    "In the above grid search, we search for only one parameter, hyperparameter alpha. The advantage of grid search is that how quickly we can test multiple parameters. For example, Ridge regression has the option 'normalize' \n",
    "to normalize the data,\n",
    "We can think of the key 'normalize' as a paramater, in addition to alpha and pass it to GridSearchCV(). The key 'normalize' has two values True (normalize) and False (do not normalize)."
   ]
  },
  {
   "cell_type": "code",
   "execution_count": 35,
   "metadata": {},
   "outputs": [],
   "source": [
    "parameters= [{'alpha': [0.001,0.1,1, 10, 100, 1000,10000,100000,100000], 'normalize':[True, False]}]"
   ]
  },
  {
   "cell_type": "markdown",
   "metadata": {},
   "source": [
    "We can repeat the above code with these two parameters dictionary-list. Now the GridSearchCV will go through all combinations of these two parameters (0.001,True), (0.001, False), (0.1, True).....(100000, True), (100000, False) to find the best estimator."
   ]
  }
 ],
 "metadata": {
  "kernelspec": {
   "display_name": "Python 3",
   "language": "python",
   "name": "python3"
  },
  "language_info": {
   "codemirror_mode": {
    "name": "ipython",
    "version": 3
   },
   "file_extension": ".py",
   "mimetype": "text/x-python",
   "name": "python",
   "nbconvert_exporter": "python",
   "pygments_lexer": "ipython3",
   "version": "3.7.4"
  }
 },
 "nbformat": 4,
 "nbformat_minor": 1
}
