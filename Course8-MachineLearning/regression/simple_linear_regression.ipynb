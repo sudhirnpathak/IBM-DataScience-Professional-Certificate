{
 "cells": [
  {
   "cell_type": "markdown",
   "metadata": {},
   "source": [
    "# Regression\n",
    "\n",
    "Regression methods can be used to predict a continuous value (target) using some other variables (features). In regression, there are two types of variables, a dependent variable (target, typically denoted by Y) and one or more independent variables (features, typically denoted by X). Our regression models relates Y as a function of X. The key point in the regression is that our dependent variable Y should be continuous and can not be a discrete value. However, the independent variables can be measured on categorial or continous measurement scales.\n",
    "\n",
    "Basically, there are two types of regression models :\n",
    "<ul>\n",
    "<li>Simple Regression: when only one independent variable is used to estimate the dependent variable. It can be either linear or non-linear regression, depending on the relationship between the independent and dependent variable.</li>\n",
    "    \n",
    "<li>Multiple Regression: when more than one independent variables are used in modelling. Again, this regression can be linear or non-linear.</li>\n",
    "</ul>\n",
    "\n",
    "We have many regression algorithms, each of them has their own importance and specific conditions to which their application is best suited:\n",
    "<ul>\n",
    "<li> Ordinal regression </li>\n",
    "<li> Poisson regression </li>\n",
    "<li> Fast forest quantile regression </li>\n",
    "<li> Linear, Polynomial, Lasso, Stepwise, Ridge regression </li>\n",
    "<li> Bayesian Linear Regression </li>\n",
    "<li> Neural network regression </li>\n",
    "<li> Decision forest regression </li>\n",
    "<li> Boosted decision tree regression </li>\n",
    "<li> KNN (K-nearest neighbors) </li>\n",
    "</ul>"
   ]
  },
  {
   "cell_type": "markdown",
   "metadata": {},
   "source": [
    "## Linear Regression\n",
    "\n",
    "Linear regression is the approximation of a linear model used to describe the relationship between two or more variables. Linear Regression fits a linear model $\\hat{y} = \\theta_0+\\theta_1x_1+\\theta_2x_2+...$ with coefficients (also called parameters) $\\theta = (\\theta_0,\\theta_1, ..., \\theta_n)$ to minimize the 'residual sum of squares. Here $x_i$'s are independent feature variables and $\\hat{y}$ is the prediction made by model given a certain values of $x_i$'s.\n",
    "\n",
    "The mean of all residual errors ($y-\\hat{y}$) is a measure of how the model fits with the dataset:\n",
    "\n",
    "\\begin{equation*}\n",
    "MSE = \\frac{1}{n}\\sum_{i}^{n}(y_i - \\hat{y}_i)^2\n",
    "\\end{equation*}\n",
    "\n",
    "where $y_i$, $\\hat{y}_i$ are the actual and predicted values respectively, and $n$ is the number of sample data points. Our objective is to find the parameters values $\\theta_i$'s such that MSE is minimized. \n",
    "\n",
    "We have two options to determine these error minimizing $\\theta_i$'s: \n",
    "\n",
    "<ui>\n",
    "<li> Mathematical approach: for a simple linear regressin with only one independent variable\n",
    "    \\begin{equation*}\n",
    "    \\theta_1 = \\frac{\\sum_i^n(x_i-\\bar{x})(y_i-\\bar{y})}{\\sum_i^n(x_i-\\bar{x})^2}; \\theta_0 = \\bar{y} - \\theta_1\\bar{x}\n",
    "    \\end{equation*}\n",
    "    where $\\bar{x}, \\bar{y}$ represent mean values of $x_i$'s and $y_i$'s respectively.\n",
    "\n",
    "</li>\n",
    "<li> Optimization approach: gradient descent (this approach is efficient for very large dataset, as the mathematical approach deals with large matrices and becomes inefficient)</li>\n",
    "</ui>"
   ]
  },
  {
   "cell_type": "markdown",
   "metadata": {},
   "source": [
    "## Model Evaluation\n",
    "\n",
    "The goal of regression is to build a model to accurately predict an unseen case. To this end, we have to perform evaluation of our model. When considering evalution of models, we clearly want to choose the one that gives the most accurate result. Thus, the question is how we can estimate the accuracy of our models. In other words, how much we can trust this model in prediction of an unknown sample using the given dataset and the model we have built.\n",
    "\n",
    "One of the solution is train-test split, in which we split the dataset into mutually exclusive training and test dataset. We use the training set for building the model. Now we can use the model to make prediction on the test set and see how the predicted values on the test set compare with the actual values of the test set. This indicates how accurate our model is. Once, we have selected the model with best accuracy, we train our model on the whole dataset, as we do not want to lose any valueable data for training.\n",
    "\n",
    "The issue with train-test is that it is highly dependent on the dataset on which the data was trained and tested. This can be resolved by using another evaluation model called K-fold cross validation. In K-fold cross validation, we split the whole data into K number of folds. We use K-1 folds for training and building the model and the remaining one is used for testing and evaluating the model. We continue this process until each fold is used for testing the model, finally averaging the correctness evalution of all the folds."
   ]
  },
  {
   "cell_type": "markdown",
   "metadata": {},
   "source": [
    "Now, we know that we have to compare the actual values and predicted values to estimate the accuracy of a regression model. For this purpose, we need accuracy metrics to quantify the accuracy of models. Evaluation metrics are used to explain the performance of a model. Some model evalution metrics that are used for regression are:\n",
    "<ul>\n",
    "    <li> Mean absolute error(MAE): It is the mean of the absolute value of the errors. This is the easiest of the metrics to understand since it’s just average error.\n",
    "        \\begin{equation*}\n",
    "        MAE = \\frac{1}{n}\\sum_{i=1}^n|y_i - \\hat{y}_i|\n",
    "        \\end{equation*}\n",
    "    </li>\n",
    "    <li>Mean Squared Error (MSE): Mean sqaured error is the mean of the squared error. \n",
    "        \\begin{equation*}\n",
    "        MSE = \\frac{1}{n}\\sum_{i=1}^n(y_i - \\hat{y}_i)^2\n",
    "        \\end{equation*}\n",
    "        It’s more popular than Mean absolute error because the focus is geared more towards large errors. This is due to the squared term exponentially increasing larger errors in comparison to smaller ones.\n",
    "    </li>\n",
    "    <li>Root Mean Squared Error (RMSE): This is the square root of the Mean Squared Error.\n",
    "        \\begin{equation*}\n",
    "        RMSE = \\sqrt{\\frac{1}{n}\\sum_{i=1}^n(y_i - \\hat{y}_i)^2}\n",
    "        \\end{equation*}\n",
    "        This is one of the most popular of the evaluation metrics because RMSE is in the same units as the target variable, making it easy to interpret.\n",
    "    </li>\n",
    "    <li>Relative Absolute Error (RAE):\n",
    "        \\begin{equation*}\n",
    "        RAE = \\frac{\\sum_{i=1}^n|y_i - \\hat{y}_i|}{\\sum_{i=1}^n|y_i - \\bar{y}|}\n",
    "        \\end{equation*}\n",
    "    </li>\n",
    "    <li>Relative Squared Error (RSE):\n",
    "        \\begin{equation*}\n",
    "        RSE = \\frac{\\sum_{i=1}^n(y_i - \\hat{y}_i)^2}{\\sum_{i=1}^n(y_i - \\bar{y})^2}\n",
    "        \\end{equation*}\n",
    "        R-squared = 1-RSE, is not an error but is a popular metric for estimating the accuracy of model. It represents how close the data values are to the fitted regression line. The higher the R-squared, the better the model fits the data. Best possible score is 1.0 and it can be negative (because the model can be arbitrarily worse).\n",
    "    </li>\n",
    "</ul>"
   ]
  },
  {
   "cell_type": "markdown",
   "metadata": {},
   "source": [
    "## Simple Linear Regression\n",
    "\n",
    "In simple linear regression, there are two variables, a dependent variable and an independent variable"
   ]
  },
  {
   "cell_type": "code",
   "execution_count": 1,
   "metadata": {},
   "outputs": [],
   "source": [
    "import numpy as np\n",
    "import pandas as pd\n",
    "\n",
    "%matplotlib inline\n",
    "import matplotlib.pyplot as plt\n",
    "\n",
    "from sklearn import linear_model\n",
    "from sklearn.metrics import r2_score\n",
    "\n",
    "pd.set_option('display.max_columns', None)"
   ]
  },
  {
   "cell_type": "markdown",
   "metadata": {},
   "source": [
    "This fuel consumption dataset contains model-specific fuel consumption ratings and estimated carbon dioxide emissions for new light-duty vehicals"
   ]
  },
  {
   "cell_type": "code",
   "execution_count": 2,
   "metadata": {},
   "outputs": [
    {
     "data": {
      "text/plain": [
       "(1067, 13)"
      ]
     },
     "execution_count": 2,
     "metadata": {},
     "output_type": "execute_result"
    }
   ],
   "source": [
    "df = pd.read_csv('fuel_consumption.csv')\n",
    "df.shape"
   ]
  },
  {
   "cell_type": "code",
   "execution_count": 3,
   "metadata": {},
   "outputs": [
    {
     "data": {
      "text/html": [
       "<div>\n",
       "<style scoped>\n",
       "    .dataframe tbody tr th:only-of-type {\n",
       "        vertical-align: middle;\n",
       "    }\n",
       "\n",
       "    .dataframe tbody tr th {\n",
       "        vertical-align: top;\n",
       "    }\n",
       "\n",
       "    .dataframe thead th {\n",
       "        text-align: right;\n",
       "    }\n",
       "</style>\n",
       "<table border=\"1\" class=\"dataframe\">\n",
       "  <thead>\n",
       "    <tr style=\"text-align: right;\">\n",
       "      <th></th>\n",
       "      <th>MODELYEAR</th>\n",
       "      <th>MAKE</th>\n",
       "      <th>MODEL</th>\n",
       "      <th>VEHICLECLASS</th>\n",
       "      <th>ENGINESIZE</th>\n",
       "      <th>CYLINDERS</th>\n",
       "      <th>TRANSMISSION</th>\n",
       "      <th>FUELTYPE</th>\n",
       "      <th>FUELCONSUMPTION_CITY</th>\n",
       "      <th>FUELCONSUMPTION_HWY</th>\n",
       "      <th>FUELCONSUMPTION_COMB</th>\n",
       "      <th>FUELCONSUMPTION_COMB_MPG</th>\n",
       "      <th>CO2EMISSIONS</th>\n",
       "    </tr>\n",
       "  </thead>\n",
       "  <tbody>\n",
       "    <tr>\n",
       "      <td>0</td>\n",
       "      <td>2014</td>\n",
       "      <td>ACURA</td>\n",
       "      <td>ILX</td>\n",
       "      <td>COMPACT</td>\n",
       "      <td>2.0</td>\n",
       "      <td>4</td>\n",
       "      <td>AS5</td>\n",
       "      <td>Z</td>\n",
       "      <td>9.9</td>\n",
       "      <td>6.7</td>\n",
       "      <td>8.5</td>\n",
       "      <td>33</td>\n",
       "      <td>196</td>\n",
       "    </tr>\n",
       "    <tr>\n",
       "      <td>1</td>\n",
       "      <td>2014</td>\n",
       "      <td>ACURA</td>\n",
       "      <td>ILX</td>\n",
       "      <td>COMPACT</td>\n",
       "      <td>2.4</td>\n",
       "      <td>4</td>\n",
       "      <td>M6</td>\n",
       "      <td>Z</td>\n",
       "      <td>11.2</td>\n",
       "      <td>7.7</td>\n",
       "      <td>9.6</td>\n",
       "      <td>29</td>\n",
       "      <td>221</td>\n",
       "    </tr>\n",
       "    <tr>\n",
       "      <td>2</td>\n",
       "      <td>2014</td>\n",
       "      <td>ACURA</td>\n",
       "      <td>ILX HYBRID</td>\n",
       "      <td>COMPACT</td>\n",
       "      <td>1.5</td>\n",
       "      <td>4</td>\n",
       "      <td>AV7</td>\n",
       "      <td>Z</td>\n",
       "      <td>6.0</td>\n",
       "      <td>5.8</td>\n",
       "      <td>5.9</td>\n",
       "      <td>48</td>\n",
       "      <td>136</td>\n",
       "    </tr>\n",
       "    <tr>\n",
       "      <td>3</td>\n",
       "      <td>2014</td>\n",
       "      <td>ACURA</td>\n",
       "      <td>MDX 4WD</td>\n",
       "      <td>SUV - SMALL</td>\n",
       "      <td>3.5</td>\n",
       "      <td>6</td>\n",
       "      <td>AS6</td>\n",
       "      <td>Z</td>\n",
       "      <td>12.7</td>\n",
       "      <td>9.1</td>\n",
       "      <td>11.1</td>\n",
       "      <td>25</td>\n",
       "      <td>255</td>\n",
       "    </tr>\n",
       "    <tr>\n",
       "      <td>4</td>\n",
       "      <td>2014</td>\n",
       "      <td>ACURA</td>\n",
       "      <td>RDX AWD</td>\n",
       "      <td>SUV - SMALL</td>\n",
       "      <td>3.5</td>\n",
       "      <td>6</td>\n",
       "      <td>AS6</td>\n",
       "      <td>Z</td>\n",
       "      <td>12.1</td>\n",
       "      <td>8.7</td>\n",
       "      <td>10.6</td>\n",
       "      <td>27</td>\n",
       "      <td>244</td>\n",
       "    </tr>\n",
       "  </tbody>\n",
       "</table>\n",
       "</div>"
      ],
      "text/plain": [
       "   MODELYEAR   MAKE       MODEL VEHICLECLASS  ENGINESIZE  CYLINDERS  \\\n",
       "0       2014  ACURA         ILX      COMPACT         2.0          4   \n",
       "1       2014  ACURA         ILX      COMPACT         2.4          4   \n",
       "2       2014  ACURA  ILX HYBRID      COMPACT         1.5          4   \n",
       "3       2014  ACURA     MDX 4WD  SUV - SMALL         3.5          6   \n",
       "4       2014  ACURA     RDX AWD  SUV - SMALL         3.5          6   \n",
       "\n",
       "  TRANSMISSION FUELTYPE  FUELCONSUMPTION_CITY  FUELCONSUMPTION_HWY  \\\n",
       "0          AS5        Z                   9.9                  6.7   \n",
       "1           M6        Z                  11.2                  7.7   \n",
       "2          AV7        Z                   6.0                  5.8   \n",
       "3          AS6        Z                  12.7                  9.1   \n",
       "4          AS6        Z                  12.1                  8.7   \n",
       "\n",
       "   FUELCONSUMPTION_COMB  FUELCONSUMPTION_COMB_MPG  CO2EMISSIONS  \n",
       "0                   8.5                        33           196  \n",
       "1                   9.6                        29           221  \n",
       "2                   5.9                        48           136  \n",
       "3                  11.1                        25           255  \n",
       "4                  10.6                        27           244  "
      ]
     },
     "execution_count": 3,
     "metadata": {},
     "output_type": "execute_result"
    }
   ],
   "source": [
    "df.head()"
   ]
  },
  {
   "cell_type": "code",
   "execution_count": 4,
   "metadata": {},
   "outputs": [
    {
     "data": {
      "text/html": [
       "<div>\n",
       "<style scoped>\n",
       "    .dataframe tbody tr th:only-of-type {\n",
       "        vertical-align: middle;\n",
       "    }\n",
       "\n",
       "    .dataframe tbody tr th {\n",
       "        vertical-align: top;\n",
       "    }\n",
       "\n",
       "    .dataframe thead th {\n",
       "        text-align: right;\n",
       "    }\n",
       "</style>\n",
       "<table border=\"1\" class=\"dataframe\">\n",
       "  <thead>\n",
       "    <tr style=\"text-align: right;\">\n",
       "      <th></th>\n",
       "      <th>MODELYEAR</th>\n",
       "      <th>MAKE</th>\n",
       "      <th>MODEL</th>\n",
       "      <th>VEHICLECLASS</th>\n",
       "      <th>ENGINESIZE</th>\n",
       "      <th>CYLINDERS</th>\n",
       "      <th>TRANSMISSION</th>\n",
       "      <th>FUELTYPE</th>\n",
       "      <th>FUELCONSUMPTION_CITY</th>\n",
       "      <th>FUELCONSUMPTION_HWY</th>\n",
       "      <th>FUELCONSUMPTION_COMB</th>\n",
       "      <th>FUELCONSUMPTION_COMB_MPG</th>\n",
       "      <th>CO2EMISSIONS</th>\n",
       "    </tr>\n",
       "  </thead>\n",
       "  <tbody>\n",
       "    <tr>\n",
       "      <td>count</td>\n",
       "      <td>1067.0</td>\n",
       "      <td>1067</td>\n",
       "      <td>1067</td>\n",
       "      <td>1067</td>\n",
       "      <td>1067.000000</td>\n",
       "      <td>1067.000000</td>\n",
       "      <td>1067</td>\n",
       "      <td>1067</td>\n",
       "      <td>1067.000000</td>\n",
       "      <td>1067.000000</td>\n",
       "      <td>1067.000000</td>\n",
       "      <td>1067.000000</td>\n",
       "      <td>1067.000000</td>\n",
       "    </tr>\n",
       "    <tr>\n",
       "      <td>unique</td>\n",
       "      <td>NaN</td>\n",
       "      <td>39</td>\n",
       "      <td>663</td>\n",
       "      <td>16</td>\n",
       "      <td>NaN</td>\n",
       "      <td>NaN</td>\n",
       "      <td>22</td>\n",
       "      <td>4</td>\n",
       "      <td>NaN</td>\n",
       "      <td>NaN</td>\n",
       "      <td>NaN</td>\n",
       "      <td>NaN</td>\n",
       "      <td>NaN</td>\n",
       "    </tr>\n",
       "    <tr>\n",
       "      <td>top</td>\n",
       "      <td>NaN</td>\n",
       "      <td>FORD</td>\n",
       "      <td>F150 FFV</td>\n",
       "      <td>MID-SIZE</td>\n",
       "      <td>NaN</td>\n",
       "      <td>NaN</td>\n",
       "      <td>A6</td>\n",
       "      <td>X</td>\n",
       "      <td>NaN</td>\n",
       "      <td>NaN</td>\n",
       "      <td>NaN</td>\n",
       "      <td>NaN</td>\n",
       "      <td>NaN</td>\n",
       "    </tr>\n",
       "    <tr>\n",
       "      <td>freq</td>\n",
       "      <td>NaN</td>\n",
       "      <td>90</td>\n",
       "      <td>8</td>\n",
       "      <td>178</td>\n",
       "      <td>NaN</td>\n",
       "      <td>NaN</td>\n",
       "      <td>222</td>\n",
       "      <td>514</td>\n",
       "      <td>NaN</td>\n",
       "      <td>NaN</td>\n",
       "      <td>NaN</td>\n",
       "      <td>NaN</td>\n",
       "      <td>NaN</td>\n",
       "    </tr>\n",
       "    <tr>\n",
       "      <td>mean</td>\n",
       "      <td>2014.0</td>\n",
       "      <td>NaN</td>\n",
       "      <td>NaN</td>\n",
       "      <td>NaN</td>\n",
       "      <td>3.346298</td>\n",
       "      <td>5.794752</td>\n",
       "      <td>NaN</td>\n",
       "      <td>NaN</td>\n",
       "      <td>13.296532</td>\n",
       "      <td>9.474602</td>\n",
       "      <td>11.580881</td>\n",
       "      <td>26.441425</td>\n",
       "      <td>256.228679</td>\n",
       "    </tr>\n",
       "    <tr>\n",
       "      <td>std</td>\n",
       "      <td>0.0</td>\n",
       "      <td>NaN</td>\n",
       "      <td>NaN</td>\n",
       "      <td>NaN</td>\n",
       "      <td>1.415895</td>\n",
       "      <td>1.797447</td>\n",
       "      <td>NaN</td>\n",
       "      <td>NaN</td>\n",
       "      <td>4.101253</td>\n",
       "      <td>2.794510</td>\n",
       "      <td>3.485595</td>\n",
       "      <td>7.468702</td>\n",
       "      <td>63.372304</td>\n",
       "    </tr>\n",
       "    <tr>\n",
       "      <td>min</td>\n",
       "      <td>2014.0</td>\n",
       "      <td>NaN</td>\n",
       "      <td>NaN</td>\n",
       "      <td>NaN</td>\n",
       "      <td>1.000000</td>\n",
       "      <td>3.000000</td>\n",
       "      <td>NaN</td>\n",
       "      <td>NaN</td>\n",
       "      <td>4.600000</td>\n",
       "      <td>4.900000</td>\n",
       "      <td>4.700000</td>\n",
       "      <td>11.000000</td>\n",
       "      <td>108.000000</td>\n",
       "    </tr>\n",
       "    <tr>\n",
       "      <td>25%</td>\n",
       "      <td>2014.0</td>\n",
       "      <td>NaN</td>\n",
       "      <td>NaN</td>\n",
       "      <td>NaN</td>\n",
       "      <td>2.000000</td>\n",
       "      <td>4.000000</td>\n",
       "      <td>NaN</td>\n",
       "      <td>NaN</td>\n",
       "      <td>10.250000</td>\n",
       "      <td>7.500000</td>\n",
       "      <td>9.000000</td>\n",
       "      <td>21.000000</td>\n",
       "      <td>207.000000</td>\n",
       "    </tr>\n",
       "    <tr>\n",
       "      <td>50%</td>\n",
       "      <td>2014.0</td>\n",
       "      <td>NaN</td>\n",
       "      <td>NaN</td>\n",
       "      <td>NaN</td>\n",
       "      <td>3.400000</td>\n",
       "      <td>6.000000</td>\n",
       "      <td>NaN</td>\n",
       "      <td>NaN</td>\n",
       "      <td>12.600000</td>\n",
       "      <td>8.800000</td>\n",
       "      <td>10.900000</td>\n",
       "      <td>26.000000</td>\n",
       "      <td>251.000000</td>\n",
       "    </tr>\n",
       "    <tr>\n",
       "      <td>75%</td>\n",
       "      <td>2014.0</td>\n",
       "      <td>NaN</td>\n",
       "      <td>NaN</td>\n",
       "      <td>NaN</td>\n",
       "      <td>4.300000</td>\n",
       "      <td>8.000000</td>\n",
       "      <td>NaN</td>\n",
       "      <td>NaN</td>\n",
       "      <td>15.550000</td>\n",
       "      <td>10.850000</td>\n",
       "      <td>13.350000</td>\n",
       "      <td>31.000000</td>\n",
       "      <td>294.000000</td>\n",
       "    </tr>\n",
       "    <tr>\n",
       "      <td>max</td>\n",
       "      <td>2014.0</td>\n",
       "      <td>NaN</td>\n",
       "      <td>NaN</td>\n",
       "      <td>NaN</td>\n",
       "      <td>8.400000</td>\n",
       "      <td>12.000000</td>\n",
       "      <td>NaN</td>\n",
       "      <td>NaN</td>\n",
       "      <td>30.200000</td>\n",
       "      <td>20.500000</td>\n",
       "      <td>25.800000</td>\n",
       "      <td>60.000000</td>\n",
       "      <td>488.000000</td>\n",
       "    </tr>\n",
       "  </tbody>\n",
       "</table>\n",
       "</div>"
      ],
      "text/plain": [
       "        MODELYEAR  MAKE     MODEL VEHICLECLASS   ENGINESIZE    CYLINDERS  \\\n",
       "count      1067.0  1067      1067         1067  1067.000000  1067.000000   \n",
       "unique        NaN    39       663           16          NaN          NaN   \n",
       "top           NaN  FORD  F150 FFV     MID-SIZE          NaN          NaN   \n",
       "freq          NaN    90         8          178          NaN          NaN   \n",
       "mean       2014.0   NaN       NaN          NaN     3.346298     5.794752   \n",
       "std           0.0   NaN       NaN          NaN     1.415895     1.797447   \n",
       "min        2014.0   NaN       NaN          NaN     1.000000     3.000000   \n",
       "25%        2014.0   NaN       NaN          NaN     2.000000     4.000000   \n",
       "50%        2014.0   NaN       NaN          NaN     3.400000     6.000000   \n",
       "75%        2014.0   NaN       NaN          NaN     4.300000     8.000000   \n",
       "max        2014.0   NaN       NaN          NaN     8.400000    12.000000   \n",
       "\n",
       "       TRANSMISSION FUELTYPE  FUELCONSUMPTION_CITY  FUELCONSUMPTION_HWY  \\\n",
       "count          1067     1067           1067.000000          1067.000000   \n",
       "unique           22        4                   NaN                  NaN   \n",
       "top              A6        X                   NaN                  NaN   \n",
       "freq            222      514                   NaN                  NaN   \n",
       "mean            NaN      NaN             13.296532             9.474602   \n",
       "std             NaN      NaN              4.101253             2.794510   \n",
       "min             NaN      NaN              4.600000             4.900000   \n",
       "25%             NaN      NaN             10.250000             7.500000   \n",
       "50%             NaN      NaN             12.600000             8.800000   \n",
       "75%             NaN      NaN             15.550000            10.850000   \n",
       "max             NaN      NaN             30.200000            20.500000   \n",
       "\n",
       "        FUELCONSUMPTION_COMB  FUELCONSUMPTION_COMB_MPG  CO2EMISSIONS  \n",
       "count            1067.000000               1067.000000   1067.000000  \n",
       "unique                   NaN                       NaN           NaN  \n",
       "top                      NaN                       NaN           NaN  \n",
       "freq                     NaN                       NaN           NaN  \n",
       "mean               11.580881                 26.441425    256.228679  \n",
       "std                 3.485595                  7.468702     63.372304  \n",
       "min                 4.700000                 11.000000    108.000000  \n",
       "25%                 9.000000                 21.000000    207.000000  \n",
       "50%                10.900000                 26.000000    251.000000  \n",
       "75%                13.350000                 31.000000    294.000000  \n",
       "max                25.800000                 60.000000    488.000000  "
      ]
     },
     "execution_count": 4,
     "metadata": {},
     "output_type": "execute_result"
    }
   ],
   "source": [
    "df.describe(include = 'all')            # to get basic statistics about the data"
   ]
  },
  {
   "cell_type": "markdown",
   "metadata": {},
   "source": [
    "Let's select some features for futher exploration"
   ]
  },
  {
   "cell_type": "code",
   "execution_count": 5,
   "metadata": {},
   "outputs": [],
   "source": [
    "cdf = df[['ENGINESIZE', 'CYLINDERS', 'FUELCONSUMPTION_COMB', 'CO2EMISSIONS']]"
   ]
  },
  {
   "cell_type": "markdown",
   "metadata": {},
   "source": [
    "We can plot each of these features"
   ]
  },
  {
   "cell_type": "code",
   "execution_count": 6,
   "metadata": {},
   "outputs": [
    {
     "data": {
      "image/png": "[encoded data removed]",
      "text/plain": [
       "<Figure size 432x288 with 4 Axes>"
      ]
     },
     "metadata": {
      "needs_background": "light"
     },
     "output_type": "display_data"
    }
   ],
   "source": [
    "viz = cdf[['ENGINESIZE', 'CYLINDERS', 'FUELCONSUMPTION_COMB', 'CO2EMISSIONS']]\n",
    "viz.hist()\n",
    "plt.show()"
   ]
  },
  {
   "cell_type": "markdown",
   "metadata": {},
   "source": [
    "Now, let's plot these features vs the Emission to see how linear is their relation:"
   ]
  },
  {
   "cell_type": "code",
   "execution_count": 7,
   "metadata": {},
   "outputs": [
    {
     "data": {
      "image/png": "[encoded data removed]",
      "text/plain": [
       "<Figure size 432x288 with 1 Axes>"
      ]
     },
     "metadata": {
      "needs_background": "light"
     },
     "output_type": "display_data"
    }
   ],
   "source": [
    "plt.scatter(cdf.FUELCONSUMPTION_COMB, cdf.CO2EMISSIONS, color = 'blue')\n",
    "plt.xlabel('FUELCONSUMPTION_COMB')\n",
    "plt.ylabel('CO2EMISSIONS')\n",
    "plt.show()"
   ]
  },
  {
   "cell_type": "code",
   "execution_count": 8,
   "metadata": {},
   "outputs": [
    {
     "data": {
      "image/png": "[encoded data removed]",
      "text/plain": [
       "<Figure size 432x288 with 1 Axes>"
      ]
     },
     "metadata": {
      "needs_background": "light"
     },
     "output_type": "display_data"
    }
   ],
   "source": [
    "plt.scatter(cdf.ENGINESIZE, cdf.CO2EMISSIONS, color = 'blue')\n",
    "plt.xlabel('ENGINESIZE')\n",
    "plt.ylabel('CO2EMISSIONS')\n",
    "plt.show()"
   ]
  },
  {
   "cell_type": "markdown",
   "metadata": {},
   "source": [
    "Lets split our dataset into train and test sets, 80% of the entire data for training, and the rest 20% for testing. We create a mask to select random rows:"
   ]
  },
  {
   "cell_type": "code",
   "execution_count": 9,
   "metadata": {},
   "outputs": [
    {
     "name": "stdout",
     "output_type": "stream",
     "text": [
      "<class 'pandas.core.frame.DataFrame'> <class 'pandas.core.frame.DataFrame'>\n",
      "(826, 4) (241, 4)\n"
     ]
    }
   ],
   "source": [
    "mask = np.random.rand(len(cdf)) < 0.8\n",
    "\n",
    "train = cdf[mask]\n",
    "test = cdf[~mask]\n",
    "\n",
    "print(type(train), type(test))\n",
    "print(train.shape, test.shape)"
   ]
  },
  {
   "cell_type": "markdown",
   "metadata": {},
   "source": [
    "Let's use scikit-learn to model engine-size vs Co2 emissions"
   ]
  },
  {
   "cell_type": "code",
   "execution_count": 10,
   "metadata": {},
   "outputs": [
    {
     "name": "stdout",
     "output_type": "stream",
     "text": [
      "[124.08635239] [[39.60127705]]\n"
     ]
    }
   ],
   "source": [
    "lr = linear_model.LinearRegression()\n",
    "train_x = np.array(train[['ENGINESIZE']])\n",
    "train_y = np.array(train[['CO2EMISSIONS']])\n",
    "lr.fit(train_x, train_y)\n",
    "print(lr.intercept_, lr.coef_)"
   ]
  },
  {
   "cell_type": "markdown",
   "metadata": {},
   "source": [
    "Let's plot the data alongwith the fitted line"
   ]
  },
  {
   "cell_type": "code",
   "execution_count": 11,
   "metadata": {},
   "outputs": [
    {
     "data": {
      "text/plain": [
       "Text(0, 0.5, 'CO2EMISSIONS')"
      ]
     },
     "execution_count": 11,
     "metadata": {},
     "output_type": "execute_result"
    },
    {
     "data": {
      "image/png": "[encoded data removed]",
      "text/plain": [
       "<Figure size 432x288 with 1 Axes>"
      ]
     },
     "metadata": {
      "needs_background": "light"
     },
     "output_type": "display_data"
    }
   ],
   "source": [
    "plt.scatter(train.ENGINESIZE, train.CO2EMISSIONS, color = 'blue')\n",
    "plt.plot(train_x, lr.coef_[0][0]*train_x + lr.intercept_[0], '-r')\n",
    "plt.xlabel('ENGINESIZE')\n",
    "plt.ylabel('CO2EMISSIONS')"
   ]
  },
  {
   "cell_type": "code",
   "execution_count": 12,
   "metadata": {},
   "outputs": [
    {
     "name": "stdout",
     "output_type": "stream",
     "text": [
      "mean absolute error : 23.40\n",
      "residual sum of squares (MSE) : 926.50\n",
      "R2-score : 0.74\n"
     ]
    }
   ],
   "source": [
    "test_x = np.array(test[['ENGINESIZE']])\n",
    "test_y = np.array(test[['CO2EMISSIONS']])\n",
    "test_yhat = lr.predict(test_x)\n",
    "\n",
    "print('mean absolute error : %.2f' % np.mean(np.absolute(test_yhat - test_y)))\n",
    "print('residual sum of squares (MSE) : %.2f' % np.mean((test_yhat - test_y)**2))\n",
    "print('R2-score : %.2f' % r2_score(test_yhat, test_y))"
   ]
  },
  {
   "cell_type": "code",
   "execution_count": null,
   "metadata": {},
   "outputs": [],
   "source": []
  }
 ],
 "metadata": {
  "kernelspec": {
   "display_name": "Python 3",
   "language": "python",
   "name": "python3"
  },
  "language_info": {
   "codemirror_mode": {
    "name": "ipython",
    "version": 3
   },
   "file_extension": ".py",
   "mimetype": "text/x-python",
   "name": "python",
   "nbconvert_exporter": "python",
   "pygments_lexer": "ipython3",
   "version": "3.7.4"
  }
 },
 "nbformat": 4,
 "nbformat_minor": 2
}
